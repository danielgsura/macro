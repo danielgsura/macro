{
 "cells": [
  {
   "cell_type": "markdown",
   "id": "62888245",
   "metadata": {},
   "source": [
    "fuente replica: https://www.mdpi.com/2071-1050/14/7/3977\n",
    "\n",
    "**Datos:**\n",
    "* household debt: https://www.imf.org/external/datamapper/HH_LS@GDD/CAN/GBR/USA/DEU/ITA/FRA/JPN/VNM\n",
    "* economic growth: https://data.worldbank.org/indicator/NY.GDP.MKTP.KD.ZG\n",
    "* inflation: https://data.worldbank.org/indicator/FP.CPI.TOTL.ZG\n",
    "* expenditure to gdp: https://www.imf.org/external/datamapper/exp@FPP/USA/FRA/JPN/GBR/SWE/ESP/ITA/ZAF/IND\n",
    "* house price index: https://www.banrep.gov.co/en/home-price-index-hpi\n",
    "* interest rate: https://data.worldbank.org/indicator/FR.INR.RINR\n",
    "* banrep rate: https://www.banrep.gov.co/es/estadisticas/tasas-interes-politica-monetaria\n",
    "* unemployment: https://data.worldbank.org/indicator/SL.UEM.TOTL.NE.ZS"
   ]
  },
  {
   "cell_type": "code",
   "execution_count": 2,
   "id": "883270a8",
   "metadata": {},
   "outputs": [],
   "source": [
    "import pandas as pd\n",
    "import numpy as np\n",
    "import matplotlib.pyplot as plt\n",
    "import seaborn as sns\n",
    "import statsmodels.api as sm"
   ]
  },
  {
   "cell_type": "code",
   "execution_count": 6,
   "id": "743baea1",
   "metadata": {},
   "outputs": [
    {
     "data": {
      "text/html": [
       "<div>\n",
       "<style scoped>\n",
       "    .dataframe tbody tr th:only-of-type {\n",
       "        vertical-align: middle;\n",
       "    }\n",
       "\n",
       "    .dataframe tbody tr th {\n",
       "        vertical-align: top;\n",
       "    }\n",
       "\n",
       "    .dataframe thead th {\n",
       "        text-align: right;\n",
       "    }\n",
       "</style>\n",
       "<table border=\"1\" class=\"dataframe\">\n",
       "  <thead>\n",
       "    <tr style=\"text-align: right;\">\n",
       "      <th></th>\n",
       "      <th>year</th>\n",
       "      <th>debt</th>\n",
       "      <th>gdp_growth</th>\n",
       "      <th>gov_exp</th>\n",
       "      <th>interest_rate</th>\n",
       "      <th>inflation</th>\n",
       "      <th>house_price</th>\n",
       "      <th>unemployment</th>\n",
       "    </tr>\n",
       "  </thead>\n",
       "  <tbody>\n",
       "    <tr>\n",
       "      <th>0</th>\n",
       "      <td>1996</td>\n",
       "      <td>0.164994</td>\n",
       "      <td>0.020559</td>\n",
       "      <td>0.15700</td>\n",
       "      <td>0.209582</td>\n",
       "      <td>0.207976</td>\n",
       "      <td>356.193509</td>\n",
       "      <td>0.1181</td>\n",
       "    </tr>\n",
       "    <tr>\n",
       "      <th>1</th>\n",
       "      <td>1997</td>\n",
       "      <td>0.153769</td>\n",
       "      <td>0.034303</td>\n",
       "      <td>0.16300</td>\n",
       "      <td>0.144389</td>\n",
       "      <td>0.184700</td>\n",
       "      <td>395.009767</td>\n",
       "      <td>0.1214</td>\n",
       "    </tr>\n",
       "    <tr>\n",
       "      <th>2</th>\n",
       "      <td>1998</td>\n",
       "      <td>0.151111</td>\n",
       "      <td>0.005698</td>\n",
       "      <td>0.17000</td>\n",
       "      <td>0.233781</td>\n",
       "      <td>0.186770</td>\n",
       "      <td>437.285522</td>\n",
       "      <td>0.1500</td>\n",
       "    </tr>\n",
       "    <tr>\n",
       "      <th>3</th>\n",
       "      <td>1999</td>\n",
       "      <td>0.135627</td>\n",
       "      <td>-0.042040</td>\n",
       "      <td>0.19300</td>\n",
       "      <td>0.149196</td>\n",
       "      <td>0.108737</td>\n",
       "      <td>432.748329</td>\n",
       "      <td>0.2006</td>\n",
       "    </tr>\n",
       "    <tr>\n",
       "      <th>4</th>\n",
       "      <td>2000</td>\n",
       "      <td>0.097182</td>\n",
       "      <td>0.029249</td>\n",
       "      <td>0.26579</td>\n",
       "      <td>-0.111380</td>\n",
       "      <td>0.092253</td>\n",
       "      <td>436.153652</td>\n",
       "      <td>0.2052</td>\n",
       "    </tr>\n",
       "  </tbody>\n",
       "</table>\n",
       "</div>"
      ],
      "text/plain": [
       "   year      debt  gdp_growth  gov_exp  interest_rate  inflation  house_price  \\\n",
       "0  1996  0.164994    0.020559  0.15700       0.209582   0.207976   356.193509   \n",
       "1  1997  0.153769    0.034303  0.16300       0.144389   0.184700   395.009767   \n",
       "2  1998  0.151111    0.005698  0.17000       0.233781   0.186770   437.285522   \n",
       "3  1999  0.135627   -0.042040  0.19300       0.149196   0.108737   432.748329   \n",
       "4  2000  0.097182    0.029249  0.26579      -0.111380   0.092253   436.153652   \n",
       "\n",
       "   unemployment  \n",
       "0        0.1181  \n",
       "1        0.1214  \n",
       "2        0.1500  \n",
       "3        0.2006  \n",
       "4        0.2052  "
      ]
     },
     "execution_count": 6,
     "metadata": {},
     "output_type": "execute_result"
    }
   ],
   "source": [
    "df = pd.read_excel('silver_colombia.xlsx')\n",
    "df.head()"
   ]
  },
  {
   "cell_type": "code",
   "execution_count": 7,
   "id": "2ecf3464",
   "metadata": {},
   "outputs": [],
   "source": [
    "df['log_house_price'] = np.log(df['house_price'])"
   ]
  },
  {
   "cell_type": "code",
   "execution_count": 10,
   "id": "131daab9",
   "metadata": {},
   "outputs": [
    {
     "data": {
      "text/plain": [
       "<Axes: >"
      ]
     },
     "execution_count": 10,
     "metadata": {},
     "output_type": "execute_result"
    },
    {
     "data": {
      "image/png": "[encoded data removed]",
      "text/plain": [
       "<Figure size 432x288 with 2 Axes>"
      ]
     },
     "metadata": {
      "needs_background": "light"
     },
     "output_type": "display_data"
    }
   ],
   "source": [
    "df_corr = df.drop(columns = ['house_price', 'year']).corr()\n",
    "sns.heatmap(df_corr, annot = True, cmap='coolwarm')"
   ]
  },
  {
   "cell_type": "code",
   "execution_count": 11,
   "id": "7210ec26",
   "metadata": {},
   "outputs": [
    {
     "data": {
      "text/plain": [
       "Index(['year', 'debt', 'gdp_growth', 'gov_exp', 'interest_rate', 'inflation',\n",
       "       'house_price', 'unemployment', 'log_house_price'],\n",
       "      dtype='object')"
      ]
     },
     "execution_count": 11,
     "metadata": {},
     "output_type": "execute_result"
    }
   ],
   "source": [
    "df.columns"
   ]
  },
  {
   "cell_type": "code",
   "execution_count": 13,
   "id": "bb230a0b",
   "metadata": {},
   "outputs": [
    {
     "data": {
      "text/html": [
       "<table class=\"simpletable\">\n",
       "<caption>OLS Regression Results</caption>\n",
       "<tr>\n",
       "  <th>Dep. Variable:</th>          <td>debt</td>       <th>  R-squared:         </th> <td>   0.973</td>\n",
       "</tr>\n",
       "<tr>\n",
       "  <th>Model:</th>                   <td>OLS</td>       <th>  Adj. R-squared:    </th> <td>   0.965</td>\n",
       "</tr>\n",
       "<tr>\n",
       "  <th>Method:</th>             <td>Least Squares</td>  <th>  F-statistic:       </th> <td>   115.8</td>\n",
       "</tr>\n",
       "<tr>\n",
       "  <th>Date:</th>             <td>Thu, 29 Jun 2023</td> <th>  Prob (F-statistic):</th> <td>6.28e-14</td>\n",
       "</tr>\n",
       "<tr>\n",
       "  <th>Time:</th>                 <td>13:22:35</td>     <th>  Log-Likelihood:    </th> <td>  79.575</td>\n",
       "</tr>\n",
       "<tr>\n",
       "  <th>No. Observations:</th>      <td>    26</td>      <th>  AIC:               </th> <td>  -145.1</td>\n",
       "</tr>\n",
       "<tr>\n",
       "  <th>Df Residuals:</th>          <td>    19</td>      <th>  BIC:               </th> <td>  -136.3</td>\n",
       "</tr>\n",
       "<tr>\n",
       "  <th>Df Model:</th>              <td>     6</td>      <th>                     </th>     <td> </td>   \n",
       "</tr>\n",
       "<tr>\n",
       "  <th>Covariance Type:</th>      <td>nonrobust</td>    <th>                     </th>     <td> </td>   \n",
       "</tr>\n",
       "</table>\n",
       "<table class=\"simpletable\">\n",
       "<tr>\n",
       "         <td></td>            <th>coef</th>     <th>std err</th>      <th>t</th>      <th>P>|t|</th>  <th>[0.025</th>    <th>0.975]</th>  \n",
       "</tr>\n",
       "<tr>\n",
       "  <th>const</th>           <td>   -0.7766</td> <td>    0.067</td> <td>  -11.549</td> <td> 0.000</td> <td>   -0.917</td> <td>   -0.636</td>\n",
       "</tr>\n",
       "<tr>\n",
       "  <th>gdp_growth</th>      <td>   -0.0123</td> <td>    0.107</td> <td>   -0.115</td> <td> 0.910</td> <td>   -0.236</td> <td>    0.211</td>\n",
       "</tr>\n",
       "<tr>\n",
       "  <th>gov_exp</th>         <td>   -0.3075</td> <td>    0.178</td> <td>   -1.723</td> <td> 0.101</td> <td>   -0.681</td> <td>    0.066</td>\n",
       "</tr>\n",
       "<tr>\n",
       "  <th>interest_rate</th>   <td>    0.0514</td> <td>    0.072</td> <td>    0.719</td> <td> 0.481</td> <td>   -0.098</td> <td>    0.201</td>\n",
       "</tr>\n",
       "<tr>\n",
       "  <th>inflation</th>       <td>    0.3107</td> <td>    0.138</td> <td>    2.247</td> <td> 0.037</td> <td>    0.021</td> <td>    0.600</td>\n",
       "</tr>\n",
       "<tr>\n",
       "  <th>unemployment</th>    <td>    0.1567</td> <td>    0.139</td> <td>    1.126</td> <td> 0.274</td> <td>   -0.135</td> <td>    0.448</td>\n",
       "</tr>\n",
       "<tr>\n",
       "  <th>log_house_price</th> <td>    0.1487</td> <td>    0.009</td> <td>   16.550</td> <td> 0.000</td> <td>    0.130</td> <td>    0.167</td>\n",
       "</tr>\n",
       "</table>\n",
       "<table class=\"simpletable\">\n",
       "<tr>\n",
       "  <th>Omnibus:</th>       <td> 0.079</td> <th>  Durbin-Watson:     </th> <td>   1.547</td>\n",
       "</tr>\n",
       "<tr>\n",
       "  <th>Prob(Omnibus):</th> <td> 0.961</td> <th>  Jarque-Bera (JB):  </th> <td>   0.040</td>\n",
       "</tr>\n",
       "<tr>\n",
       "  <th>Skew:</th>          <td> 0.004</td> <th>  Prob(JB):          </th> <td>   0.980</td>\n",
       "</tr>\n",
       "<tr>\n",
       "  <th>Kurtosis:</th>      <td> 2.809</td> <th>  Cond. No.          </th> <td>    574.</td>\n",
       "</tr>\n",
       "</table><br/><br/>Notes:<br/>[1] Standard Errors assume that the covariance matrix of the errors is correctly specified."
      ],
      "text/plain": [
       "<class 'statsmodels.iolib.summary.Summary'>\n",
       "\"\"\"\n",
       "                            OLS Regression Results                            \n",
       "==============================================================================\n",
       "Dep. Variable:                   debt   R-squared:                       0.973\n",
       "Model:                            OLS   Adj. R-squared:                  0.965\n",
       "Method:                 Least Squares   F-statistic:                     115.8\n",
       "Date:                Thu, 29 Jun 2023   Prob (F-statistic):           6.28e-14\n",
       "Time:                        13:22:35   Log-Likelihood:                 79.575\n",
       "No. Observations:                  26   AIC:                            -145.1\n",
       "Df Residuals:                      19   BIC:                            -136.3\n",
       "Df Model:                           6                                         \n",
       "Covariance Type:            nonrobust                                         \n",
       "===================================================================================\n",
       "                      coef    std err          t      P>|t|      [0.025      0.975]\n",
       "-----------------------------------------------------------------------------------\n",
       "const              -0.7766      0.067    -11.549      0.000      -0.917      -0.636\n",
       "gdp_growth         -0.0123      0.107     -0.115      0.910      -0.236       0.211\n",
       "gov_exp            -0.3075      0.178     -1.723      0.101      -0.681       0.066\n",
       "interest_rate       0.0514      0.072      0.719      0.481      -0.098       0.201\n",
       "inflation           0.3107      0.138      2.247      0.037       0.021       0.600\n",
       "unemployment        0.1567      0.139      1.126      0.274      -0.135       0.448\n",
       "log_house_price     0.1487      0.009     16.550      0.000       0.130       0.167\n",
       "==============================================================================\n",
       "Omnibus:                        0.079   Durbin-Watson:                   1.547\n",
       "Prob(Omnibus):                  0.961   Jarque-Bera (JB):                0.040\n",
       "Skew:                           0.004   Prob(JB):                        0.980\n",
       "Kurtosis:                       2.809   Cond. No.                         574.\n",
       "==============================================================================\n",
       "\n",
       "Notes:\n",
       "[1] Standard Errors assume that the covariance matrix of the errors is correctly specified.\n",
       "\"\"\""
      ]
     },
     "execution_count": 13,
     "metadata": {},
     "output_type": "execute_result"
    }
   ],
   "source": [
    "X = df[[ 'gdp_growth', 'gov_exp', 'interest_rate', 'inflation', 'unemployment', 'log_house_price']]\n",
    "y = df['debt']\n",
    "X = sm.add_constant(X)\n",
    "model = sm.OLS(y, X)\n",
    "results = model.fit()\n",
    "results.summary()"
   ]
  }
 ],
 "metadata": {
  "kernelspec": {
   "display_name": "Python 3 (ipykernel)",
   "language": "python",
   "name": "python3"
  },
  "language_info": {
   "codemirror_mode": {
    "name": "ipython",
    "version": 3
   },
   "file_extension": ".py",
   "mimetype": "text/x-python",
   "name": "python",
   "nbconvert_exporter": "python",
   "pygments_lexer": "ipython3",
   "version": "3.9.12"
  }
 },
 "nbformat": 4,
 "nbformat_minor": 5
}
