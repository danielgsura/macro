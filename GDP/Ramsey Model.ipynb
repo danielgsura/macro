{
 "cells": [
  {
   "cell_type": "code",
   "execution_count": 1,
   "id": "ab0d87f8",
   "metadata": {},
   "outputs": [
    {
     "data": {
      "image/png": "[encoded data removed]",
      "text/plain": [
       "<Figure size 432x288 with 1 Axes>"
      ]
     },
     "metadata": {
      "needs_background": "light"
     },
     "output_type": "display_data"
    }
   ],
   "source": [
    "import numpy as np\n",
    "from scipy.optimize import minimize_scalar\n",
    "from scipy.integrate import solve_ivp\n",
    "import matplotlib.pyplot as plt\n",
    "\n",
    "# Model parameters\n",
    "alpha = 0.3   # capital share in production function\n",
    "beta = 0.96   # discount factor\n",
    "delta = 0.1   # depreciation rate\n",
    "sigma = 2     # intertemporal elasticity of substitution\n",
    "tau = 0.2     # import tax\n",
    "h = 0.1       # labor supply\n",
    "\n",
    "# Production function\n",
    "def f(k):\n",
    "    return k**alpha\n",
    "\n",
    "# Derivative of production function\n",
    "def f_prime(k):\n",
    "    return alpha * k**(alpha - 1)\n",
    "\n",
    "# Utility function\n",
    "def u(c):\n",
    "    return (c**(1 - sigma) - 1) / (1 - sigma)\n",
    "\n",
    "# Derivative of utility function\n",
    "def u_prime(c):\n",
    "    return c**(-sigma)\n",
    "\n",
    "# Objective function for optimal consumption\n",
    "def obj(c, r, w):\n",
    "    return -u(c) + beta * (1 + r - delta) * u_prime(w * (1 - tau) + (r + 1 - delta) * (1 - tau) - c)\n",
    "\n",
    "# Find optimal consumption given interest rate and wage rate\n",
    "def solve_optimal_consumption(r, w):\n",
    "    result = minimize_scalar(lambda c: obj(c, r, w), bounds=(0, w * (1 - tau) + (r + 1 - delta) * (1 - tau)), method='bounded')\n",
    "    return result.x\n",
    "\n",
    "# Solow-Swan model with endogenous labor supply\n",
    "def solow_swan_with_labor(t, y):\n",
    "    k, z = y\n",
    "    r = alpha * z * (k**(alpha - 1)) + 1 - delta\n",
    "    w = (1 - alpha) * z * (k**alpha)\n",
    "    c = solve_optimal_consumption(r, w)\n",
    "    dkdt = s * (w * (1 - tau) + (r + 1 - delta) * (1 - tau) - c) - delta * k\n",
    "    dzdt = 0\n",
    "    return [dkdt, dzdt]\n",
    "\n",
    "# Initial conditions\n",
    "k0 = 1\n",
    "z0 = 1\n",
    "\n",
    "# Time horizon\n",
    "T = 100\n",
    "\n",
    "# Saving rate\n",
    "s = 0.3\n",
    "\n",
    "# Solve the model numerically\n",
    "solution = solve_ivp(solow_swan_with_labor, [0, T], [k0, z0], t_eval=np.linspace(0, T, 100))\n",
    "\n",
    "# Plot the results\n",
    "plt.plot(solution.t, solution.y[0], label='Capital')\n",
    "plt.plot(solution.t, solution.y[1], label='Technology')\n",
    "plt.legend()\n",
    "plt.xlabel('Time')\n",
    "plt.ylabel('Level')\n",
    "plt.title('Solow-Swan Model with Endogenous Labor Supply')\n",
    "plt.show()\n"
   ]
  }
 ],
 "metadata": {
  "kernelspec": {
   "display_name": "Python 3 (ipykernel)",
   "language": "python",
   "name": "python3"
  },
  "language_info": {
   "codemirror_mode": {
    "name": "ipython",
    "version": 3
   },
   "file_extension": ".py",
   "mimetype": "text/x-python",
   "name": "python",
   "nbconvert_exporter": "python",
   "pygments_lexer": "ipython3",
   "version": "3.10.8"
  }
 },
 "nbformat": 4,
 "nbformat_minor": 5
}
