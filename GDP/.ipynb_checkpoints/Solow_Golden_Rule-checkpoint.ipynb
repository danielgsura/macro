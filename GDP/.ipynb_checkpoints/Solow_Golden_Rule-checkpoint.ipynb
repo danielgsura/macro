{
 "cells": [
  {
   "cell_type": "markdown",
   "id": "64f7298d",
   "metadata": {},
   "source": [
    "# Golden rule savings rate\n",
    "(long run interest rate)"
   ]
  },
  {
   "cell_type": "code",
   "execution_count": 22,
   "id": "fa9eb377",
   "metadata": {},
   "outputs": [],
   "source": [
    "import pandas as pd\n",
    "import numpy as np\n",
    "import statsmodels.api as sm\n",
    "import matplotlib.pyplot as plt\n",
    "import seaborn as sns"
   ]
  },
  {
   "cell_type": "markdown",
   "id": "871adf7e",
   "metadata": {},
   "source": [
    "To calculate the savings rate in the Solow-Swan model, we need to use the equation for steady state capital per effective worker, which is given by:\n",
    "```k_star = (s * A * (L / K) ** (1 - alpha) / delta) ** (1 / (alpha - 1))```\n",
    "where:\n",
    "*\tk_star is the steady state capital per effective worker\n",
    "*\ts is the savings rate\n",
    "*\tA is the level of technology\n",
    "*\tL is the labor force\n",
    "*\tK is the total stock of capital\n",
    "*\talpha is the share of capital in output\n",
    "*\tdelta is the depreciation rate\n",
    "\n",
    "To solve for s, we can rearrange the above equation as:\n",
    "\n",
    "```s = ((delta + n + g) / (A * (L / K) ** (1 - alpha))) ** (1 / alpha)```\n",
    "\n",
    "where:\n",
    "*\tn is the rate of population growth\n",
    "*\tg is the rate of technological progress\n"
   ]
  },
  {
   "cell_type": "code",
   "execution_count": 23,
   "id": "eba4bc6e",
   "metadata": {},
   "outputs": [],
   "source": [
    "def savings_rate(K, L, A, alpha, delta, n, g):\n",
    "    \"\"\"\n",
    "    Calculates the savings rate required to achieve steady state capital per effective worker\n",
    "    given the values of K, L, A, alpha, delta, n, and g.\n",
    "    \"\"\"\n",
    "    s = ((delta + n + g) / (A * (L / K) ** (1 - alpha))) ** (1 / alpha)\n",
    "    return s\n"
   ]
  },
  {
   "cell_type": "code",
   "execution_count": 24,
   "id": "cb43305f",
   "metadata": {},
   "outputs": [
    {
     "name": "stdout",
     "output_type": "stream",
     "text": [
      "0.0027432352757170665\n"
     ]
    }
   ],
   "source": [
    "s = savings_rate(K=100, L=10, A=1, alpha=0.3, delta=0.004, n=0.02, g=0.01)\n",
    "print(s)"
   ]
  },
  {
   "cell_type": "code",
   "execution_count": 25,
   "id": "00c3b9e8",
   "metadata": {},
   "outputs": [
    {
     "data": {
      "text/plain": [
       "0.036"
      ]
     },
     "execution_count": 25,
     "metadata": {},
     "output_type": "execute_result"
    }
   ],
   "source": [
    "savings_rate(K = 100, L = 10, A = 1, alpha = 0.5, delta = 0.03, n = 0.01, g=0.02)"
   ]
  },
  {
   "cell_type": "markdown",
   "id": "ab186cb3",
   "metadata": {},
   "source": [
    "# Data"
   ]
  },
  {
   "cell_type": "code",
   "execution_count": 26,
   "id": "731d35cf",
   "metadata": {},
   "outputs": [
    {
     "data": {
      "text/html": [
       "<div>\n",
       "<style scoped>\n",
       "    .dataframe tbody tr th:only-of-type {\n",
       "        vertical-align: middle;\n",
       "    }\n",
       "\n",
       "    .dataframe tbody tr th {\n",
       "        vertical-align: top;\n",
       "    }\n",
       "\n",
       "    .dataframe thead th {\n",
       "        text-align: right;\n",
       "    }\n",
       "</style>\n",
       "<table border=\"1\" class=\"dataframe\">\n",
       "  <thead>\n",
       "    <tr style=\"text-align: right;\">\n",
       "      <th></th>\n",
       "      <th>countrycode</th>\n",
       "      <th>country</th>\n",
       "      <th>currency_unit</th>\n",
       "      <th>year</th>\n",
       "      <th>rgdpe</th>\n",
       "      <th>rgdpo</th>\n",
       "      <th>pop</th>\n",
       "      <th>emp</th>\n",
       "      <th>avh</th>\n",
       "      <th>emp x avh</th>\n",
       "      <th>...</th>\n",
       "      <th>csh_x</th>\n",
       "      <th>csh_m</th>\n",
       "      <th>csh_r</th>\n",
       "      <th>pl_c</th>\n",
       "      <th>pl_i</th>\n",
       "      <th>pl_g</th>\n",
       "      <th>pl_x</th>\n",
       "      <th>pl_m</th>\n",
       "      <th>pl_n</th>\n",
       "      <th>pl_k</th>\n",
       "    </tr>\n",
       "  </thead>\n",
       "  <tbody>\n",
       "    <tr>\n",
       "      <th>0</th>\n",
       "      <td>ABW</td>\n",
       "      <td>Aruba</td>\n",
       "      <td>Aruban Guilder</td>\n",
       "      <td>1950</td>\n",
       "      <td>NaN</td>\n",
       "      <td>NaN</td>\n",
       "      <td>NaN</td>\n",
       "      <td>NaN</td>\n",
       "      <td>NaN</td>\n",
       "      <td>NaN</td>\n",
       "      <td>...</td>\n",
       "      <td>NaN</td>\n",
       "      <td>NaN</td>\n",
       "      <td>NaN</td>\n",
       "      <td>NaN</td>\n",
       "      <td>NaN</td>\n",
       "      <td>NaN</td>\n",
       "      <td>NaN</td>\n",
       "      <td>NaN</td>\n",
       "      <td>NaN</td>\n",
       "      <td>NaN</td>\n",
       "    </tr>\n",
       "    <tr>\n",
       "      <th>1</th>\n",
       "      <td>ABW</td>\n",
       "      <td>Aruba</td>\n",
       "      <td>Aruban Guilder</td>\n",
       "      <td>1951</td>\n",
       "      <td>NaN</td>\n",
       "      <td>NaN</td>\n",
       "      <td>NaN</td>\n",
       "      <td>NaN</td>\n",
       "      <td>NaN</td>\n",
       "      <td>NaN</td>\n",
       "      <td>...</td>\n",
       "      <td>NaN</td>\n",
       "      <td>NaN</td>\n",
       "      <td>NaN</td>\n",
       "      <td>NaN</td>\n",
       "      <td>NaN</td>\n",
       "      <td>NaN</td>\n",
       "      <td>NaN</td>\n",
       "      <td>NaN</td>\n",
       "      <td>NaN</td>\n",
       "      <td>NaN</td>\n",
       "    </tr>\n",
       "    <tr>\n",
       "      <th>2</th>\n",
       "      <td>ABW</td>\n",
       "      <td>Aruba</td>\n",
       "      <td>Aruban Guilder</td>\n",
       "      <td>1952</td>\n",
       "      <td>NaN</td>\n",
       "      <td>NaN</td>\n",
       "      <td>NaN</td>\n",
       "      <td>NaN</td>\n",
       "      <td>NaN</td>\n",
       "      <td>NaN</td>\n",
       "      <td>...</td>\n",
       "      <td>NaN</td>\n",
       "      <td>NaN</td>\n",
       "      <td>NaN</td>\n",
       "      <td>NaN</td>\n",
       "      <td>NaN</td>\n",
       "      <td>NaN</td>\n",
       "      <td>NaN</td>\n",
       "      <td>NaN</td>\n",
       "      <td>NaN</td>\n",
       "      <td>NaN</td>\n",
       "    </tr>\n",
       "    <tr>\n",
       "      <th>3</th>\n",
       "      <td>ABW</td>\n",
       "      <td>Aruba</td>\n",
       "      <td>Aruban Guilder</td>\n",
       "      <td>1953</td>\n",
       "      <td>NaN</td>\n",
       "      <td>NaN</td>\n",
       "      <td>NaN</td>\n",
       "      <td>NaN</td>\n",
       "      <td>NaN</td>\n",
       "      <td>NaN</td>\n",
       "      <td>...</td>\n",
       "      <td>NaN</td>\n",
       "      <td>NaN</td>\n",
       "      <td>NaN</td>\n",
       "      <td>NaN</td>\n",
       "      <td>NaN</td>\n",
       "      <td>NaN</td>\n",
       "      <td>NaN</td>\n",
       "      <td>NaN</td>\n",
       "      <td>NaN</td>\n",
       "      <td>NaN</td>\n",
       "    </tr>\n",
       "    <tr>\n",
       "      <th>4</th>\n",
       "      <td>ABW</td>\n",
       "      <td>Aruba</td>\n",
       "      <td>Aruban Guilder</td>\n",
       "      <td>1954</td>\n",
       "      <td>NaN</td>\n",
       "      <td>NaN</td>\n",
       "      <td>NaN</td>\n",
       "      <td>NaN</td>\n",
       "      <td>NaN</td>\n",
       "      <td>NaN</td>\n",
       "      <td>...</td>\n",
       "      <td>NaN</td>\n",
       "      <td>NaN</td>\n",
       "      <td>NaN</td>\n",
       "      <td>NaN</td>\n",
       "      <td>NaN</td>\n",
       "      <td>NaN</td>\n",
       "      <td>NaN</td>\n",
       "      <td>NaN</td>\n",
       "      <td>NaN</td>\n",
       "      <td>NaN</td>\n",
       "    </tr>\n",
       "  </tbody>\n",
       "</table>\n",
       "<p>5 rows × 53 columns</p>\n",
       "</div>"
      ],
      "text/plain": [
       "  countrycode country   currency_unit  year  rgdpe  rgdpo  pop  emp  avh  \\\n",
       "0         ABW   Aruba  Aruban Guilder  1950    NaN    NaN  NaN  NaN  NaN   \n",
       "1         ABW   Aruba  Aruban Guilder  1951    NaN    NaN  NaN  NaN  NaN   \n",
       "2         ABW   Aruba  Aruban Guilder  1952    NaN    NaN  NaN  NaN  NaN   \n",
       "3         ABW   Aruba  Aruban Guilder  1953    NaN    NaN  NaN  NaN  NaN   \n",
       "4         ABW   Aruba  Aruban Guilder  1954    NaN    NaN  NaN  NaN  NaN   \n",
       "\n",
       "   emp x avh  ...  csh_x  csh_m  csh_r  pl_c  pl_i  pl_g  pl_x  pl_m  pl_n  \\\n",
       "0        NaN  ...    NaN    NaN    NaN   NaN   NaN   NaN   NaN   NaN   NaN   \n",
       "1        NaN  ...    NaN    NaN    NaN   NaN   NaN   NaN   NaN   NaN   NaN   \n",
       "2        NaN  ...    NaN    NaN    NaN   NaN   NaN   NaN   NaN   NaN   NaN   \n",
       "3        NaN  ...    NaN    NaN    NaN   NaN   NaN   NaN   NaN   NaN   NaN   \n",
       "4        NaN  ...    NaN    NaN    NaN   NaN   NaN   NaN   NaN   NaN   NaN   \n",
       "\n",
       "   pl_k  \n",
       "0   NaN  \n",
       "1   NaN  \n",
       "2   NaN  \n",
       "3   NaN  \n",
       "4   NaN  \n",
       "\n",
       "[5 rows x 53 columns]"
      ]
     },
     "execution_count": 26,
     "metadata": {},
     "output_type": "execute_result"
    }
   ],
   "source": [
    "df = pd.read_excel('pwt1001.xlsx', sheet_name = 'Data')\n",
    "df.head()"
   ]
  },
  {
   "cell_type": "code",
   "execution_count": 27,
   "id": "c10d8f29",
   "metadata": {},
   "outputs": [
    {
     "data": {
      "text/plain": [
       "Index(['countrycode', 'country', 'currency_unit', 'year', 'rgdpe', 'rgdpo',\n",
       "       'pop', 'emp', 'avh', 'emp x avh', 'hc', 'ccon', 'cda', 'cgdpe', 'cgdpo',\n",
       "       'cn', 'ck', 'ctfp', 'cwtfp', 'rgdpna', 'rconna', 'rdana', 'rnna',\n",
       "       'rkna', 'rtfpna', 'rwtfpna', 'labsh', 'irr', 'delta', 'xr', 'pl_con',\n",
       "       'pl_da', 'pl_gdpo', 'i_cig', 'i_xm', 'i_xr', 'i_outlier', 'i_irr',\n",
       "       'cor_exp', 'statcap', 'csh_c', 'csh_i', 'csh_g', 'csh_x', 'csh_m',\n",
       "       'csh_r', 'pl_c', 'pl_i', 'pl_g', 'pl_x', 'pl_m', 'pl_n', 'pl_k'],\n",
       "      dtype='object')"
      ]
     },
     "execution_count": 27,
     "metadata": {},
     "output_type": "execute_result"
    }
   ],
   "source": [
    "df.columns"
   ]
  },
  {
   "cell_type": "code",
   "execution_count": 31,
   "id": "324ad7bd",
   "metadata": {},
   "outputs": [
    {
     "data": {
      "text/html": [
       "<div>\n",
       "<style scoped>\n",
       "    .dataframe tbody tr th:only-of-type {\n",
       "        vertical-align: middle;\n",
       "    }\n",
       "\n",
       "    .dataframe tbody tr th {\n",
       "        vertical-align: top;\n",
       "    }\n",
       "\n",
       "    .dataframe thead th {\n",
       "        text-align: right;\n",
       "    }\n",
       "</style>\n",
       "<table border=\"1\" class=\"dataframe\">\n",
       "  <thead>\n",
       "    <tr style=\"text-align: right;\">\n",
       "      <th></th>\n",
       "      <th>countrycode</th>\n",
       "      <th>country</th>\n",
       "      <th>currency_unit</th>\n",
       "      <th>year</th>\n",
       "      <th>rgdpe</th>\n",
       "      <th>rgdpo</th>\n",
       "      <th>pop</th>\n",
       "      <th>emp</th>\n",
       "      <th>avh</th>\n",
       "      <th>emp x avh</th>\n",
       "      <th>...</th>\n",
       "      <th>csh_x</th>\n",
       "      <th>csh_m</th>\n",
       "      <th>csh_r</th>\n",
       "      <th>pl_c</th>\n",
       "      <th>pl_i</th>\n",
       "      <th>pl_g</th>\n",
       "      <th>pl_x</th>\n",
       "      <th>pl_m</th>\n",
       "      <th>pl_n</th>\n",
       "      <th>pl_k</th>\n",
       "    </tr>\n",
       "  </thead>\n",
       "  <tbody>\n",
       "    <tr>\n",
       "      <th>9240</th>\n",
       "      <td>PAN</td>\n",
       "      <td>Panama</td>\n",
       "      <td>Balboa</td>\n",
       "      <td>1950</td>\n",
       "      <td>2078.012207</td>\n",
       "      <td>1921.755249</td>\n",
       "      <td>0.885651</td>\n",
       "      <td>NaN</td>\n",
       "      <td>NaN</td>\n",
       "      <td>NaN</td>\n",
       "      <td>...</td>\n",
       "      <td>0.106793</td>\n",
       "      <td>-0.400704</td>\n",
       "      <td>0.084311</td>\n",
       "      <td>0.153162</td>\n",
       "      <td>0.131216</td>\n",
       "      <td>0.080722</td>\n",
       "      <td>0.102351</td>\n",
       "      <td>0.090788</td>\n",
       "      <td>0.120985</td>\n",
       "      <td>NaN</td>\n",
       "    </tr>\n",
       "    <tr>\n",
       "      <th>9241</th>\n",
       "      <td>PAN</td>\n",
       "      <td>Panama</td>\n",
       "      <td>Balboa</td>\n",
       "      <td>1951</td>\n",
       "      <td>1996.005859</td>\n",
       "      <td>1901.684326</td>\n",
       "      <td>0.908532</td>\n",
       "      <td>NaN</td>\n",
       "      <td>NaN</td>\n",
       "      <td>NaN</td>\n",
       "      <td>...</td>\n",
       "      <td>0.112405</td>\n",
       "      <td>-0.430872</td>\n",
       "      <td>0.064015</td>\n",
       "      <td>0.166374</td>\n",
       "      <td>0.139399</td>\n",
       "      <td>0.074093</td>\n",
       "      <td>0.101690</td>\n",
       "      <td>0.093115</td>\n",
       "      <td>0.132908</td>\n",
       "      <td>NaN</td>\n",
       "    </tr>\n",
       "    <tr>\n",
       "      <th>9242</th>\n",
       "      <td>PAN</td>\n",
       "      <td>Panama</td>\n",
       "      <td>Balboa</td>\n",
       "      <td>1952</td>\n",
       "      <td>2187.624023</td>\n",
       "      <td>2050.210449</td>\n",
       "      <td>0.932863</td>\n",
       "      <td>NaN</td>\n",
       "      <td>NaN</td>\n",
       "      <td>NaN</td>\n",
       "      <td>...</td>\n",
       "      <td>0.098670</td>\n",
       "      <td>-0.434843</td>\n",
       "      <td>0.058567</td>\n",
       "      <td>0.156638</td>\n",
       "      <td>0.137192</td>\n",
       "      <td>0.083935</td>\n",
       "      <td>0.108251</td>\n",
       "      <td>0.093171</td>\n",
       "      <td>0.132033</td>\n",
       "      <td>NaN</td>\n",
       "    </tr>\n",
       "    <tr>\n",
       "      <th>9243</th>\n",
       "      <td>PAN</td>\n",
       "      <td>Panama</td>\n",
       "      <td>Balboa</td>\n",
       "      <td>1953</td>\n",
       "      <td>2315.174561</td>\n",
       "      <td>2193.881836</td>\n",
       "      <td>0.954802</td>\n",
       "      <td>NaN</td>\n",
       "      <td>NaN</td>\n",
       "      <td>NaN</td>\n",
       "      <td>...</td>\n",
       "      <td>0.091398</td>\n",
       "      <td>-0.359453</td>\n",
       "      <td>0.079405</td>\n",
       "      <td>0.156600</td>\n",
       "      <td>0.137115</td>\n",
       "      <td>0.078497</td>\n",
       "      <td>0.115268</td>\n",
       "      <td>0.100838</td>\n",
       "      <td>0.130280</td>\n",
       "      <td>NaN</td>\n",
       "    </tr>\n",
       "    <tr>\n",
       "      <th>9244</th>\n",
       "      <td>PAN</td>\n",
       "      <td>Panama</td>\n",
       "      <td>Balboa</td>\n",
       "      <td>1954</td>\n",
       "      <td>2486.115234</td>\n",
       "      <td>2331.908936</td>\n",
       "      <td>0.977504</td>\n",
       "      <td>NaN</td>\n",
       "      <td>NaN</td>\n",
       "      <td>NaN</td>\n",
       "      <td>...</td>\n",
       "      <td>0.081896</td>\n",
       "      <td>-0.350062</td>\n",
       "      <td>0.066534</td>\n",
       "      <td>0.152390</td>\n",
       "      <td>0.129525</td>\n",
       "      <td>0.080320</td>\n",
       "      <td>0.122086</td>\n",
       "      <td>0.097309</td>\n",
       "      <td>0.121526</td>\n",
       "      <td>NaN</td>\n",
       "    </tr>\n",
       "  </tbody>\n",
       "</table>\n",
       "<p>5 rows × 53 columns</p>\n",
       "</div>"
      ],
      "text/plain": [
       "     countrycode country currency_unit  year        rgdpe        rgdpo  \\\n",
       "9240         PAN  Panama        Balboa  1950  2078.012207  1921.755249   \n",
       "9241         PAN  Panama        Balboa  1951  1996.005859  1901.684326   \n",
       "9242         PAN  Panama        Balboa  1952  2187.624023  2050.210449   \n",
       "9243         PAN  Panama        Balboa  1953  2315.174561  2193.881836   \n",
       "9244         PAN  Panama        Balboa  1954  2486.115234  2331.908936   \n",
       "\n",
       "           pop  emp  avh  emp x avh  ...     csh_x     csh_m     csh_r  \\\n",
       "9240  0.885651  NaN  NaN        NaN  ...  0.106793 -0.400704  0.084311   \n",
       "9241  0.908532  NaN  NaN        NaN  ...  0.112405 -0.430872  0.064015   \n",
       "9242  0.932863  NaN  NaN        NaN  ...  0.098670 -0.434843  0.058567   \n",
       "9243  0.954802  NaN  NaN        NaN  ...  0.091398 -0.359453  0.079405   \n",
       "9244  0.977504  NaN  NaN        NaN  ...  0.081896 -0.350062  0.066534   \n",
       "\n",
       "          pl_c      pl_i      pl_g      pl_x      pl_m      pl_n  pl_k  \n",
       "9240  0.153162  0.131216  0.080722  0.102351  0.090788  0.120985   NaN  \n",
       "9241  0.166374  0.139399  0.074093  0.101690  0.093115  0.132908   NaN  \n",
       "9242  0.156638  0.137192  0.083935  0.108251  0.093171  0.132033   NaN  \n",
       "9243  0.156600  0.137115  0.078497  0.115268  0.100838  0.130280   NaN  \n",
       "9244  0.152390  0.129525  0.080320  0.122086  0.097309  0.121526   NaN  \n",
       "\n",
       "[5 rows x 53 columns]"
      ]
     },
     "execution_count": 31,
     "metadata": {},
     "output_type": "execute_result"
    }
   ],
   "source": [
    "df_pan = df[df['country'] == 'Panama']\n",
    "df_pan.head()"
   ]
  },
  {
   "cell_type": "markdown",
   "id": "c436a33c",
   "metadata": {},
   "source": [
    "important columns:\n",
    "* rgdpo = Output-side real GDP at chained PPPs (in mil. 2017USD)\n",
    "* pop= Population (in millions)\n",
    "* emp = Number of persons engaged (in millions)\n",
    "* ccon\t = Real consumption of households and government, at current PPPs (in mil. 2017USD)\n",
    "* cn = Capital stock at current PPPs (in mil. 2017USD)\n",
    "* ctfp = TFP level at current PPPs (USA=1)\n",
    "* cwtfp =  TFP of workers at current PPPs (USA=1)\n"
   ]
  },
  {
   "cell_type": "code",
   "execution_count": 32,
   "id": "ab3def2b",
   "metadata": {},
   "outputs": [
    {
     "data": {
      "text/html": [
       "<div>\n",
       "<style scoped>\n",
       "    .dataframe tbody tr th:only-of-type {\n",
       "        vertical-align: middle;\n",
       "    }\n",
       "\n",
       "    .dataframe tbody tr th {\n",
       "        vertical-align: top;\n",
       "    }\n",
       "\n",
       "    .dataframe thead th {\n",
       "        text-align: right;\n",
       "    }\n",
       "</style>\n",
       "<table border=\"1\" class=\"dataframe\">\n",
       "  <thead>\n",
       "    <tr style=\"text-align: right;\">\n",
       "      <th></th>\n",
       "      <th>year</th>\n",
       "      <th>rgdpo</th>\n",
       "      <th>pop</th>\n",
       "      <th>emp</th>\n",
       "      <th>ccon</th>\n",
       "      <th>cn</th>\n",
       "      <th>ctfp</th>\n",
       "      <th>cwtfp</th>\n",
       "    </tr>\n",
       "  </thead>\n",
       "  <tbody>\n",
       "    <tr>\n",
       "      <th>0</th>\n",
       "      <td>1969</td>\n",
       "      <td>6775.033691</td>\n",
       "      <td>1.477365</td>\n",
       "      <td>0.4203</td>\n",
       "      <td>6192.045410</td>\n",
       "      <td>9836.221680</td>\n",
       "      <td>0.937487</td>\n",
       "      <td>1.025832</td>\n",
       "    </tr>\n",
       "    <tr>\n",
       "      <th>1</th>\n",
       "      <td>1970</td>\n",
       "      <td>8086.922852</td>\n",
       "      <td>1.519285</td>\n",
       "      <td>0.4343</td>\n",
       "      <td>6954.911621</td>\n",
       "      <td>11342.275391</td>\n",
       "      <td>1.044254</td>\n",
       "      <td>1.129560</td>\n",
       "    </tr>\n",
       "    <tr>\n",
       "      <th>2</th>\n",
       "      <td>1971</td>\n",
       "      <td>8992.350586</td>\n",
       "      <td>1.563093</td>\n",
       "      <td>0.4413</td>\n",
       "      <td>7487.617676</td>\n",
       "      <td>12949.618164</td>\n",
       "      <td>1.071301</td>\n",
       "      <td>1.153605</td>\n",
       "    </tr>\n",
       "    <tr>\n",
       "      <th>3</th>\n",
       "      <td>1972</td>\n",
       "      <td>9551.375977</td>\n",
       "      <td>1.607796</td>\n",
       "      <td>0.4554</td>\n",
       "      <td>7760.539551</td>\n",
       "      <td>14960.575195</td>\n",
       "      <td>1.027299</td>\n",
       "      <td>1.102712</td>\n",
       "    </tr>\n",
       "    <tr>\n",
       "      <th>4</th>\n",
       "      <td>1973</td>\n",
       "      <td>10033.276367</td>\n",
       "      <td>1.653212</td>\n",
       "      <td>0.4641</td>\n",
       "      <td>7904.164551</td>\n",
       "      <td>16842.597656</td>\n",
       "      <td>0.978292</td>\n",
       "      <td>1.047618</td>\n",
       "    </tr>\n",
       "  </tbody>\n",
       "</table>\n",
       "</div>"
      ],
      "text/plain": [
       "   year         rgdpo       pop     emp         ccon            cn      ctfp  \\\n",
       "0  1969   6775.033691  1.477365  0.4203  6192.045410   9836.221680  0.937487   \n",
       "1  1970   8086.922852  1.519285  0.4343  6954.911621  11342.275391  1.044254   \n",
       "2  1971   8992.350586  1.563093  0.4413  7487.617676  12949.618164  1.071301   \n",
       "3  1972   9551.375977  1.607796  0.4554  7760.539551  14960.575195  1.027299   \n",
       "4  1973  10033.276367  1.653212  0.4641  7904.164551  16842.597656  0.978292   \n",
       "\n",
       "      cwtfp  \n",
       "0  1.025832  \n",
       "1  1.129560  \n",
       "2  1.153605  \n",
       "3  1.102712  \n",
       "4  1.047618  "
      ]
     },
     "execution_count": 32,
     "metadata": {},
     "output_type": "execute_result"
    }
   ],
   "source": [
    "df_pan = df_pan[['year','rgdpo', 'pop','emp' ,'ccon', 'cn', 'ctfp', 'cwtfp']]\n",
    "df_pan = df_pan[~df_pan['ctfp'].isna()]\n",
    "df_pan.reset_index(inplace = True, drop = True)\n",
    "df_pan.head()"
   ]
  },
  {
   "cell_type": "markdown",
   "id": "56a16e6c",
   "metadata": {},
   "source": [
    "Get rates of growth:\n",
    "\n",
    "* n is the rate of population growth\n",
    "* g is the rate of technological progress"
   ]
  },
  {
   "cell_type": "code",
   "execution_count": 33,
   "id": "ead9c52b",
   "metadata": {},
   "outputs": [
    {
     "name": "stdout",
     "output_type": "stream",
     "text": [
      "0.021347081796005276 Population growth rate\n",
      "-0.0019058575789706283 Technology growth rate, measured by TFP\n"
     ]
    }
   ],
   "source": [
    "df_pan['pop_pct'] = df_pan['pop'].pct_change()\n",
    "df_pan['ctfp_pct'] = df_pan['ctfp'].pct_change()\n",
    "df_pan['cwtfp_pct'] = df_pan['cwtfp'].pct_change()\n",
    "\n",
    "df_pan.dropna(inplace = True)\n",
    "df_pan.reset_index(inplace = True, drop = True)\n",
    "\n",
    "df_pan['cycle_pop'], df_pan['trend_pop'] = sm.tsa.filters.hpfilter(df_pan['pop_pct'], 100)\n",
    "df_pan['cycle_ctfp'], df_pan['trend_ctfp'] = sm.tsa.filters.hpfilter(df_pan['ctfp_pct'], 100)\n",
    "df_pan['cycle_cwtfp'], df_pan['trend_cwtfp'] = sm.tsa.filters.hpfilter(df_pan['cwtfp_pct'], 100)\n",
    "n = df_pan['trend_pop'].mean()\n",
    "g = df_pan['trend_ctfp'].mean()\n",
    "gw = df_pan['trend_cwtfp'].mean()\n",
    "df_pan['min_r'] = df_pan['trend_pop'] + df_pan['trend_ctfp']\n",
    "print(n, 'Population growth rate')\n",
    "print(g, 'Technology growth rate, measured by TFP')"
   ]
  },
  {
   "cell_type": "code",
   "execution_count": 34,
   "id": "9be9c9ae",
   "metadata": {},
   "outputs": [
    {
     "data": {
      "text/plain": [
       "-0.003993691252187456"
      ]
     },
     "execution_count": 34,
     "metadata": {},
     "output_type": "execute_result"
    }
   ],
   "source": [
    "gw"
   ]
  },
  {
   "cell_type": "markdown",
   "id": "afdae815",
   "metadata": {},
   "source": [
    "## Ramsey Cass Koopmans "
   ]
  },
  {
   "cell_type": "markdown",
   "id": "3f4c98c7",
   "metadata": {},
   "source": [
    "La tasa de interés real de largo plazo debe ser mayor que la suma\n",
    "de la tasa de crecimiento de la población y el cambio técnico la cual, de acuerdo con lo señalado\n",
    "arriba, podría ser cercana a 3% anual"
   ]
  },
  {
   "cell_type": "code",
   "execution_count": 19,
   "id": "19f7cf24",
   "metadata": {},
   "outputs": [
    {
     "data": {
      "image/png": "[encoded data removed]",
      "text/plain": [
       "<Figure size 720x576 with 1 Axes>"
      ]
     },
     "metadata": {
      "needs_background": "light"
     },
     "output_type": "display_data"
    }
   ],
   "source": [
    "plt.figure(figsize = (10,8))\n",
    "plt.plot(df_pan.year, df_pan.trend_pop, label = 'n')\n",
    "plt.plot(df_pan.year, df_pan.trend_ctfp, label = 'g')\n",
    "plt.plot(df_pan.year, df_pan.min_r, label = 'min_r')\n",
    "plt.legend()\n",
    "plt.title('Tasa interés piso modelo RCK')\n",
    "plt.show()"
   ]
  },
  {
   "cell_type": "markdown",
   "id": "7c446dfc",
   "metadata": {},
   "source": [
    "El piso denominado por la suma del crecimiento de la población y el crecimiento de la tecnología es negativo, por el decrecimiento tecnológico. si asumimos crecimiento tecnológico en 0 el piso es el crecimiento de la población"
   ]
  },
  {
   "cell_type": "code",
   "execution_count": 43,
   "id": "7773291b",
   "metadata": {},
   "outputs": [
    {
     "name": "stdout",
     "output_type": "stream",
     "text": [
      "El piso dado por el crecimiento de la población es: 0.021347081796005276\n"
     ]
    }
   ],
   "source": [
    "print('El piso dado por el crecimiento de la población es:', n)"
   ]
  },
  {
   "cell_type": "markdown",
   "id": "72063046",
   "metadata": {},
   "source": [
    "## Replica Banrep"
   ]
  },
  {
   "cell_type": "markdown",
   "id": "7d901a5f",
   "metadata": {},
   "source": [
    "El stock de capital debe tender al estado estacionario, cuando la productividad marginal del capital neta de depreciación tienda a $\\rho + \\theta g_{A} $,en donde $\\rho$, $\\theta$ y $g_{A}$ representan, espectivamente, la tasa subjetiva de descuento, la aversión al riesgo y el cambio técnico (crecimiento técnología medido por TFP)\n",
    "\n",
    "Desigualdad (restricción de prespuesto) intertemporal hace que:\n",
    "$$\\rho + \\theta g_{A} > n + g_{A}$$\n",
    "\n",
    "\n",
    "\n",
    "* $\\rho = 3.61$ según paper  https://journals.sagepub.com/doi/pdf/10.1177/1091142119890369\n",
    "\n",
    "* $\\rho =  0.53154$ ,$ 0.70737$  , $0.99163$ según Carlos Esteban Posada https://repository.eafit.edu.co/bitstream/handle/10784/30905/Workingpaper%20Esteban%20Posada.pdf?sequence=2&isAllowed=y\n",
    "\n",
    "* $\\theta= 0.18$ según FED en 2014 https://files.stlouisfed.org/files/htdocs/wp/2014/2014-005.pdf\n",
    "\n",
    "* $g_{A} = -0.001$ según Penn World Table TFP"
   ]
  },
  {
   "cell_type": "code",
   "execution_count": 49,
   "id": "50ffb88e",
   "metadata": {},
   "outputs": [
    {
     "name": "stdout",
     "output_type": "stream",
     "text": [
      "El interés de estado estacionario debería ser al menos 0.035756945635785284\n"
     ]
    }
   ],
   "source": [
    "rho = 0.0361\n",
    "theta = 0.18\n",
    "r_ss = rho + (theta * g)\n",
    "print('El interés de estado estacionario debería ser al menos',r_ss)"
   ]
  }
 ],
 "metadata": {
  "kernelspec": {
   "display_name": "Python 3",
   "language": "python",
   "name": "python3"
  },
  "language_info": {
   "codemirror_mode": {
    "name": "ipython",
    "version": 3
   },
   "file_extension": ".py",
   "mimetype": "text/x-python",
   "name": "python",
   "nbconvert_exporter": "python",
   "pygments_lexer": "ipython3",
   "version": "3.8.8"
  }
 },
 "nbformat": 4,
 "nbformat_minor": 5
}
