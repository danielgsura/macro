{
 "cells": [
  {
   "cell_type": "markdown",
   "id": "4276c680",
   "metadata": {},
   "source": [
    "# Golden rule approach for savings rate"
   ]
  },
  {
   "cell_type": "code",
   "execution_count": null,
   "id": "89ffa7f7",
   "metadata": {},
   "outputs": [],
   "source": [
    "import pandas as pd\n",
    "import numpy as np\n",
    "import statsmodels.api as sm\n",
    "import matplotlib.pyplot as plt\n",
    "import seaborn as sns"
   ]
  },
  {
   "cell_type": "code",
   "execution_count": null,
   "id": "08391b68",
   "metadata": {},
   "outputs": [],
   "source": [
    "df = pd.read_excel('simple_golden_rule_pan.xlsx', sheet_name = 'data')\n",
    "df.head()"
   ]
  },
  {
   "cell_type": "markdown",
   "id": "25377c79",
   "metadata": {},
   "source": [
    "## Trend GDP"
   ]
  },
  {
   "cell_type": "markdown",
   "id": "ba41c2a2",
   "metadata": {},
   "source": [
    "Hodrick & Prescott filter"
   ]
  },
  {
   "cell_type": "code",
   "execution_count": null,
   "id": "83e2727d",
   "metadata": {},
   "outputs": [],
   "source": [
    "df = df.dropna().reset_index(drop=True)\n",
    "df['cycle_k'], df['trend_k'] = sm.tsa.filters.hpfilter(df['k'], lamb= 1600)\n",
    "df['cycle_y'], df['trend_y'] = sm.tsa.filters.hpfilter(df['y'], lamb= 1600)\n",
    "df['cycle_c'], df['trend_c'] = sm.tsa.filters.hpfilter(df['c'], lamb= 1600)\n",
    "df['cycle_n'], df['trend_n'] = sm.tsa.filters.hpfilter(df['n'], lamb= 1600)"
   ]
  },
  {
   "cell_type": "markdown",
   "id": "5aae085c",
   "metadata": {},
   "source": [
    "## Steady state"
   ]
  },
  {
   "cell_type": "markdown",
   "id": "1acc6291",
   "metadata": {},
   "source": [
    "Solow growth model (and a look ahead) -  MIT: http://web.mit.edu/14.451/www/lecturenotes-Ch-2.pdf"
   ]
  },
  {
   "cell_type": "markdown",
   "id": "e6b7f911",
   "metadata": {},
   "source": [
    "Based in the Solow growth model,  the steady state can be defined as:\n",
    "$$ 0 = sf(k^{*}) - (\\delta  + n) k^{*}$$\n",
    "\n",
    "Equivalently:\n",
    "\n",
    "$$ \\frac{y^{*}}{k^{*}} =  \\phi (k^{*}) = \\frac{\\delta + n}{s} $$\n",
    "\n",
    "If we solve for $s$:\n",
    "\n",
    "$$ s = \\frac{\\delta + n}{ y^{*} / k^{*}} $$\n",
    "\n",
    "\n",
    "Where:\n",
    "\n",
    "* $k^{*}$ = = capital stock per capita in steady state\n",
    "* $k^{*}$ = output per capita in steady state\n",
    "* $ \\delta $ = capital depreciation rate\n",
    "* $ n $ = population growht rate\n",
    "* s = savings rate\n",
    "\n",
    "source = "
   ]
  },
  {
   "cell_type": "code",
   "execution_count": null,
   "id": "e6d9e100",
   "metadata": {},
   "outputs": [],
   "source": [
    "def savings_rate(delta, n, y, k):\n",
    "    \"\"\"\n",
    "    delta = capital depreciation rate\n",
    "    n = population growth rate\n",
    "    y = output per worker, i.e, GDP per capita\n",
    "    k = capital per worker\n",
    "    \"\"\"\n",
    "    s = (delta + n ) / (y/k)\n",
    "    return(s)"
   ]
  },
  {
   "cell_type": "markdown",
   "id": "6dacfa58",
   "metadata": {},
   "source": [
    "### Capital depreciation rate in Panamá"
   ]
  },
  {
   "cell_type": "markdown",
   "id": "18acf766",
   "metadata": {},
   "source": [
    "Empirical evidence:\n",
    "\n",
    "\n",
    "\"Investment and Capital Stock Depreciation in Panama\" by Samuel Mongrut Montalván. This study analyzes the determinants of investment and capital stock depreciation in Panama using data from 1996 to 2013. The study estimates an average capital depreciation rate of ```7.6%``` for all types of assets, with higher rates for machinery and equipment.\n",
    "\n",
    "\"Estimación de la tasa de depreciación de capital para la economía panameña\" by Edgar García-Sánchez and Rita G. Martínez-Vergara. This study estimates the capital depreciation rate for Panama using data from the national accounts. The study estimates a capital depreciation rate of around ```5.5%```.\n",
    "\n",
    "* The previuous range holds true according to PNA Kamps(2004)\n",
    "\n",
    "* $\\delta$ close to 4% in OECD: https://www.econstor.eu/bitstream/10419/71091/1/73983858X.pdf\n",
    "\n",
    "* $\\delta$ close to 5% in all countries: https://www.degruyter.com/document/doi/10.1515/roe-2017-0004/html?lang=de\n",
    "\n",
    "* $\\delta$ is 5% in Panama accoirding to IMF: https://www.imf.org/~/media/Files/Publications/CR/2019/cr1912-PanamaSI.ashx\n",
    "\n",
    "* $\\delta + g = $  5% According to Mankiw, Romer and Weil (1992), and given the neglibible value of $g$ in Panama, $\\delta$ = 5%\n",
    "\n",
    "\n",
    "With the evidence from Panamá and the evidence from all countries,  $\\delta$ can be in a range from ```4.4%``` to ```7.6%```, where values closer to ```5%``` are more likeley.\n"
   ]
  },
  {
   "cell_type": "code",
   "execution_count": null,
   "id": "607451ed",
   "metadata": {},
   "outputs": [],
   "source": [
    "delta_grid = np.linspace(0.044, 0.076, 100)"
   ]
  },
  {
   "cell_type": "code",
   "execution_count": null,
   "id": "088149ed",
   "metadata": {},
   "outputs": [],
   "source": [
    "media = 0.05\n",
    "maximo = 0.076\n",
    "minimo = 0.044\n",
    "desviacion = ((maximo - media) + (media - minimo))/2\n",
    "print(desviacion)"
   ]
  },
  {
   "cell_type": "code",
   "execution_count": null,
   "id": "11a35e4e",
   "metadata": {},
   "outputs": [],
   "source": [
    "#plantar semilla\n",
    "import random\n",
    "random.seed(10)"
   ]
  },
  {
   "cell_type": "code",
   "execution_count": null,
   "id": "61f64285",
   "metadata": {},
   "outputs": [],
   "source": [
    "delta_random = np.random.normal(loc = media, scale = desviacion, size = 10000)\n",
    "sns.histplot(delta_random, kde = True)\n",
    "plt.title('Delta distribution')\n",
    "plt.show()"
   ]
  },
  {
   "cell_type": "markdown",
   "id": "bebd8bc9",
   "metadata": {},
   "source": [
    "### Population growth rate\n",
    "Is calculated above for the last 30 years"
   ]
  },
  {
   "cell_type": "code",
   "execution_count": null,
   "id": "4f902ed2",
   "metadata": {},
   "outputs": [],
   "source": [
    "n_historic = df['n'][-10:].mean()\n",
    "n_historic"
   ]
  },
  {
   "cell_type": "code",
   "execution_count": null,
   "id": "15998af8",
   "metadata": {},
   "outputs": [],
   "source": [
    "n_30y = df['trend_n'][-30:].mean()\n",
    "n_30y"
   ]
  },
  {
   "cell_type": "markdown",
   "id": "f179cdca",
   "metadata": {},
   "source": [
    "Population growth n according to UN"
   ]
  },
  {
   "cell_type": "code",
   "execution_count": null,
   "id": "3001f1fa",
   "metadata": {},
   "outputs": [],
   "source": [
    "df_n = pd.read_excel('population_growth_pan.xlsx')\n",
    "df_n.head()"
   ]
  },
  {
   "cell_type": "code",
   "execution_count": null,
   "id": "3ac552f1",
   "metadata": {},
   "outputs": [],
   "source": [
    "n_medium = df_n['n_medium'][0:30].mean()\n",
    "n_high = df_n['n_high'][0:30].mean()\n",
    "n_low = df_n['n_low'][0:30].mean()\n",
    "print('Growth central estimation', n_medium)\n",
    "print('Growth higher estimation', n_high)\n",
    "print('Growth lower estimation', n_low)"
   ]
  },
  {
   "cell_type": "markdown",
   "id": "ba7282df",
   "metadata": {},
   "source": [
    "### Output and capital\n",
    "$y^{*}$ and $k^{*}$ are taken as the 2021 trend GDP per capita and Capital per worker in columns ```trend_y``` and ```trend_k```. But 2019 values could hold to drop COVID-19 effect.\n"
   ]
  },
  {
   "cell_type": "markdown",
   "id": "6a7bf7dd",
   "metadata": {},
   "source": [
    "### Savings rate"
   ]
  },
  {
   "cell_type": "code",
   "execution_count": null,
   "id": "b32e079e",
   "metadata": {},
   "outputs": [],
   "source": [
    "#Rolling 20 and 30 year mean\n",
    "df['n_20'] = df['n'].rolling(window=20).mean()\n",
    "df['n_20'].fillna(method = 'backfill', inplace = True)\n",
    "\n",
    "df['n_30'] = df['n'].rolling(window=30).mean()\n",
    "df['n_30'].fillna(method = 'backfill', inplace = True)\n",
    "df.head()\n"
   ]
  },
  {
   "cell_type": "code",
   "execution_count": null,
   "id": "5d1337ab",
   "metadata": {},
   "outputs": [],
   "source": [
    "plt.plot(df.Year, df.trend_y, label = 'output per capita')\n",
    "plt.plot(df.Year, df.trend_k, label = 'capital per capita')\n",
    "plt.legend()\n",
    "plt.title('Trend output and capital')\n",
    "plt.show()"
   ]
  },
  {
   "cell_type": "code",
   "execution_count": null,
   "id": "f24672fc",
   "metadata": {},
   "outputs": [],
   "source": [
    "y = df['trend_y'].iloc[-1] # 2021\n",
    "k = df['trend_k'].iloc[-1] # 2021\n",
    "\n",
    "\n",
    "#y = df['trend_y'].iloc[-3] # 2019\n",
    "#k = df['trend_k'].iloc[-3] # 2019\n",
    "n = n_30y\n",
    "#n = n_medium\n",
    "s_list = []\n",
    "for i in range(len(delta_grid)):\n",
    "    s = savings_rate(delta_grid[i], n, y, k)\n",
    "    s_list.append(s)"
   ]
  },
  {
   "cell_type": "code",
   "execution_count": null,
   "id": "eea55734",
   "metadata": {},
   "outputs": [],
   "source": [
    "print('The golden rule interest rate should be in this range:')\n",
    "print('min' , np.min(s_list))\n",
    "print('median' , np.mean(s_list))\n",
    "print('max' , np.max(s_list))"
   ]
  },
  {
   "cell_type": "code",
   "execution_count": null,
   "id": "87e56293",
   "metadata": {},
   "outputs": [],
   "source": [
    "# tasa según depreciación aleatoria\n",
    "s_list_random = []\n",
    "for i in range(len(delta_random)):\n",
    "    s = savings_rate(delta_random[i], n, y, k)\n",
    "    s_list_random.append(s)\n",
    "    \n",
    "print('The golden rule interest rate should be in this range:')\n",
    "print('min' , np.min(s_list_random))\n",
    "print('median' , np.mean(s_list_random))\n",
    "print('max' , np.max(s_list_random))"
   ]
  },
  {
   "cell_type": "code",
   "execution_count": null,
   "id": "517efca2",
   "metadata": {},
   "outputs": [],
   "source": [
    "s_likeley = savings_rate(0.05, n, y, k)\n",
    "s_likeley"
   ]
  },
  {
   "cell_type": "code",
   "execution_count": null,
   "id": "2f9d0848",
   "metadata": {},
   "outputs": [],
   "source": [
    "delta_mean = delta_grid.mean()\n",
    "s_historic = []\n",
    "for i in range(len(df)):\n",
    "    n = df.at[i,'n_20']\n",
    "    y = df.at[i,'trend_y']\n",
    "    k = df.at[i,'trend_k']\n",
    "    s = savings_rate(delta_mean, n, y, k)\n",
    "    s_historic.append(s)\n",
    "\n",
    "df['s'] = s_historic"
   ]
  },
  {
   "cell_type": "code",
   "execution_count": null,
   "id": "16f8d66d",
   "metadata": {},
   "outputs": [],
   "source": [
    "plt.plot(df.Year, df.s)"
   ]
  },
  {
   "cell_type": "markdown",
   "id": "f05e8a42",
   "metadata": {},
   "source": [
    "## Average valules Solow Model"
   ]
  },
  {
   "cell_type": "code",
   "execution_count": null,
   "id": "ead87073",
   "metadata": {},
   "outputs": [],
   "source": [
    "y_average = df['trend_y'].iloc[-10:].mean() # 2011 - 2021\n",
    "k_average = df['trend_k'].iloc[-10:].mean() # 2011 - 2021\n",
    "n_average =  df['n'].iloc[-10:].mean() # 2011 - 2021\n",
    "\n",
    "average_s_random = []\n",
    "\n",
    "for i in range(len(delta_random)):\n",
    "    s = savings_rate(delta_random[i], n_average, y_average, k_average)\n",
    "    average_s_random.append(s)\n",
    "\n",
    "print('Average savings rate:', np.mean(average_s_random))\n",
    "sns.histplot(average_s_random, kde = True)\n",
    "plt.title('Range of savings rate with average values and random capital depreciation')\n",
    "plt.show()"
   ]
  },
  {
   "cell_type": "markdown",
   "id": "6a5c38f1",
   "metadata": {},
   "source": [
    "# Ramsey Cass Koopmans savings rate"
   ]
  },
  {
   "cell_type": "markdown",
   "id": "0980a17e",
   "metadata": {},
   "source": [
    "According to the RCK model, the savings rate is endogenous and can be determined as follows:\n",
    "\n",
    "$$ s = \\frac{y-c}{y} $$\n",
    "\n",
    "This translates into a savings rate that is a function of $f(k)$ and $c$, transforming the steady state capital per worker to:\n",
    "$$ \\dot{k} = f(k) - c +(n+g+\\delta)k $$\n",
    "where $g$ stands for the constant growth rate of tecnology, $n$ the population growth rate and $\\delta$ the capital depreciation rate.\n",
    "\n",
    "But if we assume that the consumption and product are in their steady state, we can derive the savings rate as follows:\n",
    "\n",
    "$$ \\dot{s} = \\frac{\\dot{y}-\\dot{c}}{\\dot{y}} $$\n"
   ]
  },
  {
   "cell_type": "code",
   "execution_count": null,
   "id": "5faa71f8",
   "metadata": {},
   "outputs": [],
   "source": [
    "df['s_dot'] = (df['trend_y'] - df['trend_c'])/df['trend_y']\n",
    "plt.figure(figsize=(10,8))\n",
    "plt.plot(df.Year, df.s_dot)\n",
    "plt.title('Ramsey Cass Koopmans Savings rate')\n",
    "plt.show()"
   ]
  },
  {
   "cell_type": "markdown",
   "id": "b0435db5",
   "metadata": {},
   "source": [
    "Esta es la tasa de ahorro tendencial, no la tasa de interés. Por lo que habría que despejar la tasa de interés que resulta en esta tasa de ahorro"
   ]
  },
  {
   "cell_type": "markdown",
   "id": "8abfc6f5",
   "metadata": {},
   "source": [
    "### Endogenous Interest rate in RCK"
   ]
  },
  {
   "cell_type": "code",
   "execution_count": null,
   "id": "c893a54d",
   "metadata": {},
   "outputs": [],
   "source": [
    "df_pwt = pd.read_excel('pwt1001.xlsx', sheet_name = 'Data')\n",
    "df_pwt.head()"
   ]
  },
  {
   "cell_type": "code",
   "execution_count": null,
   "id": "e1bc6aab",
   "metadata": {},
   "outputs": [],
   "source": [
    "#filtro por panamá\n",
    "df_pan = df_pwt[df_pwt['country'] == 'Panama']\n",
    "df_pan.head()"
   ]
  },
  {
   "cell_type": "markdown",
   "id": "20b9812e",
   "metadata": {},
   "source": [
    "important columns:\n",
    "* rgdpo = Output-side real GDP at chained PPPs (in mil. 2017USD)\n",
    "* pop= Population (in millions)\n",
    "* emp = Number of persons engaged (in millions)\n",
    "* ccon\t = Real consumption of households and government, at current PPPs (in mil. 2017USD)\n",
    "* cn = Capital stock at current PPPs (in mil. 2017USD)\n",
    "* ctfp = TFP level at current PPPs (USA=1)\n",
    "* cwtfp =  TFP of workers at current PPPs (USA=1)"
   ]
  },
  {
   "cell_type": "code",
   "execution_count": null,
   "id": "b88c8f77",
   "metadata": {},
   "outputs": [],
   "source": [
    "df_pan = df_pan[['year','rgdpo', 'pop','emp' ,'ccon', 'cn', 'ctfp', 'cwtfp']]\n",
    "df_pan = df_pan[~df_pan['ctfp'].isna()]\n",
    "df_pan.reset_index(inplace = True, drop = True)\n",
    "df_pan.head()"
   ]
  },
  {
   "cell_type": "markdown",
   "id": "108a858c",
   "metadata": {},
   "source": [
    "Get rates of growth:\n",
    "\n",
    "* n is the rate of population growth\n",
    "* g is the rate of technological progress"
   ]
  },
  {
   "cell_type": "code",
   "execution_count": null,
   "id": "0e9cf3b6",
   "metadata": {},
   "outputs": [],
   "source": [
    "df_pan['pop_pct'] = df_pan['pop'].pct_change()\n",
    "df_pan['ctfp_pct'] = df_pan['ctfp'].pct_change()\n",
    "df_pan['cwtfp_pct'] = df_pan['cwtfp'].pct_change()\n",
    "\n",
    "df_pan.dropna(inplace = True)\n",
    "df_pan.reset_index(inplace = True, drop = True)\n",
    "\n",
    "df_pan['cycle_pop'], df_pan['trend_pop'] = sm.tsa.filters.hpfilter(df_pan['pop_pct'], 100)\n",
    "df_pan['cycle_ctfp'], df_pan['trend_ctfp'] = sm.tsa.filters.hpfilter(df_pan['ctfp_pct'], 100)\n",
    "df_pan['cycle_cwtfp'], df_pan['trend_cwtfp'] = sm.tsa.filters.hpfilter(df_pan['cwtfp_pct'], 100)\n",
    "n = df_pan['trend_pop'].mean()\n",
    "g = df_pan['trend_ctfp'].mean()\n",
    "gw = df_pan['trend_cwtfp'].mean()\n",
    "df_pan['min_r'] = df_pan['trend_pop'] + df_pan['trend_ctfp']\n",
    "print(n, 'Population growth rate')\n",
    "print(g, 'Technology growth rate, measured by TFP')"
   ]
  },
  {
   "cell_type": "markdown",
   "id": "2b3075b3",
   "metadata": {},
   "source": [
    "Real interest rate should be at least the sum of the population growth rate and the technology growth rate"
   ]
  },
  {
   "cell_type": "code",
   "execution_count": null,
   "id": "41f5d838",
   "metadata": {},
   "outputs": [],
   "source": [
    "min_rate = n+g\n",
    "print('The interest rate should be at least:', min_rate)"
   ]
  },
  {
   "cell_type": "code",
   "execution_count": null,
   "id": "72c34eaa",
   "metadata": {},
   "outputs": [],
   "source": [
    "plt.figure(figsize = (10,8))\n",
    "plt.plot(df_pan.year, df_pan.trend_pop, label = 'n')\n",
    "plt.plot(df_pan.year, df_pan.trend_ctfp, label = 'g')\n",
    "plt.plot(df_pan.year, df_pan.min_r, label = 'min_r')\n",
    "plt.legend()\n",
    "plt.title('Tasa interés piso modelo RCK')\n",
    "plt.show()"
   ]
  },
  {
   "cell_type": "markdown",
   "id": "d5aa4899",
   "metadata": {},
   "source": [
    "# BanRep Replica"
   ]
  },
  {
   "cell_type": "markdown",
   "id": "2ae24f69",
   "metadata": {},
   "source": [
    "The capital stock should converge to the steady state, when the maringal productivity of capital minus the capital depreciation tend to $\\rho + \\theta g_{A} $, where $\\rho$, $\\theta$ and $g_{A}$ are the subjective rate of discount, the risk aversion and the technology growht (measured by TFP)\n",
    "\n",
    "The intertemporal inequality  states that:\n",
    "$$\\rho + \\theta g_{A} > n + g_{A}$$\n",
    "\n",
    "\n",
    "\n",
    "* $\\rho = 3.61$ found in 2020:  https://journals.sagepub.com/doi/pdf/10.1177/1091142119890369\n",
    "\n",
    "* $\\theta= 0.18$ found in FED paper in 2014: https://files.stlouisfed.org/files/htdocs/wp/2014/2014-005.pdf\n",
    "\n",
    "* $g_{A} = -0.001$ found in PWT TFP change "
   ]
  },
  {
   "cell_type": "code",
   "execution_count": null,
   "id": "197268b7",
   "metadata": {},
   "outputs": [],
   "source": [
    "rho = 0.0361\n",
    "theta = 0.18\n",
    "r_ss = rho + (theta * g)\n",
    "print('Interest rate of steady state should be at least = ',r_ss)"
   ]
  },
  {
   "cell_type": "markdown",
   "id": "ba7db050",
   "metadata": {},
   "source": [
    "# Long run economic growth"
   ]
  },
  {
   "cell_type": "code",
   "execution_count": null,
   "id": "d2c41ede",
   "metadata": {},
   "outputs": [],
   "source": [
    "df.head()"
   ]
  },
  {
   "cell_type": "code",
   "execution_count": null,
   "id": "cceda056",
   "metadata": {},
   "outputs": [],
   "source": [
    "df['cycle_growth'], df['trend_growth'] = sm.tsa.filters.hpfilter(df['Y_growth'], lamb = 1600)"
   ]
  },
  {
   "cell_type": "code",
   "execution_count": null,
   "id": "c56f4583",
   "metadata": {},
   "outputs": [],
   "source": [
    "#crecimiento largo plazo\n",
    "df['trend_growth'].mean()"
   ]
  },
  {
   "cell_type": "code",
   "execution_count": null,
   "id": "8a21408f",
   "metadata": {},
   "outputs": [],
   "source": [
    "#Crecimiento de los últimos años\n",
    "df['trend_growth'].iloc[-30:].mean()"
   ]
  },
  {
   "cell_type": "code",
   "execution_count": null,
   "id": "875279b2",
   "metadata": {},
   "outputs": [],
   "source": [
    "plt.figure(figsize=(10,8))\n",
    "plt.plot(df.Year, df.trend_growth)\n",
    "plt.title('Growth trend')\n",
    "plt.show()"
   ]
  },
  {
   "cell_type": "markdown",
   "id": "c5c7d82c",
   "metadata": {},
   "source": [
    "The findings are the following:\n",
    "\n",
    "* Long run economic growth = ```5.15%```\n",
    "\n",
    "* Last 30 years trend growth = ```4.96%```\n",
    "\n",
    "* Population growth = ```1.85%```\n",
    "\n",
    "* Solow-Swan model interest rate range given a capital depreciation rate range = ```2.26%``` - ```3.42%```\n",
    "\n",
    "* Solow-Swan model interest rate range given a capital depreciation rate random range = ```0.3%``` - ```4.6%```\n",
    "\n",
    "* Minimum rate according to Ramsey-Cass-Koopmans model with external $\\rho$ and $\\theta$ = ```3.57%```\n",
    "\n",
    "* The propable values are in a range from  ```2.26%```  to ```3.57%``` with a tendency to ```2.48%``` if the Solow-Swan Model evidence is prioritized. (when capital depreciation is ```5%```)\n",
    "\n",
    "\n",
    "\n",
    "\n",
    "\n"
   ]
  }
 ],
 "metadata": {
  "kernelspec": {
   "display_name": "Python 3",
   "language": "python",
   "name": "python3"
  },
  "language_info": {
   "codemirror_mode": {
    "name": "ipython",
    "version": 3
   },
   "file_extension": ".py",
   "mimetype": "text/x-python",
   "name": "python",
   "nbconvert_exporter": "python",
   "pygments_lexer": "ipython3",
   "version": "3.8.8"
  }
 },
 "nbformat": 4,
 "nbformat_minor": 5
}
