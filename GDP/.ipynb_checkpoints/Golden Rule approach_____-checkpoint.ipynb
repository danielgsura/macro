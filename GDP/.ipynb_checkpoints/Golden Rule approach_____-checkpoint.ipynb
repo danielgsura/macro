{
 "cells": [
  {
   "cell_type": "markdown",
   "id": "4276c680",
   "metadata": {},
   "source": [
    "# Golden rule approach for savings rate"
   ]
  },
  {
   "cell_type": "code",
   "execution_count": 77,
   "id": "89ffa7f7",
   "metadata": {},
   "outputs": [],
   "source": [
    "import pandas as pd\n",
    "import numpy as np\n",
    "import statsmodels.api as sm\n",
    "import matplotlib.pyplot as plt\n",
    "import seaborn as sns"
   ]
  },
  {
   "cell_type": "code",
   "execution_count": 78,
   "id": "08391b68",
   "metadata": {},
   "outputs": [
    {
     "data": {
      "text/html": [
       "<div>\n",
       "<style scoped>\n",
       "    .dataframe tbody tr th:only-of-type {\n",
       "        vertical-align: middle;\n",
       "    }\n",
       "\n",
       "    .dataframe tbody tr th {\n",
       "        vertical-align: top;\n",
       "    }\n",
       "\n",
       "    .dataframe thead th {\n",
       "        text-align: right;\n",
       "    }\n",
       "</style>\n",
       "<table border=\"1\" class=\"dataframe\">\n",
       "  <thead>\n",
       "    <tr style=\"text-align: right;\">\n",
       "      <th></th>\n",
       "      <th>Year</th>\n",
       "      <th>K</th>\n",
       "      <th>Y</th>\n",
       "      <th>L</th>\n",
       "      <th>S_Y</th>\n",
       "      <th>C</th>\n",
       "      <th>k</th>\n",
       "      <th>y</th>\n",
       "      <th>c</th>\n",
       "      <th>Y_growth</th>\n",
       "      <th>n</th>\n",
       "    </tr>\n",
       "  </thead>\n",
       "  <tbody>\n",
       "    <tr>\n",
       "      <th>0</th>\n",
       "      <td>1960</td>\n",
       "      <td>5.715010e+08</td>\n",
       "      <td>3.068858e+09</td>\n",
       "      <td>1126989</td>\n",
       "      <td>0.199585</td>\n",
       "      <td>2.347940e+09</td>\n",
       "      <td>507.104326</td>\n",
       "      <td>2723.059769</td>\n",
       "      <td>2083.374112</td>\n",
       "      <td>NaN</td>\n",
       "      <td>NaN</td>\n",
       "    </tr>\n",
       "    <tr>\n",
       "      <th>1</th>\n",
       "      <td>1961</td>\n",
       "      <td>7.257556e+08</td>\n",
       "      <td>3.404180e+09</td>\n",
       "      <td>1160832</td>\n",
       "      <td>0.237045</td>\n",
       "      <td>2.516194e+09</td>\n",
       "      <td>625.202989</td>\n",
       "      <td>2932.534708</td>\n",
       "      <td>2167.577960</td>\n",
       "      <td>0.109266</td>\n",
       "      <td>0.030030</td>\n",
       "    </tr>\n",
       "    <tr>\n",
       "      <th>2</th>\n",
       "      <td>1962</td>\n",
       "      <td>8.176342e+08</td>\n",
       "      <td>3.684846e+09</td>\n",
       "      <td>1196289</td>\n",
       "      <td>0.257089</td>\n",
       "      <td>2.671750e+09</td>\n",
       "      <td>683.475477</td>\n",
       "      <td>3080.230465</td>\n",
       "      <td>2233.364732</td>\n",
       "      <td>0.082447</td>\n",
       "      <td>0.030544</td>\n",
       "    </tr>\n",
       "    <tr>\n",
       "      <th>3</th>\n",
       "      <td>1963</td>\n",
       "      <td>9.187848e+08</td>\n",
       "      <td>3.999487e+09</td>\n",
       "      <td>1233267</td>\n",
       "      <td>0.236907</td>\n",
       "      <td>2.958099e+09</td>\n",
       "      <td>745.000740</td>\n",
       "      <td>3243.001739</td>\n",
       "      <td>2398.587810</td>\n",
       "      <td>0.085388</td>\n",
       "      <td>0.030911</td>\n",
       "    </tr>\n",
       "    <tr>\n",
       "      <th>4</th>\n",
       "      <td>1964</td>\n",
       "      <td>8.378643e+08</td>\n",
       "      <td>4.176750e+09</td>\n",
       "      <td>1271461</td>\n",
       "      <td>0.230943</td>\n",
       "      <td>3.148576e+09</td>\n",
       "      <td>658.977623</td>\n",
       "      <td>3285.000094</td>\n",
       "      <td>2476.344615</td>\n",
       "      <td>0.044321</td>\n",
       "      <td>0.030970</td>\n",
       "    </tr>\n",
       "  </tbody>\n",
       "</table>\n",
       "</div>"
      ],
      "text/plain": [
       "   Year             K             Y        L       S_Y             C  \\\n",
       "0  1960  5.715010e+08  3.068858e+09  1126989  0.199585  2.347940e+09   \n",
       "1  1961  7.257556e+08  3.404180e+09  1160832  0.237045  2.516194e+09   \n",
       "2  1962  8.176342e+08  3.684846e+09  1196289  0.257089  2.671750e+09   \n",
       "3  1963  9.187848e+08  3.999487e+09  1233267  0.236907  2.958099e+09   \n",
       "4  1964  8.378643e+08  4.176750e+09  1271461  0.230943  3.148576e+09   \n",
       "\n",
       "            k            y            c  Y_growth         n  \n",
       "0  507.104326  2723.059769  2083.374112       NaN       NaN  \n",
       "1  625.202989  2932.534708  2167.577960  0.109266  0.030030  \n",
       "2  683.475477  3080.230465  2233.364732  0.082447  0.030544  \n",
       "3  745.000740  3243.001739  2398.587810  0.085388  0.030911  \n",
       "4  658.977623  3285.000094  2476.344615  0.044321  0.030970  "
      ]
     },
     "execution_count": 78,
     "metadata": {},
     "output_type": "execute_result"
    }
   ],
   "source": [
    "df = pd.read_excel('simple_golden_rule_pan.xlsx', sheet_name = 'data')\n",
    "df.head()"
   ]
  },
  {
   "cell_type": "markdown",
   "id": "25377c79",
   "metadata": {},
   "source": [
    "## Trend GDP"
   ]
  },
  {
   "cell_type": "markdown",
   "id": "ba41c2a2",
   "metadata": {},
   "source": [
    "Hodrick & Prescott filter"
   ]
  },
  {
   "cell_type": "code",
   "execution_count": 79,
   "id": "83e2727d",
   "metadata": {},
   "outputs": [],
   "source": [
    "df = df.dropna().reset_index(drop=True)\n",
    "df['cycle_k'], df['trend_k'] = sm.tsa.filters.hpfilter(df['k'], lamb= 1600)\n",
    "df['cycle_y'], df['trend_y'] = sm.tsa.filters.hpfilter(df['y'], lamb= 1600)\n",
    "df['cycle_c'], df['trend_c'] = sm.tsa.filters.hpfilter(df['c'], lamb= 1600)\n",
    "df['cycle_n'], df['trend_n'] = sm.tsa.filters.hpfilter(df['n'], lamb= 1600)"
   ]
  },
  {
   "cell_type": "markdown",
   "id": "5aae085c",
   "metadata": {},
   "source": [
    "## Steady state"
   ]
  },
  {
   "cell_type": "markdown",
   "id": "e6b7f911",
   "metadata": {},
   "source": [
    "Based in the Solow growth model,  the steady state can be defined as:\n",
    "$$ 0 = sf(k^{*}) - (\\delta  + n) k^{*}$$\n",
    "\n",
    "Equivalently:\n",
    "\n",
    "$$ \\frac{y^{*}}{k^{*}} =  \\phi (k^{*}) = \\frac{\\delta + n}{s} $$\n",
    "\n",
    "If we solve for $s$:\n",
    "\n",
    "$$ s = \\frac{\\delta + n}{ y^{*} / k^{*}} $$\n",
    "\n",
    "\n",
    "Where:\n",
    "\n",
    "* $k^{*}$ = = capital stock per capita in steady state\n",
    "* $k^{*}$ = output per capita in steady state\n",
    "* $ \\delta $ = capital depreciation rate\n",
    "* $ n $ = population growht rate\n",
    "* s = savings rate\n",
    "\n",
    "source = "
   ]
  },
  {
   "cell_type": "code",
   "execution_count": 80,
   "id": "e6d9e100",
   "metadata": {},
   "outputs": [],
   "source": [
    "def savings_rate(delta, n, y, k):\n",
    "    \"\"\"\n",
    "    delta = capital depreciation rate\n",
    "    n = population growth rate\n",
    "    y = output per worker, i.e, GDP per capita\n",
    "    k = capital per worker\n",
    "    \"\"\"\n",
    "    s = (delta + n ) / (y/k)\n",
    "    return(s)"
   ]
  },
  {
   "cell_type": "markdown",
   "id": "6dacfa58",
   "metadata": {},
   "source": [
    "### Capital depreciation rate in Panamá"
   ]
  },
  {
   "cell_type": "markdown",
   "id": "18acf766",
   "metadata": {},
   "source": [
    "Empirical evidence:\n",
    "\n",
    "\n",
    "\"Investment and Capital Stock Depreciation in Panama\" by Samuel Mongrut Montalván. This study analyzes the determinants of investment and capital stock depreciation in Panama using data from 1996 to 2013. The study estimates an average capital depreciation rate of ```7.6%``` for all types of assets, with higher rates for machinery and equipment.\n",
    "\n",
    "\"Estimación de la tasa de depreciación de capital para la economía panameña\" by Edgar García-Sánchez and Rita G. Martínez-Vergara. This study estimates the capital depreciation rate for Panama using data from the national accounts. The study estimates a capital depreciation rate of around ```5.5%```.\n",
    "\n",
    "* The previuous range holds true according to PNA Kamps(2004)\n",
    "\n",
    "* $\\delta$ close to 4% in OECD: https://www.econstor.eu/bitstream/10419/71091/1/73983858X.pdf\n",
    "\n",
    "* $\\delta$ close to 5% in all countries: https://www.degruyter.com/document/doi/10.1515/roe-2017-0004/html?lang=de\n",
    "\n",
    "* $\\delta$ is 5% in Panama accoirding to IMF: https://www.imf.org/~/media/Files/Publications/CR/2019/cr1912-PanamaSI.ashx\n",
    "\n",
    "\n",
    "With the evidence from Panamá and the evidence from all countries,  $\\delta$ can be in a range from ```4.4%``` to ```7.6%```, where values closer to ```5%``` are more likeley.\n"
   ]
  },
  {
   "cell_type": "code",
   "execution_count": 81,
   "id": "607451ed",
   "metadata": {},
   "outputs": [],
   "source": [
    "delta_grid = np.linspace(0.044, 0.076, 100)"
   ]
  },
  {
   "cell_type": "code",
   "execution_count": 82,
   "id": "088149ed",
   "metadata": {},
   "outputs": [
    {
     "name": "stdout",
     "output_type": "stream",
     "text": [
      "0.016\n"
     ]
    }
   ],
   "source": [
    "media = 0.05\n",
    "maximo = 0.076\n",
    "minimo = 0.044\n",
    "desviacion = ((maximo - media) + (media - minimo))/2\n",
    "print(desviacion)"
   ]
  },
  {
   "cell_type": "code",
   "execution_count": 83,
   "id": "11a35e4e",
   "metadata": {},
   "outputs": [],
   "source": [
    "#plantar semilla\n",
    "import random\n",
    "random.seed(10)"
   ]
  },
  {
   "cell_type": "code",
   "execution_count": 84,
   "id": "61f64285",
   "metadata": {},
   "outputs": [
    {
     "data": {
      "image/png": "[encoded data removed]",
      "text/plain": [
       "<Figure size 432x288 with 1 Axes>"
      ]
     },
     "metadata": {
      "needs_background": "light"
     },
     "output_type": "display_data"
    }
   ],
   "source": [
    "delta_random = np.random.normal(loc = media, scale = desviacion, size = 10000)\n",
    "sns.histplot(delta_random, kde = True)\n",
    "plt.title('Delta distribution')\n",
    "plt.show()"
   ]
  },
  {
   "cell_type": "markdown",
   "id": "bebd8bc9",
   "metadata": {},
   "source": [
    "### Population growth rate\n",
    "Is calculated above for the last 30 years"
   ]
  },
  {
   "cell_type": "code",
   "execution_count": 85,
   "id": "4f902ed2",
   "metadata": {},
   "outputs": [
    {
     "data": {
      "text/plain": [
       "0.016658288084756424"
      ]
     },
     "execution_count": 85,
     "metadata": {},
     "output_type": "execute_result"
    }
   ],
   "source": [
    "n_historic = df['n'][-10:].mean()\n",
    "n_historic"
   ]
  },
  {
   "cell_type": "code",
   "execution_count": 86,
   "id": "15998af8",
   "metadata": {},
   "outputs": [
    {
     "data": {
      "text/plain": [
       "0.018584272151147586"
      ]
     },
     "execution_count": 86,
     "metadata": {},
     "output_type": "execute_result"
    }
   ],
   "source": [
    "n_30y = df['trend_n'][-30:].mean()\n",
    "n_30y"
   ]
  },
  {
   "cell_type": "markdown",
   "id": "f179cdca",
   "metadata": {},
   "source": [
    "Population growth n according to UN"
   ]
  },
  {
   "cell_type": "code",
   "execution_count": 87,
   "id": "3001f1fa",
   "metadata": {},
   "outputs": [
    {
     "data": {
      "text/html": [
       "<div>\n",
       "<style scoped>\n",
       "    .dataframe tbody tr th:only-of-type {\n",
       "        vertical-align: middle;\n",
       "    }\n",
       "\n",
       "    .dataframe tbody tr th {\n",
       "        vertical-align: top;\n",
       "    }\n",
       "\n",
       "    .dataframe thead th {\n",
       "        text-align: right;\n",
       "    }\n",
       "</style>\n",
       "<table border=\"1\" class=\"dataframe\">\n",
       "  <thead>\n",
       "    <tr style=\"text-align: right;\">\n",
       "      <th></th>\n",
       "      <th>year</th>\n",
       "      <th>n_medium</th>\n",
       "      <th>n_high</th>\n",
       "      <th>n_low</th>\n",
       "    </tr>\n",
       "  </thead>\n",
       "  <tbody>\n",
       "    <tr>\n",
       "      <th>0</th>\n",
       "      <td>2022</td>\n",
       "      <td>0.01329</td>\n",
       "      <td>0.01501</td>\n",
       "      <td>0.01158</td>\n",
       "    </tr>\n",
       "    <tr>\n",
       "      <th>1</th>\n",
       "      <td>2023</td>\n",
       "      <td>0.01352</td>\n",
       "      <td>0.01541</td>\n",
       "      <td>0.01180</td>\n",
       "    </tr>\n",
       "    <tr>\n",
       "      <th>2</th>\n",
       "      <td>2024</td>\n",
       "      <td>0.01310</td>\n",
       "      <td>0.01500</td>\n",
       "      <td>0.01131</td>\n",
       "    </tr>\n",
       "    <tr>\n",
       "      <th>3</th>\n",
       "      <td>2025</td>\n",
       "      <td>0.01266</td>\n",
       "      <td>0.01462</td>\n",
       "      <td>0.01075</td>\n",
       "    </tr>\n",
       "    <tr>\n",
       "      <th>4</th>\n",
       "      <td>2026</td>\n",
       "      <td>0.01227</td>\n",
       "      <td>0.01436</td>\n",
       "      <td>0.01024</td>\n",
       "    </tr>\n",
       "  </tbody>\n",
       "</table>\n",
       "</div>"
      ],
      "text/plain": [
       "   year  n_medium   n_high    n_low\n",
       "0  2022   0.01329  0.01501  0.01158\n",
       "1  2023   0.01352  0.01541  0.01180\n",
       "2  2024   0.01310  0.01500  0.01131\n",
       "3  2025   0.01266  0.01462  0.01075\n",
       "4  2026   0.01227  0.01436  0.01024"
      ]
     },
     "execution_count": 87,
     "metadata": {},
     "output_type": "execute_result"
    }
   ],
   "source": [
    "df_n = pd.read_excel('population_growth_pan.xlsx')\n",
    "df_n.head()"
   ]
  },
  {
   "cell_type": "code",
   "execution_count": 88,
   "id": "3ac552f1",
   "metadata": {},
   "outputs": [
    {
     "name": "stdout",
     "output_type": "stream",
     "text": [
      "Growth central estimation 0.009270333333333334\n",
      "Growth higher estimation 0.011687999999999999\n",
      "Growth lower estimation 0.006973333333333336\n"
     ]
    }
   ],
   "source": [
    "n_medium = df_n['n_medium'][0:30].mean()\n",
    "n_high = df_n['n_high'][0:30].mean()\n",
    "n_low = df_n['n_low'][0:30].mean()\n",
    "print('Growth central estimation', n_medium)\n",
    "print('Growth higher estimation', n_high)\n",
    "print('Growth lower estimation', n_low)"
   ]
  },
  {
   "cell_type": "markdown",
   "id": "ba7282df",
   "metadata": {},
   "source": [
    "### Output and capital\n",
    "$y^{*}$ and $k^{*}$ are taken as the 2021 trend GDP per capita and Capital per worker in columns ```trend_y``` and ```trend_k```. But 2019 values could hold to drop COVID-19 effect.\n"
   ]
  },
  {
   "cell_type": "markdown",
   "id": "6a7bf7dd",
   "metadata": {},
   "source": [
    "### Savings rate"
   ]
  },
  {
   "cell_type": "code",
   "execution_count": 89,
   "id": "b32e079e",
   "metadata": {},
   "outputs": [
    {
     "data": {
      "text/html": [
       "<div>\n",
       "<style scoped>\n",
       "    .dataframe tbody tr th:only-of-type {\n",
       "        vertical-align: middle;\n",
       "    }\n",
       "\n",
       "    .dataframe tbody tr th {\n",
       "        vertical-align: top;\n",
       "    }\n",
       "\n",
       "    .dataframe thead th {\n",
       "        text-align: right;\n",
       "    }\n",
       "</style>\n",
       "<table border=\"1\" class=\"dataframe\">\n",
       "  <thead>\n",
       "    <tr style=\"text-align: right;\">\n",
       "      <th></th>\n",
       "      <th>Year</th>\n",
       "      <th>K</th>\n",
       "      <th>Y</th>\n",
       "      <th>L</th>\n",
       "      <th>S_Y</th>\n",
       "      <th>C</th>\n",
       "      <th>k</th>\n",
       "      <th>y</th>\n",
       "      <th>c</th>\n",
       "      <th>Y_growth</th>\n",
       "      <th>...</th>\n",
       "      <th>cycle_k</th>\n",
       "      <th>trend_k</th>\n",
       "      <th>cycle_y</th>\n",
       "      <th>trend_y</th>\n",
       "      <th>cycle_c</th>\n",
       "      <th>trend_c</th>\n",
       "      <th>cycle_n</th>\n",
       "      <th>trend_n</th>\n",
       "      <th>n_20</th>\n",
       "      <th>n_30</th>\n",
       "    </tr>\n",
       "  </thead>\n",
       "  <tbody>\n",
       "    <tr>\n",
       "      <th>0</th>\n",
       "      <td>1961</td>\n",
       "      <td>7.257556e+08</td>\n",
       "      <td>3.404180e+09</td>\n",
       "      <td>1160832</td>\n",
       "      <td>0.237045</td>\n",
       "      <td>2.516194e+09</td>\n",
       "      <td>625.202989</td>\n",
       "      <td>2932.534708</td>\n",
       "      <td>2167.577960</td>\n",
       "      <td>0.109266</td>\n",
       "      <td>...</td>\n",
       "      <td>-171.755992</td>\n",
       "      <td>796.958981</td>\n",
       "      <td>-171.884519</td>\n",
       "      <td>3104.419228</td>\n",
       "      <td>-20.033162</td>\n",
       "      <td>2187.611122</td>\n",
       "      <td>-0.001522</td>\n",
       "      <td>0.031551</td>\n",
       "      <td>0.02798</td>\n",
       "      <td>0.026227</td>\n",
       "    </tr>\n",
       "    <tr>\n",
       "      <th>1</th>\n",
       "      <td>1962</td>\n",
       "      <td>8.176342e+08</td>\n",
       "      <td>3.684846e+09</td>\n",
       "      <td>1196289</td>\n",
       "      <td>0.257089</td>\n",
       "      <td>2.671750e+09</td>\n",
       "      <td>683.475477</td>\n",
       "      <td>3080.230465</td>\n",
       "      <td>2233.364732</td>\n",
       "      <td>0.082447</td>\n",
       "      <td>...</td>\n",
       "      <td>-159.226540</td>\n",
       "      <td>842.702017</td>\n",
       "      <td>-155.002111</td>\n",
       "      <td>3235.232577</td>\n",
       "      <td>-45.058187</td>\n",
       "      <td>2278.422919</td>\n",
       "      <td>-0.000648</td>\n",
       "      <td>0.031193</td>\n",
       "      <td>0.02798</td>\n",
       "      <td>0.026227</td>\n",
       "    </tr>\n",
       "    <tr>\n",
       "      <th>2</th>\n",
       "      <td>1963</td>\n",
       "      <td>9.187848e+08</td>\n",
       "      <td>3.999487e+09</td>\n",
       "      <td>1233267</td>\n",
       "      <td>0.236907</td>\n",
       "      <td>2.958099e+09</td>\n",
       "      <td>745.000740</td>\n",
       "      <td>3243.001739</td>\n",
       "      <td>2398.587810</td>\n",
       "      <td>0.085388</td>\n",
       "      <td>...</td>\n",
       "      <td>-143.336964</td>\n",
       "      <td>888.337704</td>\n",
       "      <td>-122.936759</td>\n",
       "      <td>3365.938498</td>\n",
       "      <td>29.365613</td>\n",
       "      <td>2369.222197</td>\n",
       "      <td>0.000078</td>\n",
       "      <td>0.030833</td>\n",
       "      <td>0.02798</td>\n",
       "      <td>0.026227</td>\n",
       "    </tr>\n",
       "    <tr>\n",
       "      <th>3</th>\n",
       "      <td>1964</td>\n",
       "      <td>8.378643e+08</td>\n",
       "      <td>4.176750e+09</td>\n",
       "      <td>1271461</td>\n",
       "      <td>0.230943</td>\n",
       "      <td>3.148576e+09</td>\n",
       "      <td>658.977623</td>\n",
       "      <td>3285.000094</td>\n",
       "      <td>2476.344615</td>\n",
       "      <td>0.044321</td>\n",
       "      <td>...</td>\n",
       "      <td>-274.681558</td>\n",
       "      <td>933.659181</td>\n",
       "      <td>-211.332593</td>\n",
       "      <td>3496.332687</td>\n",
       "      <td>16.376344</td>\n",
       "      <td>2459.968271</td>\n",
       "      <td>0.000499</td>\n",
       "      <td>0.030471</td>\n",
       "      <td>0.02798</td>\n",
       "      <td>0.026227</td>\n",
       "    </tr>\n",
       "    <tr>\n",
       "      <th>4</th>\n",
       "      <td>1965</td>\n",
       "      <td>9.508159e+08</td>\n",
       "      <td>4.559341e+09</td>\n",
       "      <td>1310556</td>\n",
       "      <td>0.239947</td>\n",
       "      <td>3.412703e+09</td>\n",
       "      <td>725.505716</td>\n",
       "      <td>3478.936630</td>\n",
       "      <td>2604.011598</td>\n",
       "      <td>0.091600</td>\n",
       "      <td>...</td>\n",
       "      <td>-252.864279</td>\n",
       "      <td>978.369996</td>\n",
       "      <td>-147.197375</td>\n",
       "      <td>3626.134005</td>\n",
       "      <td>53.372784</td>\n",
       "      <td>2550.638814</td>\n",
       "      <td>0.000643</td>\n",
       "      <td>0.030105</td>\n",
       "      <td>0.02798</td>\n",
       "      <td>0.026227</td>\n",
       "    </tr>\n",
       "  </tbody>\n",
       "</table>\n",
       "<p>5 rows × 21 columns</p>\n",
       "</div>"
      ],
      "text/plain": [
       "   Year             K             Y        L       S_Y             C  \\\n",
       "0  1961  7.257556e+08  3.404180e+09  1160832  0.237045  2.516194e+09   \n",
       "1  1962  8.176342e+08  3.684846e+09  1196289  0.257089  2.671750e+09   \n",
       "2  1963  9.187848e+08  3.999487e+09  1233267  0.236907  2.958099e+09   \n",
       "3  1964  8.378643e+08  4.176750e+09  1271461  0.230943  3.148576e+09   \n",
       "4  1965  9.508159e+08  4.559341e+09  1310556  0.239947  3.412703e+09   \n",
       "\n",
       "            k            y            c  Y_growth  ...     cycle_k  \\\n",
       "0  625.202989  2932.534708  2167.577960  0.109266  ... -171.755992   \n",
       "1  683.475477  3080.230465  2233.364732  0.082447  ... -159.226540   \n",
       "2  745.000740  3243.001739  2398.587810  0.085388  ... -143.336964   \n",
       "3  658.977623  3285.000094  2476.344615  0.044321  ... -274.681558   \n",
       "4  725.505716  3478.936630  2604.011598  0.091600  ... -252.864279   \n",
       "\n",
       "      trend_k     cycle_y      trend_y    cycle_c      trend_c   cycle_n  \\\n",
       "0  796.958981 -171.884519  3104.419228 -20.033162  2187.611122 -0.001522   \n",
       "1  842.702017 -155.002111  3235.232577 -45.058187  2278.422919 -0.000648   \n",
       "2  888.337704 -122.936759  3365.938498  29.365613  2369.222197  0.000078   \n",
       "3  933.659181 -211.332593  3496.332687  16.376344  2459.968271  0.000499   \n",
       "4  978.369996 -147.197375  3626.134005  53.372784  2550.638814  0.000643   \n",
       "\n",
       "    trend_n     n_20      n_30  \n",
       "0  0.031551  0.02798  0.026227  \n",
       "1  0.031193  0.02798  0.026227  \n",
       "2  0.030833  0.02798  0.026227  \n",
       "3  0.030471  0.02798  0.026227  \n",
       "4  0.030105  0.02798  0.026227  \n",
       "\n",
       "[5 rows x 21 columns]"
      ]
     },
     "execution_count": 89,
     "metadata": {},
     "output_type": "execute_result"
    }
   ],
   "source": [
    "#Rolling 20 and 30 year mean\n",
    "df['n_20'] = df['n'].rolling(window=20).mean()\n",
    "df['n_20'].fillna(method = 'backfill', inplace = True)\n",
    "\n",
    "df['n_30'] = df['n'].rolling(window=30).mean()\n",
    "df['n_30'].fillna(method = 'backfill', inplace = True)\n",
    "df.head()\n"
   ]
  },
  {
   "cell_type": "code",
   "execution_count": 90,
   "id": "5d1337ab",
   "metadata": {},
   "outputs": [
    {
     "data": {
      "image/png": "[encoded data removed]",
      "text/plain": [
       "<Figure size 432x288 with 1 Axes>"
      ]
     },
     "metadata": {
      "needs_background": "light"
     },
     "output_type": "display_data"
    }
   ],
   "source": [
    "plt.plot(df.Year, df.trend_y, label = 'output per capita')\n",
    "plt.plot(df.Year, df.trend_k, label = 'capital per capita')\n",
    "plt.legend()\n",
    "plt.title('Trend output and capital')\n",
    "plt.show()"
   ]
  },
  {
   "cell_type": "code",
   "execution_count": 58,
   "id": "f24672fc",
   "metadata": {},
   "outputs": [],
   "source": [
    "y = df['trend_y'].iloc[-1] # 2021\n",
    "k = df['trend_k'].iloc[-1] # 2021\n",
    "\n",
    "\n",
    "#y = df['trend_y'].iloc[-3] # 2019\n",
    "#k = df['trend_k'].iloc[-3] # 2019\n",
    "n = n_30y\n",
    "#n = n_medium\n",
    "s_list = []\n",
    "for i in range(len(delta_grid)):\n",
    "    s = savings_rate(delta_grid[i], n, y, k)\n",
    "    s_list.append(s)"
   ]
  },
  {
   "cell_type": "code",
   "execution_count": 59,
   "id": "eea55734",
   "metadata": {},
   "outputs": [
    {
     "name": "stdout",
     "output_type": "stream",
     "text": [
      "The golden rule interest rate should be in this range:\n",
      "min 0.022691927676791866\n",
      "median 0.02849323893837873\n",
      "max 0.0342945501999656\n"
     ]
    }
   ],
   "source": [
    "print('The golden rule interest rate should be in this range:')\n",
    "print('min' , np.min(s_list))\n",
    "print('median' , np.mean(s_list))\n",
    "print('max' , np.max(s_list))"
   ]
  },
  {
   "cell_type": "code",
   "execution_count": 60,
   "id": "87e56293",
   "metadata": {},
   "outputs": [
    {
     "name": "stdout",
     "output_type": "stream",
     "text": [
      "The golden rule interest rate should be in this range:\n",
      "min 0.0018515015265059363\n",
      "median 0.024828150836336847\n",
      "max 0.04509140686055076\n"
     ]
    }
   ],
   "source": [
    "# tasa según depreciación aleatoria\n",
    "s_list_random = []\n",
    "for i in range(len(delta_random)):\n",
    "    s = savings_rate(delta_random[i], n, y, k)\n",
    "    s_list_random.append(s)\n",
    "    \n",
    "print('The golden rule interest rate should be in this range:')\n",
    "print('min' , np.min(s_list_random))\n",
    "print('median' , np.mean(s_list_random))\n",
    "print('max' , np.max(s_list_random))"
   ]
  },
  {
   "cell_type": "code",
   "execution_count": 61,
   "id": "517efca2",
   "metadata": {},
   "outputs": [
    {
     "data": {
      "text/plain": [
       "0.024867419399886945"
      ]
     },
     "execution_count": 61,
     "metadata": {},
     "output_type": "execute_result"
    }
   ],
   "source": [
    "s_likeley = savings_rate(0.05, n, y, k)\n",
    "s_likeley"
   ]
  },
  {
   "cell_type": "code",
   "execution_count": 62,
   "id": "2f9d0848",
   "metadata": {},
   "outputs": [],
   "source": [
    "delta_mean = delta_grid.mean()\n",
    "s_historic = []\n",
    "for i in range(len(df)):\n",
    "    n = df.at[i,'n_20']\n",
    "    y = df.at[i,'trend_y']\n",
    "    k = df.at[i,'trend_k']\n",
    "    s = savings_rate(delta_mean, n, y, k)\n",
    "    s_historic.append(s)\n",
    "\n",
    "df['s'] = s_historic"
   ]
  },
  {
   "cell_type": "code",
   "execution_count": 63,
   "id": "16f8d66d",
   "metadata": {},
   "outputs": [
    {
     "data": {
      "text/plain": [
       "[<matplotlib.lines.Line2D at 0x268badf93d0>]"
      ]
     },
     "execution_count": 63,
     "metadata": {},
     "output_type": "execute_result"
    },
    {
     "data": {
      "image/png": "[encoded data removed]",
      "text/plain": [
       "<Figure size 432x288 with 1 Axes>"
      ]
     },
     "metadata": {
      "needs_background": "light"
     },
     "output_type": "display_data"
    }
   ],
   "source": [
    "plt.plot(df.Year, df.s)"
   ]
  },
  {
   "cell_type": "markdown",
   "id": "f05e8a42",
   "metadata": {},
   "source": [
    "## Average valules Solow Model"
   ]
  },
  {
   "cell_type": "code",
   "execution_count": 97,
   "id": "ead87073",
   "metadata": {},
   "outputs": [
    {
     "name": "stdout",
     "output_type": "stream",
     "text": [
      "Average savings rate: 0.024148162828246042\n"
     ]
    },
    {
     "data": {
      "image/png": "[encoded data removed]",
      "text/plain": [
       "<Figure size 432x288 with 1 Axes>"
      ]
     },
     "metadata": {
      "needs_background": "light"
     },
     "output_type": "display_data"
    }
   ],
   "source": [
    "y_average = df['trend_y'].iloc[-10:].mean() # 2011 - 2021\n",
    "k_average = df['trend_k'].iloc[-10:].mean() # 2011 - 2021\n",
    "n_average =  df['n'].iloc[-10:].mean() # 2011 - 2021\n",
    "\n",
    "average_s_random = []\n",
    "\n",
    "for i in range(len(delta_random)):\n",
    "    s = savings_rate(delta_random[i], n_average, y_average, k_average)\n",
    "    average_s_random.append(s)\n",
    "\n",
    "print('Average savings rate:', np.mean(average_s_random))\n",
    "sns.histplot(average_s_random, kde = True)\n",
    "plt.title('Range of savings rate with average values and random capital depreciation')\n",
    "plt.show()"
   ]
  },
  {
   "cell_type": "markdown",
   "id": "6a5c38f1",
   "metadata": {},
   "source": [
    "# Ramsey Cass Koopmans savings rate"
   ]
  },
  {
   "cell_type": "markdown",
   "id": "0980a17e",
   "metadata": {},
   "source": [
    "According to the RCK model, the savings rate is endogenous and can be determined as follows:\n",
    "\n",
    "$$ s = \\frac{y-c}{y} $$\n",
    "\n",
    "This translates into a savings rate that is a function of $f(k)$ and $c$, transforming the steady state capital per worker to:\n",
    "$$ \\dot{k} = f(k) - c +(n+g+\\delta)k $$\n",
    "where $g$ stands for the constant growth rate of tecnology, $n$ the population growth rate and $\\delta$ the capital depreciation rate.\n",
    "\n",
    "But if we assume that the consumption and product are in their steady state, we can derive the savings rate as follows:\n",
    "\n",
    "$$ \\dot{s} = \\frac{\\dot{y}-\\dot{c}}{\\dot{y}} $$\n"
   ]
  },
  {
   "cell_type": "code",
   "execution_count": 64,
   "id": "5faa71f8",
   "metadata": {},
   "outputs": [
    {
     "data": {
      "image/png": "[encoded data removed]",
      "text/plain": [
       "<Figure size 720x576 with 1 Axes>"
      ]
     },
     "metadata": {
      "needs_background": "light"
     },
     "output_type": "display_data"
    }
   ],
   "source": [
    "df['s_dot'] = (df['trend_y'] - df['trend_c'])/df['trend_y']\n",
    "plt.figure(figsize=(10,8))\n",
    "plt.plot(df.Year, df.s_dot)\n",
    "plt.title('Ramsey Cass Koopmans Savings rate')\n",
    "plt.show()"
   ]
  },
  {
   "cell_type": "markdown",
   "id": "b0435db5",
   "metadata": {},
   "source": [
    "Esta es la tasa de ahorro tendencial, no la tasa de interés. Por lo que habría que despejar la tasa de interés que resulta en esta tasa de ahorro"
   ]
  },
  {
   "cell_type": "markdown",
   "id": "8abfc6f5",
   "metadata": {},
   "source": [
    "### Endogenous Interest rate in RCK"
   ]
  },
  {
   "cell_type": "code",
   "execution_count": 65,
   "id": "c893a54d",
   "metadata": {},
   "outputs": [
    {
     "data": {
      "text/html": [
       "<div>\n",
       "<style scoped>\n",
       "    .dataframe tbody tr th:only-of-type {\n",
       "        vertical-align: middle;\n",
       "    }\n",
       "\n",
       "    .dataframe tbody tr th {\n",
       "        vertical-align: top;\n",
       "    }\n",
       "\n",
       "    .dataframe thead th {\n",
       "        text-align: right;\n",
       "    }\n",
       "</style>\n",
       "<table border=\"1\" class=\"dataframe\">\n",
       "  <thead>\n",
       "    <tr style=\"text-align: right;\">\n",
       "      <th></th>\n",
       "      <th>countrycode</th>\n",
       "      <th>country</th>\n",
       "      <th>currency_unit</th>\n",
       "      <th>year</th>\n",
       "      <th>rgdpe</th>\n",
       "      <th>rgdpo</th>\n",
       "      <th>pop</th>\n",
       "      <th>emp</th>\n",
       "      <th>avh</th>\n",
       "      <th>emp x avh</th>\n",
       "      <th>...</th>\n",
       "      <th>csh_x</th>\n",
       "      <th>csh_m</th>\n",
       "      <th>csh_r</th>\n",
       "      <th>pl_c</th>\n",
       "      <th>pl_i</th>\n",
       "      <th>pl_g</th>\n",
       "      <th>pl_x</th>\n",
       "      <th>pl_m</th>\n",
       "      <th>pl_n</th>\n",
       "      <th>pl_k</th>\n",
       "    </tr>\n",
       "  </thead>\n",
       "  <tbody>\n",
       "    <tr>\n",
       "      <th>0</th>\n",
       "      <td>ABW</td>\n",
       "      <td>Aruba</td>\n",
       "      <td>Aruban Guilder</td>\n",
       "      <td>1950</td>\n",
       "      <td>NaN</td>\n",
       "      <td>NaN</td>\n",
       "      <td>NaN</td>\n",
       "      <td>NaN</td>\n",
       "      <td>NaN</td>\n",
       "      <td>NaN</td>\n",
       "      <td>...</td>\n",
       "      <td>NaN</td>\n",
       "      <td>NaN</td>\n",
       "      <td>NaN</td>\n",
       "      <td>NaN</td>\n",
       "      <td>NaN</td>\n",
       "      <td>NaN</td>\n",
       "      <td>NaN</td>\n",
       "      <td>NaN</td>\n",
       "      <td>NaN</td>\n",
       "      <td>NaN</td>\n",
       "    </tr>\n",
       "    <tr>\n",
       "      <th>1</th>\n",
       "      <td>ABW</td>\n",
       "      <td>Aruba</td>\n",
       "      <td>Aruban Guilder</td>\n",
       "      <td>1951</td>\n",
       "      <td>NaN</td>\n",
       "      <td>NaN</td>\n",
       "      <td>NaN</td>\n",
       "      <td>NaN</td>\n",
       "      <td>NaN</td>\n",
       "      <td>NaN</td>\n",
       "      <td>...</td>\n",
       "      <td>NaN</td>\n",
       "      <td>NaN</td>\n",
       "      <td>NaN</td>\n",
       "      <td>NaN</td>\n",
       "      <td>NaN</td>\n",
       "      <td>NaN</td>\n",
       "      <td>NaN</td>\n",
       "      <td>NaN</td>\n",
       "      <td>NaN</td>\n",
       "      <td>NaN</td>\n",
       "    </tr>\n",
       "    <tr>\n",
       "      <th>2</th>\n",
       "      <td>ABW</td>\n",
       "      <td>Aruba</td>\n",
       "      <td>Aruban Guilder</td>\n",
       "      <td>1952</td>\n",
       "      <td>NaN</td>\n",
       "      <td>NaN</td>\n",
       "      <td>NaN</td>\n",
       "      <td>NaN</td>\n",
       "      <td>NaN</td>\n",
       "      <td>NaN</td>\n",
       "      <td>...</td>\n",
       "      <td>NaN</td>\n",
       "      <td>NaN</td>\n",
       "      <td>NaN</td>\n",
       "      <td>NaN</td>\n",
       "      <td>NaN</td>\n",
       "      <td>NaN</td>\n",
       "      <td>NaN</td>\n",
       "      <td>NaN</td>\n",
       "      <td>NaN</td>\n",
       "      <td>NaN</td>\n",
       "    </tr>\n",
       "    <tr>\n",
       "      <th>3</th>\n",
       "      <td>ABW</td>\n",
       "      <td>Aruba</td>\n",
       "      <td>Aruban Guilder</td>\n",
       "      <td>1953</td>\n",
       "      <td>NaN</td>\n",
       "      <td>NaN</td>\n",
       "      <td>NaN</td>\n",
       "      <td>NaN</td>\n",
       "      <td>NaN</td>\n",
       "      <td>NaN</td>\n",
       "      <td>...</td>\n",
       "      <td>NaN</td>\n",
       "      <td>NaN</td>\n",
       "      <td>NaN</td>\n",
       "      <td>NaN</td>\n",
       "      <td>NaN</td>\n",
       "      <td>NaN</td>\n",
       "      <td>NaN</td>\n",
       "      <td>NaN</td>\n",
       "      <td>NaN</td>\n",
       "      <td>NaN</td>\n",
       "    </tr>\n",
       "    <tr>\n",
       "      <th>4</th>\n",
       "      <td>ABW</td>\n",
       "      <td>Aruba</td>\n",
       "      <td>Aruban Guilder</td>\n",
       "      <td>1954</td>\n",
       "      <td>NaN</td>\n",
       "      <td>NaN</td>\n",
       "      <td>NaN</td>\n",
       "      <td>NaN</td>\n",
       "      <td>NaN</td>\n",
       "      <td>NaN</td>\n",
       "      <td>...</td>\n",
       "      <td>NaN</td>\n",
       "      <td>NaN</td>\n",
       "      <td>NaN</td>\n",
       "      <td>NaN</td>\n",
       "      <td>NaN</td>\n",
       "      <td>NaN</td>\n",
       "      <td>NaN</td>\n",
       "      <td>NaN</td>\n",
       "      <td>NaN</td>\n",
       "      <td>NaN</td>\n",
       "    </tr>\n",
       "  </tbody>\n",
       "</table>\n",
       "<p>5 rows × 53 columns</p>\n",
       "</div>"
      ],
      "text/plain": [
       "  countrycode country   currency_unit  year  rgdpe  rgdpo  pop  emp  avh  \\\n",
       "0         ABW   Aruba  Aruban Guilder  1950    NaN    NaN  NaN  NaN  NaN   \n",
       "1         ABW   Aruba  Aruban Guilder  1951    NaN    NaN  NaN  NaN  NaN   \n",
       "2         ABW   Aruba  Aruban Guilder  1952    NaN    NaN  NaN  NaN  NaN   \n",
       "3         ABW   Aruba  Aruban Guilder  1953    NaN    NaN  NaN  NaN  NaN   \n",
       "4         ABW   Aruba  Aruban Guilder  1954    NaN    NaN  NaN  NaN  NaN   \n",
       "\n",
       "   emp x avh  ...  csh_x  csh_m  csh_r  pl_c  pl_i  pl_g  pl_x  pl_m  pl_n  \\\n",
       "0        NaN  ...    NaN    NaN    NaN   NaN   NaN   NaN   NaN   NaN   NaN   \n",
       "1        NaN  ...    NaN    NaN    NaN   NaN   NaN   NaN   NaN   NaN   NaN   \n",
       "2        NaN  ...    NaN    NaN    NaN   NaN   NaN   NaN   NaN   NaN   NaN   \n",
       "3        NaN  ...    NaN    NaN    NaN   NaN   NaN   NaN   NaN   NaN   NaN   \n",
       "4        NaN  ...    NaN    NaN    NaN   NaN   NaN   NaN   NaN   NaN   NaN   \n",
       "\n",
       "   pl_k  \n",
       "0   NaN  \n",
       "1   NaN  \n",
       "2   NaN  \n",
       "3   NaN  \n",
       "4   NaN  \n",
       "\n",
       "[5 rows x 53 columns]"
      ]
     },
     "execution_count": 65,
     "metadata": {},
     "output_type": "execute_result"
    }
   ],
   "source": [
    "df_pwt = pd.read_excel('pwt1001.xlsx', sheet_name = 'Data')\n",
    "df_pwt.head()"
   ]
  },
  {
   "cell_type": "code",
   "execution_count": 66,
   "id": "e1bc6aab",
   "metadata": {},
   "outputs": [
    {
     "data": {
      "text/html": [
       "<div>\n",
       "<style scoped>\n",
       "    .dataframe tbody tr th:only-of-type {\n",
       "        vertical-align: middle;\n",
       "    }\n",
       "\n",
       "    .dataframe tbody tr th {\n",
       "        vertical-align: top;\n",
       "    }\n",
       "\n",
       "    .dataframe thead th {\n",
       "        text-align: right;\n",
       "    }\n",
       "</style>\n",
       "<table border=\"1\" class=\"dataframe\">\n",
       "  <thead>\n",
       "    <tr style=\"text-align: right;\">\n",
       "      <th></th>\n",
       "      <th>countrycode</th>\n",
       "      <th>country</th>\n",
       "      <th>currency_unit</th>\n",
       "      <th>year</th>\n",
       "      <th>rgdpe</th>\n",
       "      <th>rgdpo</th>\n",
       "      <th>pop</th>\n",
       "      <th>emp</th>\n",
       "      <th>avh</th>\n",
       "      <th>emp x avh</th>\n",
       "      <th>...</th>\n",
       "      <th>csh_x</th>\n",
       "      <th>csh_m</th>\n",
       "      <th>csh_r</th>\n",
       "      <th>pl_c</th>\n",
       "      <th>pl_i</th>\n",
       "      <th>pl_g</th>\n",
       "      <th>pl_x</th>\n",
       "      <th>pl_m</th>\n",
       "      <th>pl_n</th>\n",
       "      <th>pl_k</th>\n",
       "    </tr>\n",
       "  </thead>\n",
       "  <tbody>\n",
       "    <tr>\n",
       "      <th>9240</th>\n",
       "      <td>PAN</td>\n",
       "      <td>Panama</td>\n",
       "      <td>Balboa</td>\n",
       "      <td>1950</td>\n",
       "      <td>2078.012207</td>\n",
       "      <td>1921.755249</td>\n",
       "      <td>0.885651</td>\n",
       "      <td>NaN</td>\n",
       "      <td>NaN</td>\n",
       "      <td>NaN</td>\n",
       "      <td>...</td>\n",
       "      <td>0.106793</td>\n",
       "      <td>-0.400704</td>\n",
       "      <td>0.084311</td>\n",
       "      <td>0.153162</td>\n",
       "      <td>0.131216</td>\n",
       "      <td>0.080722</td>\n",
       "      <td>0.102351</td>\n",
       "      <td>0.090788</td>\n",
       "      <td>0.120985</td>\n",
       "      <td>NaN</td>\n",
       "    </tr>\n",
       "    <tr>\n",
       "      <th>9241</th>\n",
       "      <td>PAN</td>\n",
       "      <td>Panama</td>\n",
       "      <td>Balboa</td>\n",
       "      <td>1951</td>\n",
       "      <td>1996.005859</td>\n",
       "      <td>1901.684326</td>\n",
       "      <td>0.908532</td>\n",
       "      <td>NaN</td>\n",
       "      <td>NaN</td>\n",
       "      <td>NaN</td>\n",
       "      <td>...</td>\n",
       "      <td>0.112405</td>\n",
       "      <td>-0.430872</td>\n",
       "      <td>0.064015</td>\n",
       "      <td>0.166374</td>\n",
       "      <td>0.139399</td>\n",
       "      <td>0.074093</td>\n",
       "      <td>0.101690</td>\n",
       "      <td>0.093115</td>\n",
       "      <td>0.132908</td>\n",
       "      <td>NaN</td>\n",
       "    </tr>\n",
       "    <tr>\n",
       "      <th>9242</th>\n",
       "      <td>PAN</td>\n",
       "      <td>Panama</td>\n",
       "      <td>Balboa</td>\n",
       "      <td>1952</td>\n",
       "      <td>2187.624023</td>\n",
       "      <td>2050.210449</td>\n",
       "      <td>0.932863</td>\n",
       "      <td>NaN</td>\n",
       "      <td>NaN</td>\n",
       "      <td>NaN</td>\n",
       "      <td>...</td>\n",
       "      <td>0.098670</td>\n",
       "      <td>-0.434843</td>\n",
       "      <td>0.058567</td>\n",
       "      <td>0.156638</td>\n",
       "      <td>0.137192</td>\n",
       "      <td>0.083935</td>\n",
       "      <td>0.108251</td>\n",
       "      <td>0.093171</td>\n",
       "      <td>0.132033</td>\n",
       "      <td>NaN</td>\n",
       "    </tr>\n",
       "    <tr>\n",
       "      <th>9243</th>\n",
       "      <td>PAN</td>\n",
       "      <td>Panama</td>\n",
       "      <td>Balboa</td>\n",
       "      <td>1953</td>\n",
       "      <td>2315.174561</td>\n",
       "      <td>2193.881836</td>\n",
       "      <td>0.954802</td>\n",
       "      <td>NaN</td>\n",
       "      <td>NaN</td>\n",
       "      <td>NaN</td>\n",
       "      <td>...</td>\n",
       "      <td>0.091398</td>\n",
       "      <td>-0.359453</td>\n",
       "      <td>0.079405</td>\n",
       "      <td>0.156600</td>\n",
       "      <td>0.137115</td>\n",
       "      <td>0.078497</td>\n",
       "      <td>0.115268</td>\n",
       "      <td>0.100838</td>\n",
       "      <td>0.130280</td>\n",
       "      <td>NaN</td>\n",
       "    </tr>\n",
       "    <tr>\n",
       "      <th>9244</th>\n",
       "      <td>PAN</td>\n",
       "      <td>Panama</td>\n",
       "      <td>Balboa</td>\n",
       "      <td>1954</td>\n",
       "      <td>2486.115234</td>\n",
       "      <td>2331.908936</td>\n",
       "      <td>0.977504</td>\n",
       "      <td>NaN</td>\n",
       "      <td>NaN</td>\n",
       "      <td>NaN</td>\n",
       "      <td>...</td>\n",
       "      <td>0.081896</td>\n",
       "      <td>-0.350062</td>\n",
       "      <td>0.066534</td>\n",
       "      <td>0.152390</td>\n",
       "      <td>0.129525</td>\n",
       "      <td>0.080320</td>\n",
       "      <td>0.122086</td>\n",
       "      <td>0.097309</td>\n",
       "      <td>0.121526</td>\n",
       "      <td>NaN</td>\n",
       "    </tr>\n",
       "  </tbody>\n",
       "</table>\n",
       "<p>5 rows × 53 columns</p>\n",
       "</div>"
      ],
      "text/plain": [
       "     countrycode country currency_unit  year        rgdpe        rgdpo  \\\n",
       "9240         PAN  Panama        Balboa  1950  2078.012207  1921.755249   \n",
       "9241         PAN  Panama        Balboa  1951  1996.005859  1901.684326   \n",
       "9242         PAN  Panama        Balboa  1952  2187.624023  2050.210449   \n",
       "9243         PAN  Panama        Balboa  1953  2315.174561  2193.881836   \n",
       "9244         PAN  Panama        Balboa  1954  2486.115234  2331.908936   \n",
       "\n",
       "           pop  emp  avh  emp x avh  ...     csh_x     csh_m     csh_r  \\\n",
       "9240  0.885651  NaN  NaN        NaN  ...  0.106793 -0.400704  0.084311   \n",
       "9241  0.908532  NaN  NaN        NaN  ...  0.112405 -0.430872  0.064015   \n",
       "9242  0.932863  NaN  NaN        NaN  ...  0.098670 -0.434843  0.058567   \n",
       "9243  0.954802  NaN  NaN        NaN  ...  0.091398 -0.359453  0.079405   \n",
       "9244  0.977504  NaN  NaN        NaN  ...  0.081896 -0.350062  0.066534   \n",
       "\n",
       "          pl_c      pl_i      pl_g      pl_x      pl_m      pl_n  pl_k  \n",
       "9240  0.153162  0.131216  0.080722  0.102351  0.090788  0.120985   NaN  \n",
       "9241  0.166374  0.139399  0.074093  0.101690  0.093115  0.132908   NaN  \n",
       "9242  0.156638  0.137192  0.083935  0.108251  0.093171  0.132033   NaN  \n",
       "9243  0.156600  0.137115  0.078497  0.115268  0.100838  0.130280   NaN  \n",
       "9244  0.152390  0.129525  0.080320  0.122086  0.097309  0.121526   NaN  \n",
       "\n",
       "[5 rows x 53 columns]"
      ]
     },
     "execution_count": 66,
     "metadata": {},
     "output_type": "execute_result"
    }
   ],
   "source": [
    "#filtro por panamá\n",
    "df_pan = df_pwt[df_pwt['country'] == 'Panama']\n",
    "df_pan.head()"
   ]
  },
  {
   "cell_type": "markdown",
   "id": "20b9812e",
   "metadata": {},
   "source": [
    "important columns:\n",
    "* rgdpo = Output-side real GDP at chained PPPs (in mil. 2017USD)\n",
    "* pop= Population (in millions)\n",
    "* emp = Number of persons engaged (in millions)\n",
    "* ccon\t = Real consumption of households and government, at current PPPs (in mil. 2017USD)\n",
    "* cn = Capital stock at current PPPs (in mil. 2017USD)\n",
    "* ctfp = TFP level at current PPPs (USA=1)\n",
    "* cwtfp =  TFP of workers at current PPPs (USA=1)"
   ]
  },
  {
   "cell_type": "code",
   "execution_count": 67,
   "id": "b88c8f77",
   "metadata": {},
   "outputs": [
    {
     "data": {
      "text/html": [
       "<div>\n",
       "<style scoped>\n",
       "    .dataframe tbody tr th:only-of-type {\n",
       "        vertical-align: middle;\n",
       "    }\n",
       "\n",
       "    .dataframe tbody tr th {\n",
       "        vertical-align: top;\n",
       "    }\n",
       "\n",
       "    .dataframe thead th {\n",
       "        text-align: right;\n",
       "    }\n",
       "</style>\n",
       "<table border=\"1\" class=\"dataframe\">\n",
       "  <thead>\n",
       "    <tr style=\"text-align: right;\">\n",
       "      <th></th>\n",
       "      <th>year</th>\n",
       "      <th>rgdpo</th>\n",
       "      <th>pop</th>\n",
       "      <th>emp</th>\n",
       "      <th>ccon</th>\n",
       "      <th>cn</th>\n",
       "      <th>ctfp</th>\n",
       "      <th>cwtfp</th>\n",
       "    </tr>\n",
       "  </thead>\n",
       "  <tbody>\n",
       "    <tr>\n",
       "      <th>0</th>\n",
       "      <td>1969</td>\n",
       "      <td>6775.033691</td>\n",
       "      <td>1.477365</td>\n",
       "      <td>0.4203</td>\n",
       "      <td>6192.045410</td>\n",
       "      <td>9836.221680</td>\n",
       "      <td>0.937487</td>\n",
       "      <td>1.025832</td>\n",
       "    </tr>\n",
       "    <tr>\n",
       "      <th>1</th>\n",
       "      <td>1970</td>\n",
       "      <td>8086.922852</td>\n",
       "      <td>1.519285</td>\n",
       "      <td>0.4343</td>\n",
       "      <td>6954.911621</td>\n",
       "      <td>11342.275391</td>\n",
       "      <td>1.044254</td>\n",
       "      <td>1.129560</td>\n",
       "    </tr>\n",
       "    <tr>\n",
       "      <th>2</th>\n",
       "      <td>1971</td>\n",
       "      <td>8992.350586</td>\n",
       "      <td>1.563093</td>\n",
       "      <td>0.4413</td>\n",
       "      <td>7487.617676</td>\n",
       "      <td>12949.618164</td>\n",
       "      <td>1.071301</td>\n",
       "      <td>1.153605</td>\n",
       "    </tr>\n",
       "    <tr>\n",
       "      <th>3</th>\n",
       "      <td>1972</td>\n",
       "      <td>9551.375977</td>\n",
       "      <td>1.607796</td>\n",
       "      <td>0.4554</td>\n",
       "      <td>7760.539551</td>\n",
       "      <td>14960.575195</td>\n",
       "      <td>1.027299</td>\n",
       "      <td>1.102712</td>\n",
       "    </tr>\n",
       "    <tr>\n",
       "      <th>4</th>\n",
       "      <td>1973</td>\n",
       "      <td>10033.276367</td>\n",
       "      <td>1.653212</td>\n",
       "      <td>0.4641</td>\n",
       "      <td>7904.164551</td>\n",
       "      <td>16842.597656</td>\n",
       "      <td>0.978292</td>\n",
       "      <td>1.047618</td>\n",
       "    </tr>\n",
       "  </tbody>\n",
       "</table>\n",
       "</div>"
      ],
      "text/plain": [
       "   year         rgdpo       pop     emp         ccon            cn      ctfp  \\\n",
       "0  1969   6775.033691  1.477365  0.4203  6192.045410   9836.221680  0.937487   \n",
       "1  1970   8086.922852  1.519285  0.4343  6954.911621  11342.275391  1.044254   \n",
       "2  1971   8992.350586  1.563093  0.4413  7487.617676  12949.618164  1.071301   \n",
       "3  1972   9551.375977  1.607796  0.4554  7760.539551  14960.575195  1.027299   \n",
       "4  1973  10033.276367  1.653212  0.4641  7904.164551  16842.597656  0.978292   \n",
       "\n",
       "      cwtfp  \n",
       "0  1.025832  \n",
       "1  1.129560  \n",
       "2  1.153605  \n",
       "3  1.102712  \n",
       "4  1.047618  "
      ]
     },
     "execution_count": 67,
     "metadata": {},
     "output_type": "execute_result"
    }
   ],
   "source": [
    "df_pan = df_pan[['year','rgdpo', 'pop','emp' ,'ccon', 'cn', 'ctfp', 'cwtfp']]\n",
    "df_pan = df_pan[~df_pan['ctfp'].isna()]\n",
    "df_pan.reset_index(inplace = True, drop = True)\n",
    "df_pan.head()"
   ]
  },
  {
   "cell_type": "markdown",
   "id": "108a858c",
   "metadata": {},
   "source": [
    "Get rates of growth:\n",
    "\n",
    "* n is the rate of population growth\n",
    "* g is the rate of technological progress"
   ]
  },
  {
   "cell_type": "code",
   "execution_count": 68,
   "id": "0e9cf3b6",
   "metadata": {},
   "outputs": [
    {
     "name": "stdout",
     "output_type": "stream",
     "text": [
      "0.021347081796005276 Population growth rate\n",
      "-0.0019058575789706283 Technology growth rate, measured by TFP\n"
     ]
    }
   ],
   "source": [
    "df_pan['pop_pct'] = df_pan['pop'].pct_change()\n",
    "df_pan['ctfp_pct'] = df_pan['ctfp'].pct_change()\n",
    "df_pan['cwtfp_pct'] = df_pan['cwtfp'].pct_change()\n",
    "\n",
    "df_pan.dropna(inplace = True)\n",
    "df_pan.reset_index(inplace = True, drop = True)\n",
    "\n",
    "df_pan['cycle_pop'], df_pan['trend_pop'] = sm.tsa.filters.hpfilter(df_pan['pop_pct'], 100)\n",
    "df_pan['cycle_ctfp'], df_pan['trend_ctfp'] = sm.tsa.filters.hpfilter(df_pan['ctfp_pct'], 100)\n",
    "df_pan['cycle_cwtfp'], df_pan['trend_cwtfp'] = sm.tsa.filters.hpfilter(df_pan['cwtfp_pct'], 100)\n",
    "n = df_pan['trend_pop'].mean()\n",
    "g = df_pan['trend_ctfp'].mean()\n",
    "gw = df_pan['trend_cwtfp'].mean()\n",
    "df_pan['min_r'] = df_pan['trend_pop'] + df_pan['trend_ctfp']\n",
    "print(n, 'Population growth rate')\n",
    "print(g, 'Technology growth rate, measured by TFP')"
   ]
  },
  {
   "cell_type": "markdown",
   "id": "2b3075b3",
   "metadata": {},
   "source": [
    "Real interest rate should be at least the sum of the population growth rate and the technology growth rate"
   ]
  },
  {
   "cell_type": "code",
   "execution_count": 69,
   "id": "41f5d838",
   "metadata": {},
   "outputs": [
    {
     "name": "stdout",
     "output_type": "stream",
     "text": [
      "The interest rate should be at least: 0.019441224217034647\n"
     ]
    }
   ],
   "source": [
    "min_rate = n+g\n",
    "print('The interest rate should be at least:', min_rate)"
   ]
  },
  {
   "cell_type": "code",
   "execution_count": 70,
   "id": "72c34eaa",
   "metadata": {},
   "outputs": [
    {
     "data": {
      "image/png": "[encoded data removed]",
      "text/plain": [
       "<Figure size 720x576 with 1 Axes>"
      ]
     },
     "metadata": {
      "needs_background": "light"
     },
     "output_type": "display_data"
    }
   ],
   "source": [
    "plt.figure(figsize = (10,8))\n",
    "plt.plot(df_pan.year, df_pan.trend_pop, label = 'n')\n",
    "plt.plot(df_pan.year, df_pan.trend_ctfp, label = 'g')\n",
    "plt.plot(df_pan.year, df_pan.min_r, label = 'min_r')\n",
    "plt.legend()\n",
    "plt.title('Tasa interés piso modelo RCK')\n",
    "plt.show()"
   ]
  },
  {
   "cell_type": "markdown",
   "id": "d5aa4899",
   "metadata": {},
   "source": [
    "# BanRep Replica"
   ]
  },
  {
   "cell_type": "markdown",
   "id": "2ae24f69",
   "metadata": {},
   "source": [
    "The capital stock should converge to the steady state, when the maringal productivity of capital minus the capital depreciation tend to $\\rho + \\theta g_{A} $, where $\\rho$, $\\theta$ and $g_{A}$ are the subjective rate of discount, the risk aversion and the technology growht (measured by TFP)\n",
    "\n",
    "The intertemporal inequality  states that:\n",
    "$$\\rho + \\theta g_{A} > n + g_{A}$$\n",
    "\n",
    "\n",
    "\n",
    "* $\\rho = 3.61$ found in 2020:  https://journals.sagepub.com/doi/pdf/10.1177/1091142119890369\n",
    "\n",
    "* $\\theta= 0.18$ found in FED paper in 2014: https://files.stlouisfed.org/files/htdocs/wp/2014/2014-005.pdf\n",
    "\n",
    "* $g_{A} = -0.001$ found in PWT TFP change "
   ]
  },
  {
   "cell_type": "code",
   "execution_count": 71,
   "id": "197268b7",
   "metadata": {},
   "outputs": [
    {
     "name": "stdout",
     "output_type": "stream",
     "text": [
      "Interest rate of steady state should be at least =  0.035756945635785284\n"
     ]
    }
   ],
   "source": [
    "rho = 0.0361\n",
    "theta = 0.18\n",
    "r_ss = rho + (theta * g)\n",
    "print('Interest rate of steady state should be at least = ',r_ss)"
   ]
  },
  {
   "cell_type": "markdown",
   "id": "ba7db050",
   "metadata": {},
   "source": [
    "# Long run economic growth"
   ]
  },
  {
   "cell_type": "code",
   "execution_count": 72,
   "id": "d2c41ede",
   "metadata": {},
   "outputs": [
    {
     "data": {
      "text/html": [
       "<div>\n",
       "<style scoped>\n",
       "    .dataframe tbody tr th:only-of-type {\n",
       "        vertical-align: middle;\n",
       "    }\n",
       "\n",
       "    .dataframe tbody tr th {\n",
       "        vertical-align: top;\n",
       "    }\n",
       "\n",
       "    .dataframe thead th {\n",
       "        text-align: right;\n",
       "    }\n",
       "</style>\n",
       "<table border=\"1\" class=\"dataframe\">\n",
       "  <thead>\n",
       "    <tr style=\"text-align: right;\">\n",
       "      <th></th>\n",
       "      <th>Year</th>\n",
       "      <th>K</th>\n",
       "      <th>Y</th>\n",
       "      <th>L</th>\n",
       "      <th>S_Y</th>\n",
       "      <th>C</th>\n",
       "      <th>k</th>\n",
       "      <th>y</th>\n",
       "      <th>c</th>\n",
       "      <th>Y_growth</th>\n",
       "      <th>...</th>\n",
       "      <th>cycle_y</th>\n",
       "      <th>trend_y</th>\n",
       "      <th>cycle_c</th>\n",
       "      <th>trend_c</th>\n",
       "      <th>cycle_n</th>\n",
       "      <th>trend_n</th>\n",
       "      <th>n_20</th>\n",
       "      <th>n_30</th>\n",
       "      <th>s</th>\n",
       "      <th>s_dot</th>\n",
       "    </tr>\n",
       "  </thead>\n",
       "  <tbody>\n",
       "    <tr>\n",
       "      <th>0</th>\n",
       "      <td>1961</td>\n",
       "      <td>7.257556e+08</td>\n",
       "      <td>3.404180e+09</td>\n",
       "      <td>1160832</td>\n",
       "      <td>0.237045</td>\n",
       "      <td>2.516194e+09</td>\n",
       "      <td>625.202989</td>\n",
       "      <td>2932.534708</td>\n",
       "      <td>2167.577960</td>\n",
       "      <td>0.109266</td>\n",
       "      <td>...</td>\n",
       "      <td>-171.884519</td>\n",
       "      <td>3104.419228</td>\n",
       "      <td>-20.033162</td>\n",
       "      <td>2187.611122</td>\n",
       "      <td>-0.001522</td>\n",
       "      <td>0.031551</td>\n",
       "      <td>0.02798</td>\n",
       "      <td>0.026227</td>\n",
       "      <td>0.022586</td>\n",
       "      <td>0.295324</td>\n",
       "    </tr>\n",
       "    <tr>\n",
       "      <th>1</th>\n",
       "      <td>1962</td>\n",
       "      <td>8.176342e+08</td>\n",
       "      <td>3.684846e+09</td>\n",
       "      <td>1196289</td>\n",
       "      <td>0.257089</td>\n",
       "      <td>2.671750e+09</td>\n",
       "      <td>683.475477</td>\n",
       "      <td>3080.230465</td>\n",
       "      <td>2233.364732</td>\n",
       "      <td>0.082447</td>\n",
       "      <td>...</td>\n",
       "      <td>-155.002111</td>\n",
       "      <td>3235.232577</td>\n",
       "      <td>-45.058187</td>\n",
       "      <td>2278.422919</td>\n",
       "      <td>-0.000648</td>\n",
       "      <td>0.031193</td>\n",
       "      <td>0.02798</td>\n",
       "      <td>0.026227</td>\n",
       "      <td>0.022917</td>\n",
       "      <td>0.295747</td>\n",
       "    </tr>\n",
       "    <tr>\n",
       "      <th>2</th>\n",
       "      <td>1963</td>\n",
       "      <td>9.187848e+08</td>\n",
       "      <td>3.999487e+09</td>\n",
       "      <td>1233267</td>\n",
       "      <td>0.236907</td>\n",
       "      <td>2.958099e+09</td>\n",
       "      <td>745.000740</td>\n",
       "      <td>3243.001739</td>\n",
       "      <td>2398.587810</td>\n",
       "      <td>0.085388</td>\n",
       "      <td>...</td>\n",
       "      <td>-122.936759</td>\n",
       "      <td>3365.938498</td>\n",
       "      <td>29.365613</td>\n",
       "      <td>2369.222197</td>\n",
       "      <td>0.000078</td>\n",
       "      <td>0.030833</td>\n",
       "      <td>0.02798</td>\n",
       "      <td>0.026227</td>\n",
       "      <td>0.023220</td>\n",
       "      <td>0.296118</td>\n",
       "    </tr>\n",
       "    <tr>\n",
       "      <th>3</th>\n",
       "      <td>1964</td>\n",
       "      <td>8.378643e+08</td>\n",
       "      <td>4.176750e+09</td>\n",
       "      <td>1271461</td>\n",
       "      <td>0.230943</td>\n",
       "      <td>3.148576e+09</td>\n",
       "      <td>658.977623</td>\n",
       "      <td>3285.000094</td>\n",
       "      <td>2476.344615</td>\n",
       "      <td>0.044321</td>\n",
       "      <td>...</td>\n",
       "      <td>-211.332593</td>\n",
       "      <td>3496.332687</td>\n",
       "      <td>16.376344</td>\n",
       "      <td>2459.968271</td>\n",
       "      <td>0.000499</td>\n",
       "      <td>0.030471</td>\n",
       "      <td>0.02798</td>\n",
       "      <td>0.026227</td>\n",
       "      <td>0.023494</td>\n",
       "      <td>0.296415</td>\n",
       "    </tr>\n",
       "    <tr>\n",
       "      <th>4</th>\n",
       "      <td>1965</td>\n",
       "      <td>9.508159e+08</td>\n",
       "      <td>4.559341e+09</td>\n",
       "      <td>1310556</td>\n",
       "      <td>0.239947</td>\n",
       "      <td>3.412703e+09</td>\n",
       "      <td>725.505716</td>\n",
       "      <td>3478.936630</td>\n",
       "      <td>2604.011598</td>\n",
       "      <td>0.091600</td>\n",
       "      <td>...</td>\n",
       "      <td>-147.197375</td>\n",
       "      <td>3626.134005</td>\n",
       "      <td>53.372784</td>\n",
       "      <td>2550.638814</td>\n",
       "      <td>0.000643</td>\n",
       "      <td>0.030105</td>\n",
       "      <td>0.02798</td>\n",
       "      <td>0.026227</td>\n",
       "      <td>0.023738</td>\n",
       "      <td>0.296596</td>\n",
       "    </tr>\n",
       "  </tbody>\n",
       "</table>\n",
       "<p>5 rows × 23 columns</p>\n",
       "</div>"
      ],
      "text/plain": [
       "   Year             K             Y        L       S_Y             C  \\\n",
       "0  1961  7.257556e+08  3.404180e+09  1160832  0.237045  2.516194e+09   \n",
       "1  1962  8.176342e+08  3.684846e+09  1196289  0.257089  2.671750e+09   \n",
       "2  1963  9.187848e+08  3.999487e+09  1233267  0.236907  2.958099e+09   \n",
       "3  1964  8.378643e+08  4.176750e+09  1271461  0.230943  3.148576e+09   \n",
       "4  1965  9.508159e+08  4.559341e+09  1310556  0.239947  3.412703e+09   \n",
       "\n",
       "            k            y            c  Y_growth  ...     cycle_y  \\\n",
       "0  625.202989  2932.534708  2167.577960  0.109266  ... -171.884519   \n",
       "1  683.475477  3080.230465  2233.364732  0.082447  ... -155.002111   \n",
       "2  745.000740  3243.001739  2398.587810  0.085388  ... -122.936759   \n",
       "3  658.977623  3285.000094  2476.344615  0.044321  ... -211.332593   \n",
       "4  725.505716  3478.936630  2604.011598  0.091600  ... -147.197375   \n",
       "\n",
       "       trend_y    cycle_c      trend_c   cycle_n   trend_n     n_20      n_30  \\\n",
       "0  3104.419228 -20.033162  2187.611122 -0.001522  0.031551  0.02798  0.026227   \n",
       "1  3235.232577 -45.058187  2278.422919 -0.000648  0.031193  0.02798  0.026227   \n",
       "2  3365.938498  29.365613  2369.222197  0.000078  0.030833  0.02798  0.026227   \n",
       "3  3496.332687  16.376344  2459.968271  0.000499  0.030471  0.02798  0.026227   \n",
       "4  3626.134005  53.372784  2550.638814  0.000643  0.030105  0.02798  0.026227   \n",
       "\n",
       "          s     s_dot  \n",
       "0  0.022586  0.295324  \n",
       "1  0.022917  0.295747  \n",
       "2  0.023220  0.296118  \n",
       "3  0.023494  0.296415  \n",
       "4  0.023738  0.296596  \n",
       "\n",
       "[5 rows x 23 columns]"
      ]
     },
     "execution_count": 72,
     "metadata": {},
     "output_type": "execute_result"
    }
   ],
   "source": [
    "df.head()"
   ]
  },
  {
   "cell_type": "code",
   "execution_count": 73,
   "id": "cceda056",
   "metadata": {},
   "outputs": [],
   "source": [
    "df['cycle_growth'], df['trend_growth'] = sm.tsa.filters.hpfilter(df['Y_growth'], lamb = 1600)"
   ]
  },
  {
   "cell_type": "code",
   "execution_count": 74,
   "id": "c56f4583",
   "metadata": {},
   "outputs": [
    {
     "data": {
      "text/plain": [
       "0.05153241121457955"
      ]
     },
     "execution_count": 74,
     "metadata": {},
     "output_type": "execute_result"
    }
   ],
   "source": [
    "#crecimiento largo plazo\n",
    "df['trend_growth'].mean()"
   ]
  },
  {
   "cell_type": "code",
   "execution_count": 75,
   "id": "8a21408f",
   "metadata": {},
   "outputs": [
    {
     "data": {
      "text/plain": [
       "0.04960773047121547"
      ]
     },
     "execution_count": 75,
     "metadata": {},
     "output_type": "execute_result"
    }
   ],
   "source": [
    "#Crecimiento de los últimos años\n",
    "df['trend_growth'].iloc[-30:].mean()"
   ]
  },
  {
   "cell_type": "code",
   "execution_count": 76,
   "id": "875279b2",
   "metadata": {},
   "outputs": [
    {
     "data": {
      "image/png": "[encoded data removed]",
      "text/plain": [
       "<Figure size 720x576 with 1 Axes>"
      ]
     },
     "metadata": {
      "needs_background": "light"
     },
     "output_type": "display_data"
    }
   ],
   "source": [
    "plt.figure(figsize=(10,8))\n",
    "plt.plot(df.Year, df.trend_growth)\n",
    "plt.title('Growth trend')\n",
    "plt.show()"
   ]
  },
  {
   "cell_type": "markdown",
   "id": "c5c7d82c",
   "metadata": {},
   "source": [
    "The findings are the following:\n",
    "\n",
    "* Long run economic growth = ```5.15%```\n",
    "\n",
    "* Last 30 years trend growth = ```4.96%```\n",
    "\n",
    "* Population growth = ```1.85%```\n",
    "\n",
    "* Solow-Swan model interest rate range given a capital depreciation rate range = ```2.26%``` - ```3.42%```\n",
    "\n",
    "* Solow-Swan model interest rate range given a capital depreciation rate random range = ```0.3%``` - ```4.6%```\n",
    "\n",
    "* Minimum rate according to Ramsey-Cass-Koopmans model with external $\\rho$ and $\\theta$ = ```3.57%```\n",
    "\n",
    "* The propable values are in a range from  ```2.26%```  to ```3.57%``` with a tendency to ```2.48%``` if the Solow-Swan Model evidence is prioritized.\n",
    "\n",
    "\n",
    "\n",
    "\n",
    "\n"
   ]
  }
 ],
 "metadata": {
  "kernelspec": {
   "display_name": "Python 3",
   "language": "python",
   "name": "python3"
  },
  "language_info": {
   "codemirror_mode": {
    "name": "ipython",
    "version": 3
   },
   "file_extension": ".py",
   "mimetype": "text/x-python",
   "name": "python",
   "nbconvert_exporter": "python",
   "pygments_lexer": "ipython3",
   "version": "3.8.8"
  }
 },
 "nbformat": 4,
 "nbformat_minor": 5
}
