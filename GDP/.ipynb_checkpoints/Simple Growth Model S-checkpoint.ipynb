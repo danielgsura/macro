{
 "cells": [
  {
   "cell_type": "markdown",
   "id": "4276c680",
   "metadata": {},
   "source": [
    "# Simple growth model derivation of savings rate"
   ]
  },
  {
   "cell_type": "code",
   "execution_count": 15,
   "id": "89ffa7f7",
   "metadata": {},
   "outputs": [],
   "source": [
    "import pandas as pd\n",
    "import numpy as np\n",
    "import statsmodels.api as sm\n",
    "import matplotlib.pyplot as plt\n",
    "import seaborn as sns"
   ]
  },
  {
   "cell_type": "code",
   "execution_count": 16,
   "id": "08391b68",
   "metadata": {},
   "outputs": [
    {
     "data": {
      "text/html": [
       "<div>\n",
       "<style scoped>\n",
       "    .dataframe tbody tr th:only-of-type {\n",
       "        vertical-align: middle;\n",
       "    }\n",
       "\n",
       "    .dataframe tbody tr th {\n",
       "        vertical-align: top;\n",
       "    }\n",
       "\n",
       "    .dataframe thead th {\n",
       "        text-align: right;\n",
       "    }\n",
       "</style>\n",
       "<table border=\"1\" class=\"dataframe\">\n",
       "  <thead>\n",
       "    <tr style=\"text-align: right;\">\n",
       "      <th></th>\n",
       "      <th>Year</th>\n",
       "      <th>K</th>\n",
       "      <th>Y</th>\n",
       "      <th>L</th>\n",
       "      <th>k</th>\n",
       "      <th>y</th>\n",
       "      <th>n</th>\n",
       "    </tr>\n",
       "  </thead>\n",
       "  <tbody>\n",
       "    <tr>\n",
       "      <th>0</th>\n",
       "      <td>1960</td>\n",
       "      <td>5.715010e+08</td>\n",
       "      <td>3.068858e+09</td>\n",
       "      <td>1126989</td>\n",
       "      <td>507.104326</td>\n",
       "      <td>2723.059769</td>\n",
       "      <td>NaN</td>\n",
       "    </tr>\n",
       "    <tr>\n",
       "      <th>1</th>\n",
       "      <td>1961</td>\n",
       "      <td>7.257556e+08</td>\n",
       "      <td>3.404180e+09</td>\n",
       "      <td>1160832</td>\n",
       "      <td>625.202989</td>\n",
       "      <td>2932.534708</td>\n",
       "      <td>0.030030</td>\n",
       "    </tr>\n",
       "    <tr>\n",
       "      <th>2</th>\n",
       "      <td>1962</td>\n",
       "      <td>8.176342e+08</td>\n",
       "      <td>3.684846e+09</td>\n",
       "      <td>1196289</td>\n",
       "      <td>683.475477</td>\n",
       "      <td>3080.230465</td>\n",
       "      <td>0.030544</td>\n",
       "    </tr>\n",
       "    <tr>\n",
       "      <th>3</th>\n",
       "      <td>1963</td>\n",
       "      <td>9.187848e+08</td>\n",
       "      <td>3.999487e+09</td>\n",
       "      <td>1233267</td>\n",
       "      <td>745.000740</td>\n",
       "      <td>3243.001739</td>\n",
       "      <td>0.030911</td>\n",
       "    </tr>\n",
       "    <tr>\n",
       "      <th>4</th>\n",
       "      <td>1964</td>\n",
       "      <td>8.378643e+08</td>\n",
       "      <td>4.176750e+09</td>\n",
       "      <td>1271461</td>\n",
       "      <td>658.977623</td>\n",
       "      <td>3285.000094</td>\n",
       "      <td>0.030970</td>\n",
       "    </tr>\n",
       "  </tbody>\n",
       "</table>\n",
       "</div>"
      ],
      "text/plain": [
       "   Year             K             Y        L           k            y  \\\n",
       "0  1960  5.715010e+08  3.068858e+09  1126989  507.104326  2723.059769   \n",
       "1  1961  7.257556e+08  3.404180e+09  1160832  625.202989  2932.534708   \n",
       "2  1962  8.176342e+08  3.684846e+09  1196289  683.475477  3080.230465   \n",
       "3  1963  9.187848e+08  3.999487e+09  1233267  745.000740  3243.001739   \n",
       "4  1964  8.378643e+08  4.176750e+09  1271461  658.977623  3285.000094   \n",
       "\n",
       "          n  \n",
       "0       NaN  \n",
       "1  0.030030  \n",
       "2  0.030544  \n",
       "3  0.030911  \n",
       "4  0.030970  "
      ]
     },
     "execution_count": 16,
     "metadata": {},
     "output_type": "execute_result"
    }
   ],
   "source": [
    "df = pd.read_excel('simple_golden_rule_pan.xlsx', sheet_name = 'data')\n",
    "df.head()"
   ]
  },
  {
   "cell_type": "markdown",
   "id": "25377c79",
   "metadata": {},
   "source": [
    "## Trend GDP"
   ]
  },
  {
   "cell_type": "markdown",
   "id": "ba41c2a2",
   "metadata": {},
   "source": [
    "Hodrick & Prescott filter"
   ]
  },
  {
   "cell_type": "code",
   "execution_count": 17,
   "id": "83e2727d",
   "metadata": {},
   "outputs": [],
   "source": [
    "df = df.dropna().reset_index(drop=True)\n",
    "df['cycle_k'], df['trend_k'] = sm.tsa.filters.hpfilter(df['k'], lamb= 1600)\n",
    "df['cycle_y'], df['trend_y'] = sm.tsa.filters.hpfilter(df['y'], lamb= 1600)\n",
    "df['cycle_n'], df['trend_n'] = sm.tsa.filters.hpfilter(df['n'], lamb= 1600)"
   ]
  },
  {
   "cell_type": "markdown",
   "id": "5aae085c",
   "metadata": {},
   "source": [
    "## Steady state"
   ]
  },
  {
   "cell_type": "markdown",
   "id": "e6b7f911",
   "metadata": {},
   "source": [
    "Based in the Solow growth model,  the steady state can be defined as:\n",
    "$$ 0 = sf(k^{*}) - (\\delta  + n) k^{*}$$\n",
    "\n",
    "Equivalently:\n",
    "\n",
    "$$ \\frac{y^{*}}{k^{*}} =  \\phi (k^{*}) = \\frac{\\delta + n}{s} $$\n",
    "\n",
    "If we solve for $s$:\n",
    "\n",
    "$$ s = \\frac{\\delta + n}{ y^{*} / k^{*}} $$\n",
    "\n",
    "\n",
    "Where:\n",
    "\n",
    "* $k^{*}$ = = capital stock per capita in steady state\n",
    "* $k^{*}$ = output per capita in steady state\n",
    "* $ \\delta $ = capital depreciation rate\n",
    "* $ n $ = population growht rate\n",
    "* s = savings rate"
   ]
  },
  {
   "cell_type": "code",
   "execution_count": 18,
   "id": "e6d9e100",
   "metadata": {},
   "outputs": [],
   "source": [
    "def savings_rate(delta, n, y, k):\n",
    "    \"\"\"\n",
    "    delta = capital depreciation rate\n",
    "    n = population growth rate\n",
    "    y = output per worker, i.e, GDP per capita\n",
    "    k = capital per worker\n",
    "    \"\"\"\n",
    "    s = (delta + n ) / (y/k)\n",
    "    return(s)"
   ]
  },
  {
   "cell_type": "markdown",
   "id": "6dacfa58",
   "metadata": {},
   "source": [
    "### Capital depreciation rate in Panamá"
   ]
  },
  {
   "cell_type": "markdown",
   "id": "18acf766",
   "metadata": {},
   "source": [
    "Empirical evidence:\n",
    "\n",
    "\n",
    "\"Investment and Capital Stock Depreciation in Panama\" by Samuel Mongrut Montalván. This study analyzes the determinants of investment and capital stock depreciation in Panama using data from 1996 to 2013. The study estimates an average capital depreciation rate of ```7.6%``` for all types of assets, with higher rates for machinery and equipment.\n",
    "\n",
    "\"Estimación de la tasa de depreciación de capital para la economía panameña\" by Edgar García-Sánchez and Rita G. Martínez-Vergara. This study estimates the capital depreciation rate for Panama using data from the national accounts. The study estimates a capital depreciation rate of around ```5.5%```.\n",
    "\n"
   ]
  },
  {
   "cell_type": "code",
   "execution_count": 23,
   "id": "607451ed",
   "metadata": {},
   "outputs": [],
   "source": [
    "delta_grid = np.linspace(0.055, 0.076, 100)"
   ]
  },
  {
   "cell_type": "markdown",
   "id": "bebd8bc9",
   "metadata": {},
   "source": [
    "### Population growth rate\n",
    "Is calculated above for the last 30 years"
   ]
  },
  {
   "cell_type": "code",
   "execution_count": 19,
   "id": "15998af8",
   "metadata": {},
   "outputs": [
    {
     "data": {
      "text/plain": [
       "0.018584272151147586"
      ]
     },
     "execution_count": 19,
     "metadata": {},
     "output_type": "execute_result"
    }
   ],
   "source": [
    "n_30y = df['trend_n'][-30:].mean()\n",
    "n_30y"
   ]
  },
  {
   "cell_type": "markdown",
   "id": "ba7282df",
   "metadata": {},
   "source": [
    "### Output and capital\n",
    "$y^{*}$ and $k^{*}$ are taken as the 2021 trend GDP per capita and Capital per worker in columns ```trend_y``` and ```trend_k```"
   ]
  },
  {
   "cell_type": "markdown",
   "id": "6a7bf7dd",
   "metadata": {},
   "source": [
    "### Savings rate"
   ]
  },
  {
   "cell_type": "code",
   "execution_count": 20,
   "id": "b32e079e",
   "metadata": {},
   "outputs": [
    {
     "data": {
      "text/html": [
       "<div>\n",
       "<style scoped>\n",
       "    .dataframe tbody tr th:only-of-type {\n",
       "        vertical-align: middle;\n",
       "    }\n",
       "\n",
       "    .dataframe tbody tr th {\n",
       "        vertical-align: top;\n",
       "    }\n",
       "\n",
       "    .dataframe thead th {\n",
       "        text-align: right;\n",
       "    }\n",
       "</style>\n",
       "<table border=\"1\" class=\"dataframe\">\n",
       "  <thead>\n",
       "    <tr style=\"text-align: right;\">\n",
       "      <th></th>\n",
       "      <th>Year</th>\n",
       "      <th>K</th>\n",
       "      <th>Y</th>\n",
       "      <th>L</th>\n",
       "      <th>k</th>\n",
       "      <th>y</th>\n",
       "      <th>n</th>\n",
       "      <th>cycle_k</th>\n",
       "      <th>trend_k</th>\n",
       "      <th>cycle_y</th>\n",
       "      <th>trend_y</th>\n",
       "      <th>cycle_n</th>\n",
       "      <th>trend_n</th>\n",
       "      <th>n_20</th>\n",
       "      <th>n_30</th>\n",
       "    </tr>\n",
       "  </thead>\n",
       "  <tbody>\n",
       "    <tr>\n",
       "      <th>0</th>\n",
       "      <td>1961</td>\n",
       "      <td>7.257556e+08</td>\n",
       "      <td>3.404180e+09</td>\n",
       "      <td>1160832</td>\n",
       "      <td>625.202989</td>\n",
       "      <td>2932.534708</td>\n",
       "      <td>0.030030</td>\n",
       "      <td>-171.755992</td>\n",
       "      <td>796.958981</td>\n",
       "      <td>-171.884519</td>\n",
       "      <td>3104.419228</td>\n",
       "      <td>-0.001522</td>\n",
       "      <td>0.031551</td>\n",
       "      <td>0.02798</td>\n",
       "      <td>0.026227</td>\n",
       "    </tr>\n",
       "    <tr>\n",
       "      <th>1</th>\n",
       "      <td>1962</td>\n",
       "      <td>8.176342e+08</td>\n",
       "      <td>3.684846e+09</td>\n",
       "      <td>1196289</td>\n",
       "      <td>683.475477</td>\n",
       "      <td>3080.230465</td>\n",
       "      <td>0.030544</td>\n",
       "      <td>-159.226540</td>\n",
       "      <td>842.702017</td>\n",
       "      <td>-155.002111</td>\n",
       "      <td>3235.232577</td>\n",
       "      <td>-0.000648</td>\n",
       "      <td>0.031193</td>\n",
       "      <td>0.02798</td>\n",
       "      <td>0.026227</td>\n",
       "    </tr>\n",
       "    <tr>\n",
       "      <th>2</th>\n",
       "      <td>1963</td>\n",
       "      <td>9.187848e+08</td>\n",
       "      <td>3.999487e+09</td>\n",
       "      <td>1233267</td>\n",
       "      <td>745.000740</td>\n",
       "      <td>3243.001739</td>\n",
       "      <td>0.030911</td>\n",
       "      <td>-143.336964</td>\n",
       "      <td>888.337704</td>\n",
       "      <td>-122.936759</td>\n",
       "      <td>3365.938498</td>\n",
       "      <td>0.000078</td>\n",
       "      <td>0.030833</td>\n",
       "      <td>0.02798</td>\n",
       "      <td>0.026227</td>\n",
       "    </tr>\n",
       "    <tr>\n",
       "      <th>3</th>\n",
       "      <td>1964</td>\n",
       "      <td>8.378643e+08</td>\n",
       "      <td>4.176750e+09</td>\n",
       "      <td>1271461</td>\n",
       "      <td>658.977623</td>\n",
       "      <td>3285.000094</td>\n",
       "      <td>0.030970</td>\n",
       "      <td>-274.681558</td>\n",
       "      <td>933.659181</td>\n",
       "      <td>-211.332593</td>\n",
       "      <td>3496.332687</td>\n",
       "      <td>0.000499</td>\n",
       "      <td>0.030471</td>\n",
       "      <td>0.02798</td>\n",
       "      <td>0.026227</td>\n",
       "    </tr>\n",
       "    <tr>\n",
       "      <th>4</th>\n",
       "      <td>1965</td>\n",
       "      <td>9.508159e+08</td>\n",
       "      <td>4.559341e+09</td>\n",
       "      <td>1310556</td>\n",
       "      <td>725.505716</td>\n",
       "      <td>3478.936630</td>\n",
       "      <td>0.030748</td>\n",
       "      <td>-252.864279</td>\n",
       "      <td>978.369996</td>\n",
       "      <td>-147.197375</td>\n",
       "      <td>3626.134005</td>\n",
       "      <td>0.000643</td>\n",
       "      <td>0.030105</td>\n",
       "      <td>0.02798</td>\n",
       "      <td>0.026227</td>\n",
       "    </tr>\n",
       "  </tbody>\n",
       "</table>\n",
       "</div>"
      ],
      "text/plain": [
       "   Year             K             Y        L           k            y  \\\n",
       "0  1961  7.257556e+08  3.404180e+09  1160832  625.202989  2932.534708   \n",
       "1  1962  8.176342e+08  3.684846e+09  1196289  683.475477  3080.230465   \n",
       "2  1963  9.187848e+08  3.999487e+09  1233267  745.000740  3243.001739   \n",
       "3  1964  8.378643e+08  4.176750e+09  1271461  658.977623  3285.000094   \n",
       "4  1965  9.508159e+08  4.559341e+09  1310556  725.505716  3478.936630   \n",
       "\n",
       "          n     cycle_k     trend_k     cycle_y      trend_y   cycle_n  \\\n",
       "0  0.030030 -171.755992  796.958981 -171.884519  3104.419228 -0.001522   \n",
       "1  0.030544 -159.226540  842.702017 -155.002111  3235.232577 -0.000648   \n",
       "2  0.030911 -143.336964  888.337704 -122.936759  3365.938498  0.000078   \n",
       "3  0.030970 -274.681558  933.659181 -211.332593  3496.332687  0.000499   \n",
       "4  0.030748 -252.864279  978.369996 -147.197375  3626.134005  0.000643   \n",
       "\n",
       "    trend_n     n_20      n_30  \n",
       "0  0.031551  0.02798  0.026227  \n",
       "1  0.031193  0.02798  0.026227  \n",
       "2  0.030833  0.02798  0.026227  \n",
       "3  0.030471  0.02798  0.026227  \n",
       "4  0.030105  0.02798  0.026227  "
      ]
     },
     "execution_count": 20,
     "metadata": {},
     "output_type": "execute_result"
    }
   ],
   "source": [
    "#Rolling 20 and 30 year mean\n",
    "df['n_20'] = df['n'].rolling(window=20).mean()\n",
    "df['n_20'].fillna(method = 'backfill', inplace = True)\n",
    "\n",
    "df['n_30'] = df['n'].rolling(window=30).mean()\n",
    "df['n_30'].fillna(method = 'backfill', inplace = True)\n",
    "df.head()\n"
   ]
  },
  {
   "cell_type": "code",
   "execution_count": 44,
   "id": "f24672fc",
   "metadata": {},
   "outputs": [],
   "source": [
    "y = df['trend_y'].iloc[-1]\n",
    "k = df['trend_k'].iloc[-1]\n",
    "n = n_30y\n",
    "s_list = []\n",
    "for i in range(len(delta_grid)):\n",
    "    s = savings_rate(delta_grid[i], n, y, k)\n",
    "    s_list.append(s)"
   ]
  },
  {
   "cell_type": "code",
   "execution_count": 43,
   "id": "eea55734",
   "metadata": {},
   "outputs": [
    {
     "name": "stdout",
     "output_type": "stream",
     "text": [
      "minimo 0.026680329169132835\n",
      "media 0.030487439684549224\n",
      "maximo 0.0342945501999656\n"
     ]
    }
   ],
   "source": [
    "print('minimo' , np.min(s_list))\n",
    "print('media' , np.mean(s_list))\n",
    "print('maximo' , np.max(s_list))"
   ]
  }
 ],
 "metadata": {
  "kernelspec": {
   "display_name": "Python 3 (ipykernel)",
   "language": "python",
   "name": "python3"
  },
  "language_info": {
   "codemirror_mode": {
    "name": "ipython",
    "version": 3
   },
   "file_extension": ".py",
   "mimetype": "text/x-python",
   "name": "python",
   "nbconvert_exporter": "python",
   "pygments_lexer": "ipython3",
   "version": "3.10.8"
  }
 },
 "nbformat": 4,
 "nbformat_minor": 5
}
