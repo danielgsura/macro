{
 "cells": [
  {
   "cell_type": "markdown",
   "id": "4276c680",
   "metadata": {},
   "source": [
    "# Simple growth model derivation of savings rate"
   ]
  },
  {
   "cell_type": "code",
   "execution_count": 34,
   "id": "89ffa7f7",
   "metadata": {},
   "outputs": [],
   "source": [
    "import pandas as pd\n",
    "import numpy as np\n",
    "import statsmodels.api as sm\n",
    "import matplotlib.pyplot as plt\n",
    "import seaborn as sns"
   ]
  },
  {
   "cell_type": "code",
   "execution_count": 48,
   "id": "08391b68",
   "metadata": {},
   "outputs": [
    {
     "data": {
      "text/html": [
       "<div>\n",
       "<style scoped>\n",
       "    .dataframe tbody tr th:only-of-type {\n",
       "        vertical-align: middle;\n",
       "    }\n",
       "\n",
       "    .dataframe tbody tr th {\n",
       "        vertical-align: top;\n",
       "    }\n",
       "\n",
       "    .dataframe thead th {\n",
       "        text-align: right;\n",
       "    }\n",
       "</style>\n",
       "<table border=\"1\" class=\"dataframe\">\n",
       "  <thead>\n",
       "    <tr style=\"text-align: right;\">\n",
       "      <th></th>\n",
       "      <th>Year</th>\n",
       "      <th>K</th>\n",
       "      <th>Y</th>\n",
       "      <th>L</th>\n",
       "      <th>S_Y</th>\n",
       "      <th>C</th>\n",
       "      <th>k</th>\n",
       "      <th>y</th>\n",
       "      <th>c</th>\n",
       "      <th>Y_growth</th>\n",
       "      <th>n</th>\n",
       "    </tr>\n",
       "  </thead>\n",
       "  <tbody>\n",
       "    <tr>\n",
       "      <th>0</th>\n",
       "      <td>1960</td>\n",
       "      <td>5.715010e+08</td>\n",
       "      <td>3.068858e+09</td>\n",
       "      <td>1126989</td>\n",
       "      <td>0.199585</td>\n",
       "      <td>2.347940e+09</td>\n",
       "      <td>507.104326</td>\n",
       "      <td>2723.059769</td>\n",
       "      <td>2083.374112</td>\n",
       "      <td>NaN</td>\n",
       "      <td>NaN</td>\n",
       "    </tr>\n",
       "    <tr>\n",
       "      <th>1</th>\n",
       "      <td>1961</td>\n",
       "      <td>7.257556e+08</td>\n",
       "      <td>3.404180e+09</td>\n",
       "      <td>1160832</td>\n",
       "      <td>0.237045</td>\n",
       "      <td>2.516194e+09</td>\n",
       "      <td>625.202989</td>\n",
       "      <td>2932.534708</td>\n",
       "      <td>2167.577960</td>\n",
       "      <td>0.109266</td>\n",
       "      <td>0.030030</td>\n",
       "    </tr>\n",
       "    <tr>\n",
       "      <th>2</th>\n",
       "      <td>1962</td>\n",
       "      <td>8.176342e+08</td>\n",
       "      <td>3.684846e+09</td>\n",
       "      <td>1196289</td>\n",
       "      <td>0.257089</td>\n",
       "      <td>2.671750e+09</td>\n",
       "      <td>683.475477</td>\n",
       "      <td>3080.230465</td>\n",
       "      <td>2233.364732</td>\n",
       "      <td>0.082447</td>\n",
       "      <td>0.030544</td>\n",
       "    </tr>\n",
       "    <tr>\n",
       "      <th>3</th>\n",
       "      <td>1963</td>\n",
       "      <td>9.187848e+08</td>\n",
       "      <td>3.999487e+09</td>\n",
       "      <td>1233267</td>\n",
       "      <td>0.236907</td>\n",
       "      <td>2.958099e+09</td>\n",
       "      <td>745.000740</td>\n",
       "      <td>3243.001739</td>\n",
       "      <td>2398.587810</td>\n",
       "      <td>0.085388</td>\n",
       "      <td>0.030911</td>\n",
       "    </tr>\n",
       "    <tr>\n",
       "      <th>4</th>\n",
       "      <td>1964</td>\n",
       "      <td>8.378643e+08</td>\n",
       "      <td>4.176750e+09</td>\n",
       "      <td>1271461</td>\n",
       "      <td>0.230943</td>\n",
       "      <td>3.148576e+09</td>\n",
       "      <td>658.977623</td>\n",
       "      <td>3285.000094</td>\n",
       "      <td>2476.344615</td>\n",
       "      <td>0.044321</td>\n",
       "      <td>0.030970</td>\n",
       "    </tr>\n",
       "  </tbody>\n",
       "</table>\n",
       "</div>"
      ],
      "text/plain": [
       "   Year             K             Y        L       S_Y             C  \\\n",
       "0  1960  5.715010e+08  3.068858e+09  1126989  0.199585  2.347940e+09   \n",
       "1  1961  7.257556e+08  3.404180e+09  1160832  0.237045  2.516194e+09   \n",
       "2  1962  8.176342e+08  3.684846e+09  1196289  0.257089  2.671750e+09   \n",
       "3  1963  9.187848e+08  3.999487e+09  1233267  0.236907  2.958099e+09   \n",
       "4  1964  8.378643e+08  4.176750e+09  1271461  0.230943  3.148576e+09   \n",
       "\n",
       "            k            y            c  Y_growth         n  \n",
       "0  507.104326  2723.059769  2083.374112       NaN       NaN  \n",
       "1  625.202989  2932.534708  2167.577960  0.109266  0.030030  \n",
       "2  683.475477  3080.230465  2233.364732  0.082447  0.030544  \n",
       "3  745.000740  3243.001739  2398.587810  0.085388  0.030911  \n",
       "4  658.977623  3285.000094  2476.344615  0.044321  0.030970  "
      ]
     },
     "execution_count": 48,
     "metadata": {},
     "output_type": "execute_result"
    }
   ],
   "source": [
    "df = pd.read_excel('simple_golden_rule_pan.xlsx', sheet_name = 'data')\n",
    "df.head()"
   ]
  },
  {
   "cell_type": "markdown",
   "id": "25377c79",
   "metadata": {},
   "source": [
    "## Trend GDP"
   ]
  },
  {
   "cell_type": "markdown",
   "id": "ba41c2a2",
   "metadata": {},
   "source": [
    "Hodrick & Prescott filter"
   ]
  },
  {
   "cell_type": "code",
   "execution_count": 49,
   "id": "83e2727d",
   "metadata": {},
   "outputs": [],
   "source": [
    "df = df.dropna().reset_index(drop=True)\n",
    "df['cycle_k'], df['trend_k'] = sm.tsa.filters.hpfilter(df['k'], lamb= 1600)\n",
    "df['cycle_y'], df['trend_y'] = sm.tsa.filters.hpfilter(df['y'], lamb= 1600)\n",
    "df['cycle_c'], df['trend_c'] = sm.tsa.filters.hpfilter(df['c'], lamb= 1600)\n",
    "df['cycle_n'], df['trend_n'] = sm.tsa.filters.hpfilter(df['n'], lamb= 1600)"
   ]
  },
  {
   "cell_type": "markdown",
   "id": "5aae085c",
   "metadata": {},
   "source": [
    "## Steady state"
   ]
  },
  {
   "cell_type": "markdown",
   "id": "e6b7f911",
   "metadata": {},
   "source": [
    "Based in the Solow growth model,  the steady state can be defined as:\n",
    "$$ 0 = sf(k^{*}) - (\\delta  + n) k^{*}$$\n",
    "\n",
    "Equivalently:\n",
    "\n",
    "$$ \\frac{y^{*}}{k^{*}} =  \\phi (k^{*}) = \\frac{\\delta + n}{s} $$\n",
    "\n",
    "If we solve for $s$:\n",
    "\n",
    "$$ s = \\frac{\\delta + n}{ y^{*} / k^{*}} $$\n",
    "\n",
    "\n",
    "Where:\n",
    "\n",
    "* $k^{*}$ = = capital stock per capita in steady state\n",
    "* $k^{*}$ = output per capita in steady state\n",
    "* $ \\delta $ = capital depreciation rate\n",
    "* $ n $ = population growht rate\n",
    "* s = savings rate"
   ]
  },
  {
   "cell_type": "code",
   "execution_count": 50,
   "id": "e6d9e100",
   "metadata": {},
   "outputs": [],
   "source": [
    "def savings_rate(delta, n, y, k):\n",
    "    \"\"\"\n",
    "    delta = capital depreciation rate\n",
    "    n = population growth rate\n",
    "    y = output per worker, i.e, GDP per capita\n",
    "    k = capital per worker\n",
    "    \"\"\"\n",
    "    s = (delta + n ) / (y/k)\n",
    "    return(s)"
   ]
  },
  {
   "cell_type": "markdown",
   "id": "6dacfa58",
   "metadata": {},
   "source": [
    "### Capital depreciation rate in Panamá"
   ]
  },
  {
   "cell_type": "markdown",
   "id": "18acf766",
   "metadata": {},
   "source": [
    "Empirical evidence:\n",
    "\n",
    "\n",
    "\"Investment and Capital Stock Depreciation in Panama\" by Samuel Mongrut Montalván. This study analyzes the determinants of investment and capital stock depreciation in Panama using data from 1996 to 2013. The study estimates an average capital depreciation rate of ```7.6%``` for all types of assets, with higher rates for machinery and equipment.\n",
    "\n",
    "\"Estimación de la tasa de depreciación de capital para la economía panameña\" by Edgar García-Sánchez and Rita G. Martínez-Vergara. This study estimates the capital depreciation rate for Panama using data from the national accounts. The study estimates a capital depreciation rate of around ```5.5%```.\n",
    "\n"
   ]
  },
  {
   "cell_type": "code",
   "execution_count": 51,
   "id": "607451ed",
   "metadata": {},
   "outputs": [],
   "source": [
    "delta_grid = np.linspace(0.055, 0.076, 100)"
   ]
  },
  {
   "cell_type": "markdown",
   "id": "bebd8bc9",
   "metadata": {},
   "source": [
    "### Population growth rate\n",
    "Is calculated above for the last 30 years"
   ]
  },
  {
   "cell_type": "code",
   "execution_count": 52,
   "id": "15998af8",
   "metadata": {},
   "outputs": [
    {
     "data": {
      "text/plain": [
       "0.018584272151147586"
      ]
     },
     "execution_count": 52,
     "metadata": {},
     "output_type": "execute_result"
    }
   ],
   "source": [
    "n_30y = df['trend_n'][-30:].mean()\n",
    "n_30y"
   ]
  },
  {
   "cell_type": "markdown",
   "id": "ba7282df",
   "metadata": {},
   "source": [
    "### Output and capital\n",
    "$y^{*}$ and $k^{*}$ are taken as the 2021 trend GDP per capita and Capital per worker in columns ```trend_y``` and ```trend_k```"
   ]
  },
  {
   "cell_type": "markdown",
   "id": "6a7bf7dd",
   "metadata": {},
   "source": [
    "### Savings rate"
   ]
  },
  {
   "cell_type": "code",
   "execution_count": 53,
   "id": "b32e079e",
   "metadata": {},
   "outputs": [
    {
     "data": {
      "text/html": [
       "<div>\n",
       "<style scoped>\n",
       "    .dataframe tbody tr th:only-of-type {\n",
       "        vertical-align: middle;\n",
       "    }\n",
       "\n",
       "    .dataframe tbody tr th {\n",
       "        vertical-align: top;\n",
       "    }\n",
       "\n",
       "    .dataframe thead th {\n",
       "        text-align: right;\n",
       "    }\n",
       "</style>\n",
       "<table border=\"1\" class=\"dataframe\">\n",
       "  <thead>\n",
       "    <tr style=\"text-align: right;\">\n",
       "      <th></th>\n",
       "      <th>Year</th>\n",
       "      <th>K</th>\n",
       "      <th>Y</th>\n",
       "      <th>L</th>\n",
       "      <th>S_Y</th>\n",
       "      <th>C</th>\n",
       "      <th>k</th>\n",
       "      <th>y</th>\n",
       "      <th>c</th>\n",
       "      <th>Y_growth</th>\n",
       "      <th>...</th>\n",
       "      <th>cycle_k</th>\n",
       "      <th>trend_k</th>\n",
       "      <th>cycle_y</th>\n",
       "      <th>trend_y</th>\n",
       "      <th>cycle_c</th>\n",
       "      <th>trend_c</th>\n",
       "      <th>cycle_n</th>\n",
       "      <th>trend_n</th>\n",
       "      <th>n_20</th>\n",
       "      <th>n_30</th>\n",
       "    </tr>\n",
       "  </thead>\n",
       "  <tbody>\n",
       "    <tr>\n",
       "      <th>0</th>\n",
       "      <td>1961</td>\n",
       "      <td>7.257556e+08</td>\n",
       "      <td>3.404180e+09</td>\n",
       "      <td>1160832</td>\n",
       "      <td>0.237045</td>\n",
       "      <td>2.516194e+09</td>\n",
       "      <td>625.202989</td>\n",
       "      <td>2932.534708</td>\n",
       "      <td>2167.577960</td>\n",
       "      <td>0.109266</td>\n",
       "      <td>...</td>\n",
       "      <td>-171.755992</td>\n",
       "      <td>796.958981</td>\n",
       "      <td>-171.884519</td>\n",
       "      <td>3104.419228</td>\n",
       "      <td>-20.033162</td>\n",
       "      <td>2187.611122</td>\n",
       "      <td>-0.001522</td>\n",
       "      <td>0.031551</td>\n",
       "      <td>0.02798</td>\n",
       "      <td>0.026227</td>\n",
       "    </tr>\n",
       "    <tr>\n",
       "      <th>1</th>\n",
       "      <td>1962</td>\n",
       "      <td>8.176342e+08</td>\n",
       "      <td>3.684846e+09</td>\n",
       "      <td>1196289</td>\n",
       "      <td>0.257089</td>\n",
       "      <td>2.671750e+09</td>\n",
       "      <td>683.475477</td>\n",
       "      <td>3080.230465</td>\n",
       "      <td>2233.364732</td>\n",
       "      <td>0.082447</td>\n",
       "      <td>...</td>\n",
       "      <td>-159.226540</td>\n",
       "      <td>842.702017</td>\n",
       "      <td>-155.002111</td>\n",
       "      <td>3235.232577</td>\n",
       "      <td>-45.058187</td>\n",
       "      <td>2278.422919</td>\n",
       "      <td>-0.000648</td>\n",
       "      <td>0.031193</td>\n",
       "      <td>0.02798</td>\n",
       "      <td>0.026227</td>\n",
       "    </tr>\n",
       "    <tr>\n",
       "      <th>2</th>\n",
       "      <td>1963</td>\n",
       "      <td>9.187848e+08</td>\n",
       "      <td>3.999487e+09</td>\n",
       "      <td>1233267</td>\n",
       "      <td>0.236907</td>\n",
       "      <td>2.958099e+09</td>\n",
       "      <td>745.000740</td>\n",
       "      <td>3243.001739</td>\n",
       "      <td>2398.587810</td>\n",
       "      <td>0.085388</td>\n",
       "      <td>...</td>\n",
       "      <td>-143.336964</td>\n",
       "      <td>888.337704</td>\n",
       "      <td>-122.936759</td>\n",
       "      <td>3365.938498</td>\n",
       "      <td>29.365613</td>\n",
       "      <td>2369.222197</td>\n",
       "      <td>0.000078</td>\n",
       "      <td>0.030833</td>\n",
       "      <td>0.02798</td>\n",
       "      <td>0.026227</td>\n",
       "    </tr>\n",
       "    <tr>\n",
       "      <th>3</th>\n",
       "      <td>1964</td>\n",
       "      <td>8.378643e+08</td>\n",
       "      <td>4.176750e+09</td>\n",
       "      <td>1271461</td>\n",
       "      <td>0.230943</td>\n",
       "      <td>3.148576e+09</td>\n",
       "      <td>658.977623</td>\n",
       "      <td>3285.000094</td>\n",
       "      <td>2476.344615</td>\n",
       "      <td>0.044321</td>\n",
       "      <td>...</td>\n",
       "      <td>-274.681558</td>\n",
       "      <td>933.659181</td>\n",
       "      <td>-211.332593</td>\n",
       "      <td>3496.332687</td>\n",
       "      <td>16.376344</td>\n",
       "      <td>2459.968271</td>\n",
       "      <td>0.000499</td>\n",
       "      <td>0.030471</td>\n",
       "      <td>0.02798</td>\n",
       "      <td>0.026227</td>\n",
       "    </tr>\n",
       "    <tr>\n",
       "      <th>4</th>\n",
       "      <td>1965</td>\n",
       "      <td>9.508159e+08</td>\n",
       "      <td>4.559341e+09</td>\n",
       "      <td>1310556</td>\n",
       "      <td>0.239947</td>\n",
       "      <td>3.412703e+09</td>\n",
       "      <td>725.505716</td>\n",
       "      <td>3478.936630</td>\n",
       "      <td>2604.011598</td>\n",
       "      <td>0.091600</td>\n",
       "      <td>...</td>\n",
       "      <td>-252.864279</td>\n",
       "      <td>978.369996</td>\n",
       "      <td>-147.197375</td>\n",
       "      <td>3626.134005</td>\n",
       "      <td>53.372784</td>\n",
       "      <td>2550.638814</td>\n",
       "      <td>0.000643</td>\n",
       "      <td>0.030105</td>\n",
       "      <td>0.02798</td>\n",
       "      <td>0.026227</td>\n",
       "    </tr>\n",
       "  </tbody>\n",
       "</table>\n",
       "<p>5 rows × 21 columns</p>\n",
       "</div>"
      ],
      "text/plain": [
       "   Year             K             Y        L       S_Y             C  \\\n",
       "0  1961  7.257556e+08  3.404180e+09  1160832  0.237045  2.516194e+09   \n",
       "1  1962  8.176342e+08  3.684846e+09  1196289  0.257089  2.671750e+09   \n",
       "2  1963  9.187848e+08  3.999487e+09  1233267  0.236907  2.958099e+09   \n",
       "3  1964  8.378643e+08  4.176750e+09  1271461  0.230943  3.148576e+09   \n",
       "4  1965  9.508159e+08  4.559341e+09  1310556  0.239947  3.412703e+09   \n",
       "\n",
       "            k            y            c  Y_growth  ...     cycle_k  \\\n",
       "0  625.202989  2932.534708  2167.577960  0.109266  ... -171.755992   \n",
       "1  683.475477  3080.230465  2233.364732  0.082447  ... -159.226540   \n",
       "2  745.000740  3243.001739  2398.587810  0.085388  ... -143.336964   \n",
       "3  658.977623  3285.000094  2476.344615  0.044321  ... -274.681558   \n",
       "4  725.505716  3478.936630  2604.011598  0.091600  ... -252.864279   \n",
       "\n",
       "      trend_k     cycle_y      trend_y    cycle_c      trend_c   cycle_n  \\\n",
       "0  796.958981 -171.884519  3104.419228 -20.033162  2187.611122 -0.001522   \n",
       "1  842.702017 -155.002111  3235.232577 -45.058187  2278.422919 -0.000648   \n",
       "2  888.337704 -122.936759  3365.938498  29.365613  2369.222197  0.000078   \n",
       "3  933.659181 -211.332593  3496.332687  16.376344  2459.968271  0.000499   \n",
       "4  978.369996 -147.197375  3626.134005  53.372784  2550.638814  0.000643   \n",
       "\n",
       "    trend_n     n_20      n_30  \n",
       "0  0.031551  0.02798  0.026227  \n",
       "1  0.031193  0.02798  0.026227  \n",
       "2  0.030833  0.02798  0.026227  \n",
       "3  0.030471  0.02798  0.026227  \n",
       "4  0.030105  0.02798  0.026227  \n",
       "\n",
       "[5 rows x 21 columns]"
      ]
     },
     "execution_count": 53,
     "metadata": {},
     "output_type": "execute_result"
    }
   ],
   "source": [
    "#Rolling 20 and 30 year mean\n",
    "df['n_20'] = df['n'].rolling(window=20).mean()\n",
    "df['n_20'].fillna(method = 'backfill', inplace = True)\n",
    "\n",
    "df['n_30'] = df['n'].rolling(window=30).mean()\n",
    "df['n_30'].fillna(method = 'backfill', inplace = True)\n",
    "df.head()\n"
   ]
  },
  {
   "cell_type": "code",
   "execution_count": 54,
   "id": "f24672fc",
   "metadata": {},
   "outputs": [],
   "source": [
    "y = df['trend_y'].iloc[-1]\n",
    "k = df['trend_k'].iloc[-1]\n",
    "n = n_30y\n",
    "s_list = []\n",
    "for i in range(len(delta_grid)):\n",
    "    s = savings_rate(delta_grid[i], n, y, k)\n",
    "    s_list.append(s)"
   ]
  },
  {
   "cell_type": "code",
   "execution_count": 55,
   "id": "eea55734",
   "metadata": {},
   "outputs": [
    {
     "name": "stdout",
     "output_type": "stream",
     "text": [
      "minimo 0.026680329169132835\n",
      "media 0.030487439684549224\n",
      "maximo 0.0342945501999656\n"
     ]
    }
   ],
   "source": [
    "print('minimo' , np.min(s_list))\n",
    "print('media' , np.mean(s_list))\n",
    "print('maximo' , np.max(s_list))"
   ]
  },
  {
   "cell_type": "code",
   "execution_count": 56,
   "id": "659ee22a",
   "metadata": {},
   "outputs": [],
   "source": [
    "delta_mean = delta_grid.mean()\n",
    "s_historic = []\n",
    "for i in range(len(df)):\n",
    "    n = df.at[i,'n_20']\n",
    "    y = df.at[i,'trend_y']\n",
    "    k = df.at[i,'trend_k']\n",
    "    s = savings_rate(delta_mean, n, y, k)\n",
    "    s_historic.append(s)\n",
    "\n",
    "df['s'] = s_historic"
   ]
  },
  {
   "cell_type": "code",
   "execution_count": 57,
   "id": "963e14a6",
   "metadata": {},
   "outputs": [
    {
     "data": {
      "text/plain": [
       "[<matplotlib.lines.Line2D at 0x1fed0d18fa0>]"
      ]
     },
     "execution_count": 57,
     "metadata": {},
     "output_type": "execute_result"
    },
    {
     "data": {
      "image/png": "[encoded data removed]",
      "text/plain": [
       "<Figure size 432x288 with 1 Axes>"
      ]
     },
     "metadata": {
      "needs_background": "light"
     },
     "output_type": "display_data"
    }
   ],
   "source": [
    "plt.plot(df.Year, df.s)"
   ]
  },
  {
   "cell_type": "markdown",
   "id": "87f1bb03",
   "metadata": {},
   "source": [
    "# Ramsey Cass Koopmans savings rate"
   ]
  },
  {
   "cell_type": "markdown",
   "id": "4687fa4c",
   "metadata": {},
   "source": [
    "According to the RCK model, the savings rate is endogenous and can be determined as follows:\n",
    "\n",
    "$$ s = \\frac{y-c}{y} $$\n",
    "\n",
    "This translates into a savings rate that is a function of $f(k)$ and $c$, transforming the steady state capital per worker to:\n",
    "$$ \\dot{k} = f(k) - c +(n+g+\\delta)k $$\n",
    "where $g$ stands for the constant growth rate of tecnology, $n$ the population growth rate and $\\delta$ the capital depreciation rate.\n",
    "\n",
    "But if we assume that the consumption and product are in their steady state, we can derive the savings rate as follows:\n",
    "\n",
    "$$ \\dot{s} = \\frac{\\dot{y}-\\dot{c}}{\\dot{y}} $$\n"
   ]
  },
  {
   "cell_type": "code",
   "execution_count": 58,
   "id": "c2e87542",
   "metadata": {},
   "outputs": [
    {
     "data": {
      "image/png": "[encoded data removed]",
      "text/plain": [
       "<Figure size 720x576 with 1 Axes>"
      ]
     },
     "metadata": {
      "needs_background": "light"
     },
     "output_type": "display_data"
    }
   ],
   "source": [
    "df['s_dot'] = (df['trend_y'] - df['trend_c'])/df['trend_y']\n",
    "plt.figure(figsize=(10,8))\n",
    "plt.plot(df.Year, df.s_dot)\n",
    "plt.title('Ramsey Cass Koopmans Savings rate')\n",
    "plt.show()"
   ]
  },
  {
   "cell_type": "markdown",
   "id": "a6622ede",
   "metadata": {},
   "source": [
    "# Long run economic growth"
   ]
  },
  {
   "cell_type": "code",
   "execution_count": 60,
   "id": "b3a3ef65",
   "metadata": {},
   "outputs": [
    {
     "data": {
      "text/html": [
       "<div>\n",
       "<style scoped>\n",
       "    .dataframe tbody tr th:only-of-type {\n",
       "        vertical-align: middle;\n",
       "    }\n",
       "\n",
       "    .dataframe tbody tr th {\n",
       "        vertical-align: top;\n",
       "    }\n",
       "\n",
       "    .dataframe thead th {\n",
       "        text-align: right;\n",
       "    }\n",
       "</style>\n",
       "<table border=\"1\" class=\"dataframe\">\n",
       "  <thead>\n",
       "    <tr style=\"text-align: right;\">\n",
       "      <th></th>\n",
       "      <th>Year</th>\n",
       "      <th>K</th>\n",
       "      <th>Y</th>\n",
       "      <th>L</th>\n",
       "      <th>S_Y</th>\n",
       "      <th>C</th>\n",
       "      <th>k</th>\n",
       "      <th>y</th>\n",
       "      <th>c</th>\n",
       "      <th>Y_growth</th>\n",
       "      <th>...</th>\n",
       "      <th>cycle_y</th>\n",
       "      <th>trend_y</th>\n",
       "      <th>cycle_c</th>\n",
       "      <th>trend_c</th>\n",
       "      <th>cycle_n</th>\n",
       "      <th>trend_n</th>\n",
       "      <th>n_20</th>\n",
       "      <th>n_30</th>\n",
       "      <th>s</th>\n",
       "      <th>s_dot</th>\n",
       "    </tr>\n",
       "  </thead>\n",
       "  <tbody>\n",
       "    <tr>\n",
       "      <th>0</th>\n",
       "      <td>1961</td>\n",
       "      <td>7.257556e+08</td>\n",
       "      <td>3.404180e+09</td>\n",
       "      <td>1160832</td>\n",
       "      <td>0.237045</td>\n",
       "      <td>2.516194e+09</td>\n",
       "      <td>625.202989</td>\n",
       "      <td>2932.534708</td>\n",
       "      <td>2167.577960</td>\n",
       "      <td>0.109266</td>\n",
       "      <td>...</td>\n",
       "      <td>-171.884519</td>\n",
       "      <td>3104.419228</td>\n",
       "      <td>-20.033162</td>\n",
       "      <td>2187.611122</td>\n",
       "      <td>-0.001522</td>\n",
       "      <td>0.031551</td>\n",
       "      <td>0.02798</td>\n",
       "      <td>0.026227</td>\n",
       "      <td>0.023998</td>\n",
       "      <td>0.295324</td>\n",
       "    </tr>\n",
       "    <tr>\n",
       "      <th>1</th>\n",
       "      <td>1962</td>\n",
       "      <td>8.176342e+08</td>\n",
       "      <td>3.684846e+09</td>\n",
       "      <td>1196289</td>\n",
       "      <td>0.257089</td>\n",
       "      <td>2.671750e+09</td>\n",
       "      <td>683.475477</td>\n",
       "      <td>3080.230465</td>\n",
       "      <td>2233.364732</td>\n",
       "      <td>0.082447</td>\n",
       "      <td>...</td>\n",
       "      <td>-155.002111</td>\n",
       "      <td>3235.232577</td>\n",
       "      <td>-45.058187</td>\n",
       "      <td>2278.422919</td>\n",
       "      <td>-0.000648</td>\n",
       "      <td>0.031193</td>\n",
       "      <td>0.02798</td>\n",
       "      <td>0.026227</td>\n",
       "      <td>0.024349</td>\n",
       "      <td>0.295747</td>\n",
       "    </tr>\n",
       "    <tr>\n",
       "      <th>2</th>\n",
       "      <td>1963</td>\n",
       "      <td>9.187848e+08</td>\n",
       "      <td>3.999487e+09</td>\n",
       "      <td>1233267</td>\n",
       "      <td>0.236907</td>\n",
       "      <td>2.958099e+09</td>\n",
       "      <td>745.000740</td>\n",
       "      <td>3243.001739</td>\n",
       "      <td>2398.587810</td>\n",
       "      <td>0.085388</td>\n",
       "      <td>...</td>\n",
       "      <td>-122.936759</td>\n",
       "      <td>3365.938498</td>\n",
       "      <td>29.365613</td>\n",
       "      <td>2369.222197</td>\n",
       "      <td>0.000078</td>\n",
       "      <td>0.030833</td>\n",
       "      <td>0.02798</td>\n",
       "      <td>0.026227</td>\n",
       "      <td>0.024671</td>\n",
       "      <td>0.296118</td>\n",
       "    </tr>\n",
       "    <tr>\n",
       "      <th>3</th>\n",
       "      <td>1964</td>\n",
       "      <td>8.378643e+08</td>\n",
       "      <td>4.176750e+09</td>\n",
       "      <td>1271461</td>\n",
       "      <td>0.230943</td>\n",
       "      <td>3.148576e+09</td>\n",
       "      <td>658.977623</td>\n",
       "      <td>3285.000094</td>\n",
       "      <td>2476.344615</td>\n",
       "      <td>0.044321</td>\n",
       "      <td>...</td>\n",
       "      <td>-211.332593</td>\n",
       "      <td>3496.332687</td>\n",
       "      <td>16.376344</td>\n",
       "      <td>2459.968271</td>\n",
       "      <td>0.000499</td>\n",
       "      <td>0.030471</td>\n",
       "      <td>0.02798</td>\n",
       "      <td>0.026227</td>\n",
       "      <td>0.024963</td>\n",
       "      <td>0.296415</td>\n",
       "    </tr>\n",
       "    <tr>\n",
       "      <th>4</th>\n",
       "      <td>1965</td>\n",
       "      <td>9.508159e+08</td>\n",
       "      <td>4.559341e+09</td>\n",
       "      <td>1310556</td>\n",
       "      <td>0.239947</td>\n",
       "      <td>3.412703e+09</td>\n",
       "      <td>725.505716</td>\n",
       "      <td>3478.936630</td>\n",
       "      <td>2604.011598</td>\n",
       "      <td>0.091600</td>\n",
       "      <td>...</td>\n",
       "      <td>-147.197375</td>\n",
       "      <td>3626.134005</td>\n",
       "      <td>53.372784</td>\n",
       "      <td>2550.638814</td>\n",
       "      <td>0.000643</td>\n",
       "      <td>0.030105</td>\n",
       "      <td>0.02798</td>\n",
       "      <td>0.026227</td>\n",
       "      <td>0.025222</td>\n",
       "      <td>0.296596</td>\n",
       "    </tr>\n",
       "  </tbody>\n",
       "</table>\n",
       "<p>5 rows × 23 columns</p>\n",
       "</div>"
      ],
      "text/plain": [
       "   Year             K             Y        L       S_Y             C  \\\n",
       "0  1961  7.257556e+08  3.404180e+09  1160832  0.237045  2.516194e+09   \n",
       "1  1962  8.176342e+08  3.684846e+09  1196289  0.257089  2.671750e+09   \n",
       "2  1963  9.187848e+08  3.999487e+09  1233267  0.236907  2.958099e+09   \n",
       "3  1964  8.378643e+08  4.176750e+09  1271461  0.230943  3.148576e+09   \n",
       "4  1965  9.508159e+08  4.559341e+09  1310556  0.239947  3.412703e+09   \n",
       "\n",
       "            k            y            c  Y_growth  ...     cycle_y  \\\n",
       "0  625.202989  2932.534708  2167.577960  0.109266  ... -171.884519   \n",
       "1  683.475477  3080.230465  2233.364732  0.082447  ... -155.002111   \n",
       "2  745.000740  3243.001739  2398.587810  0.085388  ... -122.936759   \n",
       "3  658.977623  3285.000094  2476.344615  0.044321  ... -211.332593   \n",
       "4  725.505716  3478.936630  2604.011598  0.091600  ... -147.197375   \n",
       "\n",
       "       trend_y    cycle_c      trend_c   cycle_n   trend_n     n_20      n_30  \\\n",
       "0  3104.419228 -20.033162  2187.611122 -0.001522  0.031551  0.02798  0.026227   \n",
       "1  3235.232577 -45.058187  2278.422919 -0.000648  0.031193  0.02798  0.026227   \n",
       "2  3365.938498  29.365613  2369.222197  0.000078  0.030833  0.02798  0.026227   \n",
       "3  3496.332687  16.376344  2459.968271  0.000499  0.030471  0.02798  0.026227   \n",
       "4  3626.134005  53.372784  2550.638814  0.000643  0.030105  0.02798  0.026227   \n",
       "\n",
       "          s     s_dot  \n",
       "0  0.023998  0.295324  \n",
       "1  0.024349  0.295747  \n",
       "2  0.024671  0.296118  \n",
       "3  0.024963  0.296415  \n",
       "4  0.025222  0.296596  \n",
       "\n",
       "[5 rows x 23 columns]"
      ]
     },
     "execution_count": 60,
     "metadata": {},
     "output_type": "execute_result"
    }
   ],
   "source": [
    "df.head()"
   ]
  },
  {
   "cell_type": "code",
   "execution_count": 61,
   "id": "8e0dc908",
   "metadata": {},
   "outputs": [],
   "source": [
    "df['cycle_growth'], df['trend_growth'] = sm.tsa.filters.hpfilter(df['Y_growth'], lamb = 1600)"
   ]
  },
  {
   "cell_type": "code",
   "execution_count": 62,
   "id": "8c54198a",
   "metadata": {},
   "outputs": [
    {
     "data": {
      "text/plain": [
       "0.04960773047121547"
      ]
     },
     "execution_count": 62,
     "metadata": {},
     "output_type": "execute_result"
    }
   ],
   "source": [
    "#Crecimiento de los últimos años\n",
    "df['trend_growth'].iloc[-30:].mean()"
   ]
  },
  {
   "cell_type": "code",
   "execution_count": 63,
   "id": "0c578754",
   "metadata": {},
   "outputs": [
    {
     "data": {
      "image/png": "[encoded data removed]",
      "text/plain": [
       "<Figure size 720x576 with 1 Axes>"
      ]
     },
     "metadata": {
      "needs_background": "light"
     },
     "output_type": "display_data"
    }
   ],
   "source": [
    "plt.figure(figsize=(10,8))\n",
    "plt.plot(df.Year, df.trend_growth)\n",
    "plt.title('Growth trend')\n",
    "plt.show()"
   ]
  },
  {
   "cell_type": "markdown",
   "id": "486bd59b",
   "metadata": {},
   "source": [
    "El crecimiento de largo plazo, el crecimiento de la población y la tasa de ahorros deberían ser similares en el largo plazo.\n",
    "\n",
    "* El crecimiento de largo plazo es = ```5.15%```\n",
    "\n",
    "* El crecimiento de largo plazo de los últimos 30 años = ```4.96%```\n",
    "\n",
    "* El crecimiento de de la población es = ```1.85%```\n",
    "\n",
    "* La tasa de ahorro de largo plazo está entre = ```2.66%``` y ```3.42%``` según el cálculo del estado de estacionario del modelo de Solow\n",
    "\n",
    "\n",
    "Si replicamos el resultado obtenido del paper deberíamos poner el piso entre ```4.96%``` y ```5.15%```"
   ]
  }
 ],
 "metadata": {
  "kernelspec": {
   "display_name": "Python 3",
   "language": "python",
   "name": "python3"
  },
  "language_info": {
   "codemirror_mode": {
    "name": "ipython",
    "version": 3
   },
   "file_extension": ".py",
   "mimetype": "text/x-python",
   "name": "python",
   "nbconvert_exporter": "python",
   "pygments_lexer": "ipython3",
   "version": "3.8.8"
  }
 },
 "nbformat": 4,
 "nbformat_minor": 5
}
