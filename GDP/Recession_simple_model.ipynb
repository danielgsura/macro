{
 "cells": [
  {
   "cell_type": "code",
   "execution_count": 29,
   "id": "06322892",
   "metadata": {},
   "outputs": [],
   "source": [
    "import requests\n",
    "import pandas as pd\n",
    "import numpy as np\n",
    "from sklearn.linear_model import LogisticRegression\n",
    "from sklearn.model_selection import train_test_split"
   ]
  },
  {
   "cell_type": "code",
   "execution_count": 59,
   "id": "404fbab0",
   "metadata": {},
   "outputs": [],
   "source": [
    "# API keys (replace with your own)\n",
    "fred_api_key = 'c91f3397df57fae05c12d4e199cfcbf5'\n",
    "\n",
    "def fetch_fred_data(series_id):\n",
    "    url = f\"https://api.stlouisfed.org/fred/series/observations?series_id={series_id}&api_key={fred_api_key}&file_type=json\"\n",
    "    response = requests.get(url)\n",
    "    data = response.json()['observations']\n",
    "    df = pd.DataFrame(data)\n",
    "    df['date'] = pd.to_datetime(df['date'])\n",
    "    df['value'] = df['value'].replace('.', np.nan)\n",
    "    df['value'] = pd.to_numeric(df['value'])\n",
    "    return df\n",
    "    #return data\n",
    "\n",
    "gdp_data = fetch_fred_data('GDP').rename(columns={'value':'gdp'})\n",
    "unemployment_data = fetch_fred_data('UNRATE').rename(columns={'value':'unemployment'})\n",
    "spread_data = fetch_fred_data('T10Y3M').rename(columns={'value':'spread'})"
   ]
  },
  {
   "cell_type": "code",
   "execution_count": 62,
   "id": "9d9b6401",
   "metadata": {},
   "outputs": [
    {
     "data": {
      "text/html": [
       "<div>\n",
       "<style scoped>\n",
       "    .dataframe tbody tr th:only-of-type {\n",
       "        vertical-align: middle;\n",
       "    }\n",
       "\n",
       "    .dataframe tbody tr th {\n",
       "        vertical-align: top;\n",
       "    }\n",
       "\n",
       "    .dataframe thead th {\n",
       "        text-align: right;\n",
       "    }\n",
       "</style>\n",
       "<table border=\"1\" class=\"dataframe\">\n",
       "  <thead>\n",
       "    <tr style=\"text-align: right;\">\n",
       "      <th></th>\n",
       "      <th>realtime_start</th>\n",
       "      <th>realtime_end</th>\n",
       "      <th>date</th>\n",
       "      <th>spread</th>\n",
       "    </tr>\n",
       "  </thead>\n",
       "  <tbody>\n",
       "    <tr>\n",
       "      <th>0</th>\n",
       "      <td>2023-05-12</td>\n",
       "      <td>2023-05-12</td>\n",
       "      <td>1982-01-04</td>\n",
       "      <td>2.32</td>\n",
       "    </tr>\n",
       "    <tr>\n",
       "      <th>1</th>\n",
       "      <td>2023-05-12</td>\n",
       "      <td>2023-05-12</td>\n",
       "      <td>1982-01-05</td>\n",
       "      <td>2.24</td>\n",
       "    </tr>\n",
       "    <tr>\n",
       "      <th>2</th>\n",
       "      <td>2023-05-12</td>\n",
       "      <td>2023-05-12</td>\n",
       "      <td>1982-01-06</td>\n",
       "      <td>2.43</td>\n",
       "    </tr>\n",
       "    <tr>\n",
       "      <th>3</th>\n",
       "      <td>2023-05-12</td>\n",
       "      <td>2023-05-12</td>\n",
       "      <td>1982-01-07</td>\n",
       "      <td>2.46</td>\n",
       "    </tr>\n",
       "    <tr>\n",
       "      <th>4</th>\n",
       "      <td>2023-05-12</td>\n",
       "      <td>2023-05-12</td>\n",
       "      <td>1982-01-08</td>\n",
       "      <td>2.50</td>\n",
       "    </tr>\n",
       "    <tr>\n",
       "      <th>...</th>\n",
       "      <td>...</td>\n",
       "      <td>...</td>\n",
       "      <td>...</td>\n",
       "      <td>...</td>\n",
       "    </tr>\n",
       "    <tr>\n",
       "      <th>10783</th>\n",
       "      <td>2023-05-12</td>\n",
       "      <td>2023-05-12</td>\n",
       "      <td>2023-05-04</td>\n",
       "      <td>-1.89</td>\n",
       "    </tr>\n",
       "    <tr>\n",
       "      <th>10784</th>\n",
       "      <td>2023-05-12</td>\n",
       "      <td>2023-05-12</td>\n",
       "      <td>2023-05-05</td>\n",
       "      <td>-1.82</td>\n",
       "    </tr>\n",
       "    <tr>\n",
       "      <th>10785</th>\n",
       "      <td>2023-05-12</td>\n",
       "      <td>2023-05-12</td>\n",
       "      <td>2023-05-08</td>\n",
       "      <td>-1.79</td>\n",
       "    </tr>\n",
       "    <tr>\n",
       "      <th>10786</th>\n",
       "      <td>2023-05-12</td>\n",
       "      <td>2023-05-12</td>\n",
       "      <td>2023-05-09</td>\n",
       "      <td>-1.76</td>\n",
       "    </tr>\n",
       "    <tr>\n",
       "      <th>10787</th>\n",
       "      <td>2023-05-12</td>\n",
       "      <td>2023-05-12</td>\n",
       "      <td>2023-05-10</td>\n",
       "      <td>-1.81</td>\n",
       "    </tr>\n",
       "  </tbody>\n",
       "</table>\n",
       "<p>10788 rows × 4 columns</p>\n",
       "</div>"
      ],
      "text/plain": [
       "      realtime_start realtime_end       date  spread\n",
       "0         2023-05-12   2023-05-12 1982-01-04    2.32\n",
       "1         2023-05-12   2023-05-12 1982-01-05    2.24\n",
       "2         2023-05-12   2023-05-12 1982-01-06    2.43\n",
       "3         2023-05-12   2023-05-12 1982-01-07    2.46\n",
       "4         2023-05-12   2023-05-12 1982-01-08    2.50\n",
       "...              ...          ...        ...     ...\n",
       "10783     2023-05-12   2023-05-12 2023-05-04   -1.89\n",
       "10784     2023-05-12   2023-05-12 2023-05-05   -1.82\n",
       "10785     2023-05-12   2023-05-12 2023-05-08   -1.79\n",
       "10786     2023-05-12   2023-05-12 2023-05-09   -1.76\n",
       "10787     2023-05-12   2023-05-12 2023-05-10   -1.81\n",
       "\n",
       "[10788 rows x 4 columns]"
      ]
     },
     "execution_count": 62,
     "metadata": {},
     "output_type": "execute_result"
    }
   ],
   "source": [
    "spread_data"
   ]
  },
  {
   "cell_type": "code",
   "execution_count": 68,
   "id": "2cb014c6",
   "metadata": {},
   "outputs": [
    {
     "data": {
      "text/html": [
       "<div>\n",
       "<style scoped>\n",
       "    .dataframe tbody tr th:only-of-type {\n",
       "        vertical-align: middle;\n",
       "    }\n",
       "\n",
       "    .dataframe tbody tr th {\n",
       "        vertical-align: top;\n",
       "    }\n",
       "\n",
       "    .dataframe thead th {\n",
       "        text-align: right;\n",
       "    }\n",
       "</style>\n",
       "<table border=\"1\" class=\"dataframe\">\n",
       "  <thead>\n",
       "    <tr style=\"text-align: right;\">\n",
       "      <th></th>\n",
       "      <th>date</th>\n",
       "      <th>gdp</th>\n",
       "      <th>unemployment</th>\n",
       "      <th>spread</th>\n",
       "    </tr>\n",
       "  </thead>\n",
       "  <tbody>\n",
       "    <tr>\n",
       "      <th>0</th>\n",
       "      <td>1946-01-01</td>\n",
       "      <td>NaN</td>\n",
       "      <td>NaN</td>\n",
       "      <td>NaN</td>\n",
       "    </tr>\n",
       "    <tr>\n",
       "      <th>1</th>\n",
       "      <td>1946-04-01</td>\n",
       "      <td>NaN</td>\n",
       "      <td>NaN</td>\n",
       "      <td>NaN</td>\n",
       "    </tr>\n",
       "    <tr>\n",
       "      <th>2</th>\n",
       "      <td>1946-07-01</td>\n",
       "      <td>NaN</td>\n",
       "      <td>NaN</td>\n",
       "      <td>NaN</td>\n",
       "    </tr>\n",
       "    <tr>\n",
       "      <th>3</th>\n",
       "      <td>1946-10-01</td>\n",
       "      <td>NaN</td>\n",
       "      <td>NaN</td>\n",
       "      <td>NaN</td>\n",
       "    </tr>\n",
       "    <tr>\n",
       "      <th>4</th>\n",
       "      <td>1947-01-01</td>\n",
       "      <td>243.164</td>\n",
       "      <td>NaN</td>\n",
       "      <td>NaN</td>\n",
       "    </tr>\n",
       "    <tr>\n",
       "      <th>...</th>\n",
       "      <td>...</td>\n",
       "      <td>...</td>\n",
       "      <td>...</td>\n",
       "      <td>...</td>\n",
       "    </tr>\n",
       "    <tr>\n",
       "      <th>11341</th>\n",
       "      <td>2023-05-04</td>\n",
       "      <td>NaN</td>\n",
       "      <td>NaN</td>\n",
       "      <td>-1.89</td>\n",
       "    </tr>\n",
       "    <tr>\n",
       "      <th>11342</th>\n",
       "      <td>2023-05-05</td>\n",
       "      <td>NaN</td>\n",
       "      <td>NaN</td>\n",
       "      <td>-1.82</td>\n",
       "    </tr>\n",
       "    <tr>\n",
       "      <th>11343</th>\n",
       "      <td>2023-05-08</td>\n",
       "      <td>NaN</td>\n",
       "      <td>NaN</td>\n",
       "      <td>-1.79</td>\n",
       "    </tr>\n",
       "    <tr>\n",
       "      <th>11344</th>\n",
       "      <td>2023-05-09</td>\n",
       "      <td>NaN</td>\n",
       "      <td>NaN</td>\n",
       "      <td>-1.76</td>\n",
       "    </tr>\n",
       "    <tr>\n",
       "      <th>11345</th>\n",
       "      <td>2023-05-10</td>\n",
       "      <td>NaN</td>\n",
       "      <td>NaN</td>\n",
       "      <td>-1.81</td>\n",
       "    </tr>\n",
       "  </tbody>\n",
       "</table>\n",
       "<p>11346 rows × 4 columns</p>\n",
       "</div>"
      ],
      "text/plain": [
       "            date      gdp  unemployment  spread\n",
       "0     1946-01-01      NaN           NaN     NaN\n",
       "1     1946-04-01      NaN           NaN     NaN\n",
       "2     1946-07-01      NaN           NaN     NaN\n",
       "3     1946-10-01      NaN           NaN     NaN\n",
       "4     1947-01-01  243.164           NaN     NaN\n",
       "...          ...      ...           ...     ...\n",
       "11341 2023-05-04      NaN           NaN   -1.89\n",
       "11342 2023-05-05      NaN           NaN   -1.82\n",
       "11343 2023-05-08      NaN           NaN   -1.79\n",
       "11344 2023-05-09      NaN           NaN   -1.76\n",
       "11345 2023-05-10      NaN           NaN   -1.81\n",
       "\n",
       "[11346 rows x 4 columns]"
      ]
     },
     "execution_count": 68,
     "metadata": {},
     "output_type": "execute_result"
    }
   ],
   "source": [
    "# Merge the GDP, unemployment, and spread data into one DataFrame\n",
    "data = pd.merge(gdp_data, unemployment_data,how='outer' , on='date')\n",
    "data = pd.merge(data, spread_data, how='outer',on='date')\n",
    "data =   data[['date', 'gdp', 'unemployment', 'spread']]\n",
    "data"
   ]
  },
  {
   "cell_type": "code",
   "execution_count": 69,
   "id": "d3738096",
   "metadata": {},
   "outputs": [],
   "source": [
    "data = data.fillna(method='ffill')\n",
    "data = data.dropna()"
   ]
  },
  {
   "cell_type": "code",
   "execution_count": 70,
   "id": "862c7f01",
   "metadata": {},
   "outputs": [],
   "source": [
    "# Shift the 'recession' column 12 months into the future to create a label for whether a recession occurs in the next 12 months\n",
    "data['recession'] = (data['gdp'].diff() < 0) & (data['unemployment'] > 6)\n",
    "data['recession'] = data['recession'].shift(-12)"
   ]
  },
  {
   "cell_type": "code",
   "execution_count": 72,
   "id": "97c45eaf",
   "metadata": {},
   "outputs": [],
   "source": [
    "data = data.dropna()\n",
    "data['recession'] = data['recession'].astype(int)"
   ]
  },
  {
   "cell_type": "code",
   "execution_count": 74,
   "id": "52c0583c",
   "metadata": {},
   "outputs": [],
   "source": [
    "data_og =data.copy()"
   ]
  },
  {
   "cell_type": "code",
   "execution_count": 75,
   "id": "17988df8",
   "metadata": {},
   "outputs": [
    {
     "name": "stdout",
     "output_type": "stream",
     "text": [
      "0.9991055456171736\n"
     ]
    }
   ],
   "source": [
    "# Remove the last 12 months of data, since we don't know whether a recession occurs in the next 12 months\n",
    "data = data.iloc[:-12]\n",
    "\n",
    "# Split the data into features and labels\n",
    "X = data[['gdp', 'unemployment', 'spread']]\n",
    "y = data['recession']\n",
    "\n",
    "# Split the data into training and testing sets\n",
    "X_train, X_test, y_train, y_test = train_test_split(X, y, test_size=0.2, random_state=42)\n",
    "\n",
    "# Train a logistic regression model\n",
    "model = LogisticRegression()\n",
    "model.fit(X_train, y_train)\n",
    "\n",
    "# Test the model\n",
    "print(model.score(X_test, y_test))"
   ]
  },
  {
   "cell_type": "code",
   "execution_count": 76,
   "id": "b249b1d1",
   "metadata": {},
   "outputs": [],
   "source": [
    "y_pred = model.predict(X_test)"
   ]
  },
  {
   "cell_type": "code",
   "execution_count": 77,
   "id": "af8f6d0c",
   "metadata": {},
   "outputs": [
    {
     "name": "stdout",
     "output_type": "stream",
     "text": [
      "Accuracy:  0.9991055456171736\n",
      "F1 Score:  0.0\n"
     ]
    }
   ],
   "source": [
    "from sklearn.metrics import accuracy_score, f1_score\n",
    "\n",
    "# Make predictions on the test set\n",
    "y_pred = model.predict(X_test)\n",
    "\n",
    "# Calculate and print the accuracy score\n",
    "accuracy = accuracy_score(y_test, y_pred)\n",
    "print(\"Accuracy: \", accuracy)\n",
    "\n",
    "# Calculate and print the F1 score\n",
    "f1 = f1_score(y_test, y_pred)\n",
    "print(\"F1 Score: \", f1)"
   ]
  },
  {
   "cell_type": "code",
   "execution_count": 79,
   "id": "e14e6682",
   "metadata": {},
   "outputs": [
    {
     "data": {
      "text/html": [
       "<div>\n",
       "<style scoped>\n",
       "    .dataframe tbody tr th:only-of-type {\n",
       "        vertical-align: middle;\n",
       "    }\n",
       "\n",
       "    .dataframe tbody tr th {\n",
       "        vertical-align: top;\n",
       "    }\n",
       "\n",
       "    .dataframe thead th {\n",
       "        text-align: right;\n",
       "    }\n",
       "</style>\n",
       "<table border=\"1\" class=\"dataframe\">\n",
       "  <thead>\n",
       "    <tr style=\"text-align: right;\">\n",
       "      <th></th>\n",
       "      <th>gdp</th>\n",
       "      <th>unemployment</th>\n",
       "      <th>spread</th>\n",
       "    </tr>\n",
       "  </thead>\n",
       "  <tbody>\n",
       "    <tr>\n",
       "      <th>11333</th>\n",
       "      <td>26465.865</td>\n",
       "      <td>3.4</td>\n",
       "      <td>-1.68</td>\n",
       "    </tr>\n",
       "  </tbody>\n",
       "</table>\n",
       "</div>"
      ],
      "text/plain": [
       "             gdp  unemployment  spread\n",
       "11333  26465.865           3.4   -1.68"
      ]
     },
     "execution_count": 79,
     "metadata": {},
     "output_type": "execute_result"
    }
   ],
   "source": [
    "data_og.tail(1)[X.columns]"
   ]
  },
  {
   "cell_type": "code",
   "execution_count": 80,
   "id": "a64c9a06",
   "metadata": {},
   "outputs": [
    {
     "data": {
      "text/plain": [
       "array([0])"
      ]
     },
     "execution_count": 80,
     "metadata": {},
     "output_type": "execute_result"
    }
   ],
   "source": [
    "model.predict(data_og.tail(1)[X.columns])"
   ]
  }
 ],
 "metadata": {
  "kernelspec": {
   "display_name": "Python 3 (ipykernel)",
   "language": "python",
   "name": "python3"
  },
  "language_info": {
   "codemirror_mode": {
    "name": "ipython",
    "version": 3
   },
   "file_extension": ".py",
   "mimetype": "text/x-python",
   "name": "python",
   "nbconvert_exporter": "python",
   "pygments_lexer": "ipython3",
   "version": "3.9.12"
  }
 },
 "nbformat": 4,
 "nbformat_minor": 5
}
