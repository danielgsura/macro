{
 "cells": [
  {
   "cell_type": "code",
   "execution_count": 1,
   "id": "c7a58255",
   "metadata": {},
   "outputs": [],
   "source": [
    "import pandas as pd\n",
    "import numpy as np\n",
    "import matplotlib.pyplot as plt\n",
    "import seaborn as sns\n",
    "import statsmodels.api as sm"
   ]
  },
  {
   "cell_type": "code",
   "execution_count": 2,
   "id": "1be145c0",
   "metadata": {},
   "outputs": [
    {
     "data": {
      "text/html": [
       "<div>\n",
       "<style scoped>\n",
       "    .dataframe tbody tr th:only-of-type {\n",
       "        vertical-align: middle;\n",
       "    }\n",
       "\n",
       "    .dataframe tbody tr th {\n",
       "        vertical-align: top;\n",
       "    }\n",
       "\n",
       "    .dataframe thead th {\n",
       "        text-align: right;\n",
       "    }\n",
       "</style>\n",
       "<table border=\"1\" class=\"dataframe\">\n",
       "  <thead>\n",
       "    <tr style=\"text-align: right;\">\n",
       "      <th></th>\n",
       "      <th>Year</th>\n",
       "      <th>Colombia_GDP</th>\n",
       "      <th>Panama_GDP</th>\n",
       "    </tr>\n",
       "  </thead>\n",
       "  <tbody>\n",
       "    <tr>\n",
       "      <th>0</th>\n",
       "      <td>1960</td>\n",
       "      <td>3.060624e+10</td>\n",
       "      <td>3.068858e+09</td>\n",
       "    </tr>\n",
       "    <tr>\n",
       "      <th>1</th>\n",
       "      <td>1961</td>\n",
       "      <td>3.216386e+10</td>\n",
       "      <td>3.404180e+09</td>\n",
       "    </tr>\n",
       "    <tr>\n",
       "      <th>2</th>\n",
       "      <td>1962</td>\n",
       "      <td>3.390454e+10</td>\n",
       "      <td>3.684846e+09</td>\n",
       "    </tr>\n",
       "    <tr>\n",
       "      <th>3</th>\n",
       "      <td>1963</td>\n",
       "      <td>3.501888e+10</td>\n",
       "      <td>3.999487e+09</td>\n",
       "    </tr>\n",
       "    <tr>\n",
       "      <th>4</th>\n",
       "      <td>1964</td>\n",
       "      <td>3.717847e+10</td>\n",
       "      <td>4.176750e+09</td>\n",
       "    </tr>\n",
       "  </tbody>\n",
       "</table>\n",
       "</div>"
      ],
      "text/plain": [
       "   Year  Colombia_GDP    Panama_GDP\n",
       "0  1960  3.060624e+10  3.068858e+09\n",
       "1  1961  3.216386e+10  3.404180e+09\n",
       "2  1962  3.390454e+10  3.684846e+09\n",
       "3  1963  3.501888e+10  3.999487e+09\n",
       "4  1964  3.717847e+10  4.176750e+09"
      ]
     },
     "execution_count": 2,
     "metadata": {},
     "output_type": "execute_result"
    }
   ],
   "source": [
    "df = pd.read_excel('reaLgdp_sample.xlsx')\n",
    "df.head()"
   ]
  },
  {
   "cell_type": "code",
   "execution_count": 3,
   "id": "fc776eda",
   "metadata": {},
   "outputs": [
    {
     "data": {
      "text/html": [
       "<div>\n",
       "<style scoped>\n",
       "    .dataframe tbody tr th:only-of-type {\n",
       "        vertical-align: middle;\n",
       "    }\n",
       "\n",
       "    .dataframe tbody tr th {\n",
       "        vertical-align: top;\n",
       "    }\n",
       "\n",
       "    .dataframe thead th {\n",
       "        text-align: right;\n",
       "    }\n",
       "</style>\n",
       "<table border=\"1\" class=\"dataframe\">\n",
       "  <thead>\n",
       "    <tr style=\"text-align: right;\">\n",
       "      <th></th>\n",
       "      <th>Year</th>\n",
       "      <th>Colombia_GDP</th>\n",
       "      <th>Panama_GDP</th>\n",
       "      <th>Col_growth</th>\n",
       "      <th>Pan_growth</th>\n",
       "    </tr>\n",
       "  </thead>\n",
       "  <tbody>\n",
       "    <tr>\n",
       "      <th>1</th>\n",
       "      <td>1961</td>\n",
       "      <td>3.216386e+10</td>\n",
       "      <td>3.404180e+09</td>\n",
       "      <td>0.050892</td>\n",
       "      <td>0.109266</td>\n",
       "    </tr>\n",
       "    <tr>\n",
       "      <th>2</th>\n",
       "      <td>1962</td>\n",
       "      <td>3.390454e+10</td>\n",
       "      <td>3.684846e+09</td>\n",
       "      <td>0.054119</td>\n",
       "      <td>0.082447</td>\n",
       "    </tr>\n",
       "    <tr>\n",
       "      <th>3</th>\n",
       "      <td>1963</td>\n",
       "      <td>3.501888e+10</td>\n",
       "      <td>3.999487e+09</td>\n",
       "      <td>0.032867</td>\n",
       "      <td>0.085388</td>\n",
       "    </tr>\n",
       "    <tr>\n",
       "      <th>4</th>\n",
       "      <td>1964</td>\n",
       "      <td>3.717847e+10</td>\n",
       "      <td>4.176750e+09</td>\n",
       "      <td>0.061669</td>\n",
       "      <td>0.044321</td>\n",
       "    </tr>\n",
       "    <tr>\n",
       "      <th>5</th>\n",
       "      <td>1965</td>\n",
       "      <td>3.851690e+10</td>\n",
       "      <td>4.559341e+09</td>\n",
       "      <td>0.036000</td>\n",
       "      <td>0.091600</td>\n",
       "    </tr>\n",
       "  </tbody>\n",
       "</table>\n",
       "</div>"
      ],
      "text/plain": [
       "   Year  Colombia_GDP    Panama_GDP  Col_growth  Pan_growth\n",
       "1  1961  3.216386e+10  3.404180e+09    0.050892    0.109266\n",
       "2  1962  3.390454e+10  3.684846e+09    0.054119    0.082447\n",
       "3  1963  3.501888e+10  3.999487e+09    0.032867    0.085388\n",
       "4  1964  3.717847e+10  4.176750e+09    0.061669    0.044321\n",
       "5  1965  3.851690e+10  4.559341e+09    0.036000    0.091600"
      ]
     },
     "execution_count": 3,
     "metadata": {},
     "output_type": "execute_result"
    }
   ],
   "source": [
    "df['Col_growth'] = df['Colombia_GDP'].pct_change()\n",
    "df['Pan_growth'] = df['Panama_GDP'].pct_change()\n",
    "df = df.dropna()\n",
    "df.head()"
   ]
  },
  {
   "cell_type": "code",
   "execution_count": 6,
   "id": "3aebf6c0",
   "metadata": {},
   "outputs": [
    {
     "name": "stderr",
     "output_type": "stream",
     "text": [
      "C:\\Users\\danie\\AppData\\Local\\Temp\\ipykernel_9620\\2995954925.py:1: SettingWithCopyWarning: \n",
      "A value is trying to be set on a copy of a slice from a DataFrame.\n",
      "Try using .loc[row_indexer,col_indexer] = value instead\n",
      "\n",
      "See the caveats in the documentation: https://pandas.pydata.org/pandas-docs/stable/user_guide/indexing.html#returning-a-view-versus-a-copy\n",
      "  df['Col_cycle'],df['Col_trend'] = sm.tsa.filters.hpfilter(df['Col_growth'], lamb=1600)\n",
      "C:\\Users\\danie\\AppData\\Local\\Temp\\ipykernel_9620\\2995954925.py:1: SettingWithCopyWarning: \n",
      "A value is trying to be set on a copy of a slice from a DataFrame.\n",
      "Try using .loc[row_indexer,col_indexer] = value instead\n",
      "\n",
      "See the caveats in the documentation: https://pandas.pydata.org/pandas-docs/stable/user_guide/indexing.html#returning-a-view-versus-a-copy\n",
      "  df['Col_cycle'],df['Col_trend'] = sm.tsa.filters.hpfilter(df['Col_growth'], lamb=1600)\n"
     ]
    },
    {
     "data": {
      "text/plain": [
       "0.0401249211558919"
      ]
     },
     "execution_count": 6,
     "metadata": {},
     "output_type": "execute_result"
    }
   ],
   "source": [
    "df['Col_cycle'],df['Col_trend'] = sm.tsa.filters.hpfilter(df['Col_growth'], lamb=1600)\n",
    "df['Col_trend'].mean()\n"
   ]
  },
  {
   "cell_type": "code",
   "execution_count": 7,
   "id": "1a94186e",
   "metadata": {},
   "outputs": [
    {
     "name": "stderr",
     "output_type": "stream",
     "text": [
      "C:\\Users\\danie\\AppData\\Local\\Temp\\ipykernel_9620\\3018546765.py:1: SettingWithCopyWarning: \n",
      "A value is trying to be set on a copy of a slice from a DataFrame.\n",
      "Try using .loc[row_indexer,col_indexer] = value instead\n",
      "\n",
      "See the caveats in the documentation: https://pandas.pydata.org/pandas-docs/stable/user_guide/indexing.html#returning-a-view-versus-a-copy\n",
      "  df['Pan_cycle'],df['Pan_trend'] = sm.tsa.filters.hpfilter(df['Pan_growth'], lamb=1600)\n",
      "C:\\Users\\danie\\AppData\\Local\\Temp\\ipykernel_9620\\3018546765.py:1: SettingWithCopyWarning: \n",
      "A value is trying to be set on a copy of a slice from a DataFrame.\n",
      "Try using .loc[row_indexer,col_indexer] = value instead\n",
      "\n",
      "See the caveats in the documentation: https://pandas.pydata.org/pandas-docs/stable/user_guide/indexing.html#returning-a-view-versus-a-copy\n",
      "  df['Pan_cycle'],df['Pan_trend'] = sm.tsa.filters.hpfilter(df['Pan_growth'], lamb=1600)\n"
     ]
    },
    {
     "data": {
      "text/plain": [
       "0.05153241121457955"
      ]
     },
     "execution_count": 7,
     "metadata": {},
     "output_type": "execute_result"
    }
   ],
   "source": [
    "df['Pan_cycle'],df['Pan_trend'] = sm.tsa.filters.hpfilter(df['Pan_growth'], lamb=1600)\n",
    "df['Pan_trend'].mean()\n"
   ]
  },
  {
   "cell_type": "code",
   "execution_count": 8,
   "id": "b5805cd0",
   "metadata": {},
   "outputs": [
    {
     "name": "stderr",
     "output_type": "stream",
     "text": [
      "C:\\Users\\danie\\AppData\\Local\\Temp\\ipykernel_9620\\1122930492.py:1: SettingWithCopyWarning: \n",
      "A value is trying to be set on a copy of a slice from a DataFrame.\n",
      "Try using .loc[row_indexer,col_indexer] = value instead\n",
      "\n",
      "See the caveats in the documentation: https://pandas.pydata.org/pandas-docs/stable/user_guide/indexing.html#returning-a-view-versus-a-copy\n",
      "  df['Pan_cycle'],df['Pan_trend'] = sm.tsa.filters.hpfilter(df['Panama_GDP'], lamb=1600)\n"
     ]
    },
    {
     "data": {
      "text/plain": [
       "0.050475111848528514"
      ]
     },
     "execution_count": 8,
     "metadata": {},
     "output_type": "execute_result"
    }
   ],
   "source": [
    "df['Pan_cycle'],df['Pan_trend'] = sm.tsa.filters.hpfilter(df['Panama_GDP'], lamb=1600)\n",
    "df['Pan_trend'].pct_change().mean()"
   ]
  },
  {
   "cell_type": "code",
   "execution_count": 9,
   "id": "414fa576",
   "metadata": {},
   "outputs": [
    {
     "data": {
      "image/png": "[encoded data removed]",
      "text/plain": [
       "<Figure size 720x576 with 1 Axes>"
      ]
     },
     "metadata": {
      "needs_background": "light"
     },
     "output_type": "display_data"
    }
   ],
   "source": [
    "plt.figure(figsize = (10,8))\n",
    "plt.plot(df['Year'],df['Panama_GDP'], label = 'gdp')\n",
    "plt.plot(df['Year'],df['Pan_trend'], label = 'trend')\n",
    "plt.legend()\n",
    "plt.show()"
   ]
  }
 ],
 "metadata": {
  "kernelspec": {
   "display_name": "Python 3 (ipykernel)",
   "language": "python",
   "name": "python3"
  },
  "language_info": {
   "codemirror_mode": {
    "name": "ipython",
    "version": 3
   },
   "file_extension": ".py",
   "mimetype": "text/x-python",
   "name": "python",
   "nbconvert_exporter": "python",
   "pygments_lexer": "ipython3",
   "version": "3.10.8"
  }
 },
 "nbformat": 4,
 "nbformat_minor": 5
}
