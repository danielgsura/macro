{
 "cells": [
  {
   "cell_type": "code",
   "execution_count": 1,
   "id": "4aafddbb",
   "metadata": {},
   "outputs": [],
   "source": [
    "import requests\n",
    "import pandas as pd"
   ]
  },
  {
   "cell_type": "markdown",
   "id": "f257be3e",
   "metadata": {},
   "source": [
    "original https://www.bd-econ.com/imfapi1.html"
   ]
  },
  {
   "cell_type": "code",
   "execution_count": 13,
   "id": "0c7bb54b",
   "metadata": {},
   "outputs": [
    {
     "name": "stdout",
     "output_type": "stream",
     "text": [
      "{'@TIME_PERIOD': '2022-Q4', '@OBS_VALUE': '639616'}\n"
     ]
    }
   ],
   "source": [
    "import requests # Python 3.6\n",
    "\n",
    "url = 'http://dataservices.imf.org/REST/SDMX_JSON.svc/'\n",
    "key = 'CompactData/IFS/Q.GB.NGDP_SA_XDC' # adjust codes here\n",
    "\n",
    "# Navigate to series in API-returned JSON data\n",
    "data = (requests.get(f'{url}{key}').json()\n",
    "        ['CompactData']['DataSet']['Series'])\n",
    "\n",
    "print(data['Obs'][-1]) # Print latest observation"
   ]
  },
  {
   "cell_type": "code",
   "execution_count": 15,
   "id": "698b494b",
   "metadata": {},
   "outputs": [],
   "source": [
    "import pandas as pd          # pandas version 0.23\n",
    "\n",
    "#baseyr = data['@BASE_YEAR']  # Save the base year\n",
    "\n",
    "# Create pandas dataframe from the observations\n",
    "data_list = [[obs.get('@TIME_PERIOD'), obs.get('@OBS_VALUE')]\n",
    "             for obs in data['Obs']]\n",
    "\n",
    "df = pd.DataFrame(data_list, columns=['date', 'value'])\n",
    "     \n",
    "df = df.set_index(pd.to_datetime(df['date']))['value'].astype('float')"
   ]
  },
  {
   "cell_type": "markdown",
   "id": "aa816eb7",
   "metadata": {},
   "source": [
    "Fuente para otros indicadores: https://stackoverflow.com/questions/71592714/problem-using-imf-data-api-for-a-large-number-of-countries"
   ]
  },
  {
   "cell_type": "code",
   "execution_count": null,
   "id": "b535e19a",
   "metadata": {},
   "outputs": [],
   "source": [
    "# Nominal domestic variables\n",
    "dcn_sa = [\n",
    "    'NINV_SA_XDC',\n",
    "    'NGDP_D_SA_IX', \n",
    "    'NGDP_SA_XDC', \n",
    "    'NCPHI_SA_XDC',\n",
    "    'NCPHN_SA_XDC',\n",
    "    'NCGG_SA_XDC',\n",
    "    'NFI_SA_XDC',\n",
    "    'NX_SA_XDC',\n",
    "    'NM_SA_XDC']"
   ]
  }
 ],
 "metadata": {
  "kernelspec": {
   "display_name": "Python 3 (ipykernel)",
   "language": "python",
   "name": "python3"
  },
  "language_info": {
   "codemirror_mode": {
    "name": "ipython",
    "version": 3
   },
   "file_extension": ".py",
   "mimetype": "text/x-python",
   "name": "python",
   "nbconvert_exporter": "python",
   "pygments_lexer": "ipython3",
   "version": "3.9.12"
  }
 },
 "nbformat": 4,
 "nbformat_minor": 5
}
