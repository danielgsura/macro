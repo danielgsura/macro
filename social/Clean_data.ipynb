{
 "cells": [
  {
   "cell_type": "code",
   "execution_count": 1,
   "id": "66008e2f",
   "metadata": {},
   "outputs": [],
   "source": [
    "import pandas as pd\n",
    "import numpy as np\n",
    "import matplotlib.pyplot as plt\n",
    "import seaborn as sns"
   ]
  },
  {
   "cell_type": "markdown",
   "id": "69553904",
   "metadata": {},
   "source": [
    "# EMBI"
   ]
  },
  {
   "cell_type": "markdown",
   "id": "40f9e4db",
   "metadata": {},
   "source": [
    "fuente: https://www.bancentral.gov.do/a/d/2585-entorno-internacional"
   ]
  },
  {
   "cell_type": "code",
   "execution_count": 2,
   "id": "9b67edb3",
   "metadata": {},
   "outputs": [
    {
     "data": {
      "text/html": [
       "<div>\n",
       "<style scoped>\n",
       "    .dataframe tbody tr th:only-of-type {\n",
       "        vertical-align: middle;\n",
       "    }\n",
       "\n",
       "    .dataframe tbody tr th {\n",
       "        vertical-align: top;\n",
       "    }\n",
       "\n",
       "    .dataframe thead th {\n",
       "        text-align: right;\n",
       "    }\n",
       "</style>\n",
       "<table border=\"1\" class=\"dataframe\">\n",
       "  <thead>\n",
       "    <tr style=\"text-align: right;\">\n",
       "      <th></th>\n",
       "      <th>Fecha</th>\n",
       "      <th>Global</th>\n",
       "      <th>LATINO</th>\n",
       "      <th>REP DOM</th>\n",
       "      <th>Argentina</th>\n",
       "      <th>Bolivia</th>\n",
       "      <th>Brasil</th>\n",
       "      <th>Chile</th>\n",
       "      <th>Colombia</th>\n",
       "      <th>Costa Rica</th>\n",
       "      <th>Ecuador</th>\n",
       "      <th>El Salvador</th>\n",
       "      <th>Guatemala</th>\n",
       "      <th>Honduras</th>\n",
       "      <th>México</th>\n",
       "      <th>Paraguay</th>\n",
       "      <th>Perú</th>\n",
       "      <th>Panamá</th>\n",
       "      <th>Uruguay</th>\n",
       "      <th>Venezuela</th>\n",
       "    </tr>\n",
       "  </thead>\n",
       "  <tbody>\n",
       "    <tr>\n",
       "      <th>0</th>\n",
       "      <td>2007-10-29 00:00:00</td>\n",
       "      <td>2.10117</td>\n",
       "      <td>2.32541</td>\n",
       "      <td>2.28217</td>\n",
       "      <td>3.50066</td>\n",
       "      <td>NaN</td>\n",
       "      <td>1.74591</td>\n",
       "      <td>1.12264</td>\n",
       "      <td>1.60120</td>\n",
       "      <td>NaN</td>\n",
       "      <td>5.97284</td>\n",
       "      <td>1.69250</td>\n",
       "      <td>NaN</td>\n",
       "      <td>NaN</td>\n",
       "      <td>1.25739</td>\n",
       "      <td>NaN</td>\n",
       "      <td>1.45609</td>\n",
       "      <td>1.57240</td>\n",
       "      <td>2.05193</td>\n",
       "      <td>4.01601</td>\n",
       "    </tr>\n",
       "    <tr>\n",
       "      <th>1</th>\n",
       "      <td>2007-10-30 00:00:00</td>\n",
       "      <td>2.09184</td>\n",
       "      <td>2.30653</td>\n",
       "      <td>2.28059</td>\n",
       "      <td>3.40902</td>\n",
       "      <td>NaN</td>\n",
       "      <td>1.73399</td>\n",
       "      <td>1.12886</td>\n",
       "      <td>1.57447</td>\n",
       "      <td>NaN</td>\n",
       "      <td>5.95700</td>\n",
       "      <td>1.66766</td>\n",
       "      <td>NaN</td>\n",
       "      <td>NaN</td>\n",
       "      <td>1.26494</td>\n",
       "      <td>NaN</td>\n",
       "      <td>1.45076</td>\n",
       "      <td>1.56610</td>\n",
       "      <td>2.01736</td>\n",
       "      <td>3.99061</td>\n",
       "    </tr>\n",
       "    <tr>\n",
       "      <th>2</th>\n",
       "      <td>2007-10-31 00:00:00</td>\n",
       "      <td>2.01050</td>\n",
       "      <td>2.20068</td>\n",
       "      <td>2.13124</td>\n",
       "      <td>3.11642</td>\n",
       "      <td>NaN</td>\n",
       "      <td>1.65654</td>\n",
       "      <td>1.11809</td>\n",
       "      <td>1.47853</td>\n",
       "      <td>NaN</td>\n",
       "      <td>5.75163</td>\n",
       "      <td>1.58238</td>\n",
       "      <td>NaN</td>\n",
       "      <td>NaN</td>\n",
       "      <td>1.20928</td>\n",
       "      <td>NaN</td>\n",
       "      <td>1.36579</td>\n",
       "      <td>1.45827</td>\n",
       "      <td>1.91474</td>\n",
       "      <td>3.82922</td>\n",
       "    </tr>\n",
       "    <tr>\n",
       "      <th>3</th>\n",
       "      <td>2007-11-01 00:00:00</td>\n",
       "      <td>2.12474</td>\n",
       "      <td>2.31998</td>\n",
       "      <td>2.22515</td>\n",
       "      <td>3.28787</td>\n",
       "      <td>NaN</td>\n",
       "      <td>1.78215</td>\n",
       "      <td>1.09782</td>\n",
       "      <td>1.60699</td>\n",
       "      <td>NaN</td>\n",
       "      <td>5.90083</td>\n",
       "      <td>1.67401</td>\n",
       "      <td>NaN</td>\n",
       "      <td>NaN</td>\n",
       "      <td>1.30770</td>\n",
       "      <td>NaN</td>\n",
       "      <td>1.45911</td>\n",
       "      <td>1.57267</td>\n",
       "      <td>1.98080</td>\n",
       "      <td>4.01389</td>\n",
       "    </tr>\n",
       "    <tr>\n",
       "      <th>4</th>\n",
       "      <td>2007-11-02 00:00:00</td>\n",
       "      <td>2.20092</td>\n",
       "      <td>2.39996</td>\n",
       "      <td>2.31217</td>\n",
       "      <td>3.40686</td>\n",
       "      <td>NaN</td>\n",
       "      <td>1.85498</td>\n",
       "      <td>1.14779</td>\n",
       "      <td>1.68363</td>\n",
       "      <td>NaN</td>\n",
       "      <td>5.95847</td>\n",
       "      <td>1.74595</td>\n",
       "      <td>NaN</td>\n",
       "      <td>NaN</td>\n",
       "      <td>1.37776</td>\n",
       "      <td>NaN</td>\n",
       "      <td>1.52888</td>\n",
       "      <td>1.65530</td>\n",
       "      <td>2.04029</td>\n",
       "      <td>4.12753</td>\n",
       "    </tr>\n",
       "  </tbody>\n",
       "</table>\n",
       "</div>"
      ],
      "text/plain": [
       "                 Fecha   Global   LATINO  REP DOM  Argentina  Bolivia  \\\n",
       "0  2007-10-29 00:00:00  2.10117  2.32541  2.28217    3.50066      NaN   \n",
       "1  2007-10-30 00:00:00  2.09184  2.30653  2.28059    3.40902      NaN   \n",
       "2  2007-10-31 00:00:00  2.01050  2.20068  2.13124    3.11642      NaN   \n",
       "3  2007-11-01 00:00:00  2.12474  2.31998  2.22515    3.28787      NaN   \n",
       "4  2007-11-02 00:00:00  2.20092  2.39996  2.31217    3.40686      NaN   \n",
       "\n",
       "    Brasil    Chile  Colombia  Costa Rica  Ecuador  El Salvador  Guatemala  \\\n",
       "0  1.74591  1.12264   1.60120         NaN  5.97284      1.69250        NaN   \n",
       "1  1.73399  1.12886   1.57447         NaN  5.95700      1.66766        NaN   \n",
       "2  1.65654  1.11809   1.47853         NaN  5.75163      1.58238        NaN   \n",
       "3  1.78215  1.09782   1.60699         NaN  5.90083      1.67401        NaN   \n",
       "4  1.85498  1.14779   1.68363         NaN  5.95847      1.74595        NaN   \n",
       "\n",
       "   Honduras   México  Paraguay     Perú   Panamá  Uruguay  Venezuela  \n",
       "0       NaN  1.25739       NaN  1.45609  1.57240  2.05193    4.01601  \n",
       "1       NaN  1.26494       NaN  1.45076  1.56610  2.01736    3.99061  \n",
       "2       NaN  1.20928       NaN  1.36579  1.45827  1.91474    3.82922  \n",
       "3       NaN  1.30770       NaN  1.45911  1.57267  1.98080    4.01389  \n",
       "4       NaN  1.37776       NaN  1.52888  1.65530  2.04029    4.12753  "
      ]
     },
     "execution_count": 2,
     "metadata": {},
     "output_type": "execute_result"
    }
   ],
   "source": [
    "df_embi = pd.read_excel('embi.xlsx')\n",
    "df_embi.head()"
   ]
  },
  {
   "cell_type": "code",
   "execution_count": 3,
   "id": "4f5daf27",
   "metadata": {},
   "outputs": [
    {
     "data": {
      "text/html": [
       "<div>\n",
       "<style scoped>\n",
       "    .dataframe tbody tr th:only-of-type {\n",
       "        vertical-align: middle;\n",
       "    }\n",
       "\n",
       "    .dataframe tbody tr th {\n",
       "        vertical-align: top;\n",
       "    }\n",
       "\n",
       "    .dataframe thead th {\n",
       "        text-align: right;\n",
       "    }\n",
       "</style>\n",
       "<table border=\"1\" class=\"dataframe\">\n",
       "  <thead>\n",
       "    <tr style=\"text-align: right;\">\n",
       "      <th></th>\n",
       "      <th>Fecha</th>\n",
       "      <th>Region</th>\n",
       "      <th>embi_spread</th>\n",
       "    </tr>\n",
       "  </thead>\n",
       "  <tbody>\n",
       "    <tr>\n",
       "      <th>0</th>\n",
       "      <td>2007-10-29 00:00:00</td>\n",
       "      <td>Global</td>\n",
       "      <td>2.10117</td>\n",
       "    </tr>\n",
       "    <tr>\n",
       "      <th>1</th>\n",
       "      <td>2007-10-30 00:00:00</td>\n",
       "      <td>Global</td>\n",
       "      <td>2.09184</td>\n",
       "    </tr>\n",
       "    <tr>\n",
       "      <th>2</th>\n",
       "      <td>2007-10-31 00:00:00</td>\n",
       "      <td>Global</td>\n",
       "      <td>2.01050</td>\n",
       "    </tr>\n",
       "    <tr>\n",
       "      <th>3</th>\n",
       "      <td>2007-11-01 00:00:00</td>\n",
       "      <td>Global</td>\n",
       "      <td>2.12474</td>\n",
       "    </tr>\n",
       "    <tr>\n",
       "      <th>4</th>\n",
       "      <td>2007-11-02 00:00:00</td>\n",
       "      <td>Global</td>\n",
       "      <td>2.20092</td>\n",
       "    </tr>\n",
       "    <tr>\n",
       "      <th>...</th>\n",
       "      <td>...</td>\n",
       "      <td>...</td>\n",
       "      <td>...</td>\n",
       "    </tr>\n",
       "    <tr>\n",
       "      <th>72803</th>\n",
       "      <td>2023-02-23 00:00:00</td>\n",
       "      <td>Venezuela</td>\n",
       "      <td>393.56706</td>\n",
       "    </tr>\n",
       "    <tr>\n",
       "      <th>72804</th>\n",
       "      <td>2023-02-24 00:00:00</td>\n",
       "      <td>Venezuela</td>\n",
       "      <td>396.17296</td>\n",
       "    </tr>\n",
       "    <tr>\n",
       "      <th>72805</th>\n",
       "      <td>2023-02-27 00:00:00</td>\n",
       "      <td>Venezuela</td>\n",
       "      <td>437.92071</td>\n",
       "    </tr>\n",
       "    <tr>\n",
       "      <th>72806</th>\n",
       "      <td>2023-02-28 00:00:00</td>\n",
       "      <td>Venezuela</td>\n",
       "      <td>339.50511</td>\n",
       "    </tr>\n",
       "    <tr>\n",
       "      <th>72807</th>\n",
       "      <td>2023-03-01 00:00:00</td>\n",
       "      <td>Venezuela</td>\n",
       "      <td>341.79947</td>\n",
       "    </tr>\n",
       "  </tbody>\n",
       "</table>\n",
       "<p>72808 rows × 3 columns</p>\n",
       "</div>"
      ],
      "text/plain": [
       "                     Fecha     Region  embi_spread\n",
       "0      2007-10-29 00:00:00     Global      2.10117\n",
       "1      2007-10-30 00:00:00     Global      2.09184\n",
       "2      2007-10-31 00:00:00     Global      2.01050\n",
       "3      2007-11-01 00:00:00     Global      2.12474\n",
       "4      2007-11-02 00:00:00     Global      2.20092\n",
       "...                    ...        ...          ...\n",
       "72803  2023-02-23 00:00:00  Venezuela    393.56706\n",
       "72804  2023-02-24 00:00:00  Venezuela    396.17296\n",
       "72805  2023-02-27 00:00:00  Venezuela    437.92071\n",
       "72806  2023-02-28 00:00:00  Venezuela    339.50511\n",
       "72807  2023-03-01 00:00:00  Venezuela    341.79947\n",
       "\n",
       "[72808 rows x 3 columns]"
      ]
     },
     "execution_count": 3,
     "metadata": {},
     "output_type": "execute_result"
    }
   ],
   "source": [
    "df_long_embi = pd.melt(df_embi, id_vars=['Fecha'], var_name = 'Region', value_name ='embi_spread')\n",
    "df_long_embi"
   ]
  },
  {
   "cell_type": "code",
   "execution_count": 4,
   "id": "5b719567",
   "metadata": {},
   "outputs": [
    {
     "data": {
      "text/plain": [
       "array(['Global', 'LATINO', 'REP DOM', 'Argentina', 'Bolivia', 'Brasil',\n",
       "       'Chile', 'Colombia', 'Costa Rica', 'Ecuador', 'El Salvador',\n",
       "       'Guatemala', 'Honduras', 'México', 'Paraguay', 'Perú', 'Panamá',\n",
       "       'Uruguay', 'Venezuela'], dtype=object)"
      ]
     },
     "execution_count": 4,
     "metadata": {},
     "output_type": "execute_result"
    }
   ],
   "source": [
    "df_long_embi['Region'].unique()"
   ]
  },
  {
   "cell_type": "code",
   "execution_count": 5,
   "id": "33be8f3c",
   "metadata": {},
   "outputs": [],
   "source": [
    "countries_dict = {'Global':'GLOB', 'LATINO':'LA', 'REP DOM':'DO', 'Argentina':'AR', 'Bolivia':'BO', 'Brasil':'BR',\n",
    "       'Chile':'CL', 'Colombia':'CO', 'Costa Rica':'CR', 'Ecuador':'EC', 'El Salvador':'SV',\n",
    "       'Guatemala':'GT', 'Honduras':'HN', 'México':'MX', 'Paraguay':'PY', 'Perú':'PE', 'Panamá':'PA',\n",
    "       'Uruguay':'UY', 'Venezuela':'VE', 'Brazil':'BR', 'Dominican Republic': 'DO', 'Mexico': 'MX'}"
   ]
  },
  {
   "cell_type": "code",
   "execution_count": 6,
   "id": "5b39a8c5",
   "metadata": {},
   "outputs": [
    {
     "data": {
      "text/html": [
       "<div>\n",
       "<style scoped>\n",
       "    .dataframe tbody tr th:only-of-type {\n",
       "        vertical-align: middle;\n",
       "    }\n",
       "\n",
       "    .dataframe tbody tr th {\n",
       "        vertical-align: top;\n",
       "    }\n",
       "\n",
       "    .dataframe thead th {\n",
       "        text-align: right;\n",
       "    }\n",
       "</style>\n",
       "<table border=\"1\" class=\"dataframe\">\n",
       "  <thead>\n",
       "    <tr style=\"text-align: right;\">\n",
       "      <th></th>\n",
       "      <th>Fecha</th>\n",
       "      <th>Region</th>\n",
       "      <th>embi_spread</th>\n",
       "      <th>Pais</th>\n",
       "    </tr>\n",
       "  </thead>\n",
       "  <tbody>\n",
       "    <tr>\n",
       "      <th>0</th>\n",
       "      <td>2007-10-29 00:00:00</td>\n",
       "      <td>Global</td>\n",
       "      <td>2.10117</td>\n",
       "      <td>GLOB</td>\n",
       "    </tr>\n",
       "    <tr>\n",
       "      <th>1</th>\n",
       "      <td>2007-10-30 00:00:00</td>\n",
       "      <td>Global</td>\n",
       "      <td>2.09184</td>\n",
       "      <td>GLOB</td>\n",
       "    </tr>\n",
       "    <tr>\n",
       "      <th>2</th>\n",
       "      <td>2007-10-31 00:00:00</td>\n",
       "      <td>Global</td>\n",
       "      <td>2.01050</td>\n",
       "      <td>GLOB</td>\n",
       "    </tr>\n",
       "    <tr>\n",
       "      <th>3</th>\n",
       "      <td>2007-11-01 00:00:00</td>\n",
       "      <td>Global</td>\n",
       "      <td>2.12474</td>\n",
       "      <td>GLOB</td>\n",
       "    </tr>\n",
       "    <tr>\n",
       "      <th>4</th>\n",
       "      <td>2007-11-02 00:00:00</td>\n",
       "      <td>Global</td>\n",
       "      <td>2.20092</td>\n",
       "      <td>GLOB</td>\n",
       "    </tr>\n",
       "  </tbody>\n",
       "</table>\n",
       "</div>"
      ],
      "text/plain": [
       "                 Fecha  Region  embi_spread  Pais\n",
       "0  2007-10-29 00:00:00  Global      2.10117  GLOB\n",
       "1  2007-10-30 00:00:00  Global      2.09184  GLOB\n",
       "2  2007-10-31 00:00:00  Global      2.01050  GLOB\n",
       "3  2007-11-01 00:00:00  Global      2.12474  GLOB\n",
       "4  2007-11-02 00:00:00  Global      2.20092  GLOB"
      ]
     },
     "execution_count": 6,
     "metadata": {},
     "output_type": "execute_result"
    }
   ],
   "source": [
    "df_long_embi['Pais'] = df_long_embi['Region'].apply(lambda x: countries_dict[x])\n",
    "df_long_embi.head()"
   ]
  },
  {
   "cell_type": "code",
   "execution_count": 7,
   "id": "9ad254d6",
   "metadata": {},
   "outputs": [
    {
     "data": {
      "text/plain": [
       "datetime.datetime(2007, 10, 29, 0, 0)"
      ]
     },
     "execution_count": 7,
     "metadata": {},
     "output_type": "execute_result"
    }
   ],
   "source": [
    "df_long_embi.at[0,'Fecha']"
   ]
  },
  {
   "cell_type": "code",
   "execution_count": 8,
   "id": "114f54dd",
   "metadata": {},
   "outputs": [
    {
     "data": {
      "text/plain": [
       "Timestamp('2007-10-29 00:00:00')"
      ]
     },
     "execution_count": 8,
     "metadata": {},
     "output_type": "execute_result"
    }
   ],
   "source": [
    "df_long_embi['date'] = df_long_embi['Fecha'].apply(lambda x: pd.Timestamp(x))\n",
    "df_long_embi.at[0,'date']"
   ]
  },
  {
   "cell_type": "code",
   "execution_count": 9,
   "id": "7b8084ed",
   "metadata": {},
   "outputs": [],
   "source": [
    "df_long_embi['ix'] = df_long_embi['date'].astype(str) + '_'+ df_long_embi['Pais']"
   ]
  },
  {
   "cell_type": "markdown",
   "id": "784dd026",
   "metadata": {},
   "source": [
    "# Riesgo Social"
   ]
  },
  {
   "cell_type": "code",
   "execution_count": 10,
   "id": "33d85619",
   "metadata": {},
   "outputs": [
    {
     "data": {
      "text/html": [
       "<div>\n",
       "<style scoped>\n",
       "    .dataframe tbody tr th:only-of-type {\n",
       "        vertical-align: middle;\n",
       "    }\n",
       "\n",
       "    .dataframe tbody tr th {\n",
       "        vertical-align: top;\n",
       "    }\n",
       "\n",
       "    .dataframe thead th {\n",
       "        text-align: right;\n",
       "    }\n",
       "</style>\n",
       "<table border=\"1\" class=\"dataframe\">\n",
       "  <thead>\n",
       "    <tr style=\"text-align: right;\">\n",
       "      <th></th>\n",
       "      <th>date</th>\n",
       "      <th>Pais</th>\n",
       "      <th>log</th>\n",
       "      <th>trend</th>\n",
       "      <th>cycle</th>\n",
       "    </tr>\n",
       "  </thead>\n",
       "  <tbody>\n",
       "    <tr>\n",
       "      <th>0</th>\n",
       "      <td>2010-01-01</td>\n",
       "      <td>DO</td>\n",
       "      <td>-4.605170</td>\n",
       "      <td>-0.015678</td>\n",
       "      <td>-4.589492</td>\n",
       "    </tr>\n",
       "    <tr>\n",
       "      <th>1</th>\n",
       "      <td>2010-02-01</td>\n",
       "      <td>DO</td>\n",
       "      <td>3.526361</td>\n",
       "      <td>0.608279</td>\n",
       "      <td>2.918081</td>\n",
       "    </tr>\n",
       "    <tr>\n",
       "      <th>2</th>\n",
       "      <td>2010-03-01</td>\n",
       "      <td>DO</td>\n",
       "      <td>3.663562</td>\n",
       "      <td>1.155745</td>\n",
       "      <td>2.507817</td>\n",
       "    </tr>\n",
       "    <tr>\n",
       "      <th>3</th>\n",
       "      <td>2010-04-01</td>\n",
       "      <td>DO</td>\n",
       "      <td>2.995732</td>\n",
       "      <td>1.598863</td>\n",
       "      <td>1.396870</td>\n",
       "    </tr>\n",
       "    <tr>\n",
       "      <th>4</th>\n",
       "      <td>2010-05-01</td>\n",
       "      <td>DO</td>\n",
       "      <td>3.970292</td>\n",
       "      <td>1.951572</td>\n",
       "      <td>2.018720</td>\n",
       "    </tr>\n",
       "    <tr>\n",
       "      <th>...</th>\n",
       "      <td>...</td>\n",
       "      <td>...</td>\n",
       "      <td>...</td>\n",
       "      <td>...</td>\n",
       "      <td>...</td>\n",
       "    </tr>\n",
       "    <tr>\n",
       "      <th>2681</th>\n",
       "      <td>2022-10-01</td>\n",
       "      <td>VE</td>\n",
       "      <td>3.496508</td>\n",
       "      <td>2.734727</td>\n",
       "      <td>0.761781</td>\n",
       "    </tr>\n",
       "    <tr>\n",
       "      <th>2682</th>\n",
       "      <td>2022-11-01</td>\n",
       "      <td>VE</td>\n",
       "      <td>3.496508</td>\n",
       "      <td>2.777630</td>\n",
       "      <td>0.718877</td>\n",
       "    </tr>\n",
       "    <tr>\n",
       "      <th>2683</th>\n",
       "      <td>2022-12-01</td>\n",
       "      <td>VE</td>\n",
       "      <td>2.197225</td>\n",
       "      <td>2.823569</td>\n",
       "      <td>-0.626345</td>\n",
       "    </tr>\n",
       "    <tr>\n",
       "      <th>2684</th>\n",
       "      <td>2023-01-01</td>\n",
       "      <td>VE</td>\n",
       "      <td>3.258097</td>\n",
       "      <td>2.876371</td>\n",
       "      <td>0.381725</td>\n",
       "    </tr>\n",
       "    <tr>\n",
       "      <th>2685</th>\n",
       "      <td>2023-02-01</td>\n",
       "      <td>VE</td>\n",
       "      <td>2.944439</td>\n",
       "      <td>2.929423</td>\n",
       "      <td>0.015016</td>\n",
       "    </tr>\n",
       "  </tbody>\n",
       "</table>\n",
       "<p>2686 rows × 5 columns</p>\n",
       "</div>"
      ],
      "text/plain": [
       "            date Pais       log     trend     cycle\n",
       "0     2010-01-01   DO -4.605170 -0.015678 -4.589492\n",
       "1     2010-02-01   DO  3.526361  0.608279  2.918081\n",
       "2     2010-03-01   DO  3.663562  1.155745  2.507817\n",
       "3     2010-04-01   DO  2.995732  1.598863  1.396870\n",
       "4     2010-05-01   DO  3.970292  1.951572  2.018720\n",
       "...          ...  ...       ...       ...       ...\n",
       "2681  2022-10-01   VE  3.496508  2.734727  0.761781\n",
       "2682  2022-11-01   VE  3.496508  2.777630  0.718877\n",
       "2683  2022-12-01   VE  2.197225  2.823569 -0.626345\n",
       "2684  2023-01-01   VE  3.258097  2.876371  0.381725\n",
       "2685  2023-02-01   VE  2.944439  2.929423  0.015016\n",
       "\n",
       "[2686 rows x 5 columns]"
      ]
     },
     "execution_count": 10,
     "metadata": {},
     "output_type": "execute_result"
    }
   ],
   "source": [
    "#df_rs = pd.read_excel('TermometroRsocial.xlsx', sheet_name = 'bd')\n",
    "df_rs = pd.read_csv('TermometroRsocial.csv')\n",
    "df_rs_clean = df_rs[['date', 'Pais', 'log','trend', 'cycle']].copy()\n",
    "df_rs_clean"
   ]
  },
  {
   "cell_type": "code",
   "execution_count": 11,
   "id": "9e0c0ef4",
   "metadata": {},
   "outputs": [
    {
     "name": "stdout",
     "output_type": "stream",
     "text": [
      "2010-02-01\n"
     ]
    },
    {
     "data": {
      "text/plain": [
       "str"
      ]
     },
     "execution_count": 11,
     "metadata": {},
     "output_type": "execute_result"
    }
   ],
   "source": [
    "print(df_rs_clean.at[1,'date'])\n",
    "type(df_rs_clean.at[1,'date'])"
   ]
  },
  {
   "cell_type": "code",
   "execution_count": 12,
   "id": "7cfc0d4a",
   "metadata": {},
   "outputs": [
    {
     "name": "stdout",
     "output_type": "stream",
     "text": [
      "2010-02-01 00:00:00\n"
     ]
    },
    {
     "data": {
      "text/plain": [
       "pandas._libs.tslibs.timestamps.Timestamp"
      ]
     },
     "execution_count": 12,
     "metadata": {},
     "output_type": "execute_result"
    }
   ],
   "source": [
    "#cast to timestamp\n",
    "df_rs_clean['date'] = pd.to_datetime(df_rs_clean['date'])\n",
    "print(df_rs_clean.at[1,'date'])\n",
    "type(df_rs_clean.at[1,'date'])"
   ]
  },
  {
   "cell_type": "code",
   "execution_count": 13,
   "id": "af6b6a84",
   "metadata": {},
   "outputs": [],
   "source": [
    "df_rs_clean['ix'] = df_rs_clean['date'].astype(str) + '_'+ df_rs_clean['Pais']"
   ]
  },
  {
   "cell_type": "markdown",
   "id": "7210b295",
   "metadata": {},
   "source": [
    "# FX"
   ]
  },
  {
   "cell_type": "code",
   "execution_count": 14,
   "id": "fba64a9b",
   "metadata": {},
   "outputs": [
    {
     "data": {
      "text/html": [
       "<div>\n",
       "<style scoped>\n",
       "    .dataframe tbody tr th:only-of-type {\n",
       "        vertical-align: middle;\n",
       "    }\n",
       "\n",
       "    .dataframe tbody tr th {\n",
       "        vertical-align: top;\n",
       "    }\n",
       "\n",
       "    .dataframe thead th {\n",
       "        text-align: right;\n",
       "    }\n",
       "</style>\n",
       "<table border=\"1\" class=\"dataframe\">\n",
       "  <thead>\n",
       "    <tr style=\"text-align: right;\">\n",
       "      <th></th>\n",
       "      <th>date</th>\n",
       "      <th>FX_Argentina</th>\n",
       "      <th>FX_Brazil</th>\n",
       "      <th>FX_Chile</th>\n",
       "      <th>FX_Colombia</th>\n",
       "      <th>FX_Dominican Republic</th>\n",
       "      <th>FX_Mexico</th>\n",
       "      <th>FX_Uruguay</th>\n",
       "      <th>FX_Costa Rica</th>\n",
       "    </tr>\n",
       "  </thead>\n",
       "  <tbody>\n",
       "    <tr>\n",
       "      <th>0</th>\n",
       "      <td>2011-03-02</td>\n",
       "      <td>4.0397</td>\n",
       "      <td>1.6574</td>\n",
       "      <td>475.799988</td>\n",
       "      <td>1917.25</td>\n",
       "      <td>37.650002</td>\n",
       "      <td>12.0740</td>\n",
       "      <td>19.014000</td>\n",
       "      <td>491.049988</td>\n",
       "    </tr>\n",
       "    <tr>\n",
       "      <th>1</th>\n",
       "      <td>2011-03-03</td>\n",
       "      <td>4.0263</td>\n",
       "      <td>1.6542</td>\n",
       "      <td>476.700012</td>\n",
       "      <td>1906.00</td>\n",
       "      <td>37.700001</td>\n",
       "      <td>12.0030</td>\n",
       "      <td>19.020000</td>\n",
       "      <td>487.929993</td>\n",
       "    </tr>\n",
       "    <tr>\n",
       "      <th>2</th>\n",
       "      <td>2011-03-04</td>\n",
       "      <td>4.0230</td>\n",
       "      <td>1.6495</td>\n",
       "      <td>473.000000</td>\n",
       "      <td>1889.00</td>\n",
       "      <td>37.700001</td>\n",
       "      <td>12.0000</td>\n",
       "      <td>18.964001</td>\n",
       "      <td>488.029999</td>\n",
       "    </tr>\n",
       "    <tr>\n",
       "      <th>3</th>\n",
       "      <td>2011-03-07</td>\n",
       "      <td>4.0231</td>\n",
       "      <td>1.6399</td>\n",
       "      <td>461.609985</td>\n",
       "      <td>1895.00</td>\n",
       "      <td>37.700001</td>\n",
       "      <td>12.0505</td>\n",
       "      <td>19.020000</td>\n",
       "      <td>487.429993</td>\n",
       "    </tr>\n",
       "    <tr>\n",
       "      <th>4</th>\n",
       "      <td>2011-03-08</td>\n",
       "      <td>4.0271</td>\n",
       "      <td>1.6521</td>\n",
       "      <td>473.750000</td>\n",
       "      <td>1889.00</td>\n",
       "      <td>37.750000</td>\n",
       "      <td>12.0000</td>\n",
       "      <td>19.024000</td>\n",
       "      <td>489.420013</td>\n",
       "    </tr>\n",
       "  </tbody>\n",
       "</table>\n",
       "</div>"
      ],
      "text/plain": [
       "        date  FX_Argentina  FX_Brazil    FX_Chile  FX_Colombia  \\\n",
       "0 2011-03-02        4.0397     1.6574  475.799988      1917.25   \n",
       "1 2011-03-03        4.0263     1.6542  476.700012      1906.00   \n",
       "2 2011-03-04        4.0230     1.6495  473.000000      1889.00   \n",
       "3 2011-03-07        4.0231     1.6399  461.609985      1895.00   \n",
       "4 2011-03-08        4.0271     1.6521  473.750000      1889.00   \n",
       "\n",
       "   FX_Dominican Republic  FX_Mexico  FX_Uruguay  FX_Costa Rica  \n",
       "0              37.650002    12.0740   19.014000     491.049988  \n",
       "1              37.700001    12.0030   19.020000     487.929993  \n",
       "2              37.700001    12.0000   18.964001     488.029999  \n",
       "3              37.700001    12.0505   19.020000     487.429993  \n",
       "4              37.750000    12.0000   19.024000     489.420013  "
      ]
     },
     "execution_count": 14,
     "metadata": {},
     "output_type": "execute_result"
    }
   ],
   "source": [
    "df_fx = pd.read_excel('tcs_yahoo.xlsx')\n",
    "df_fx.drop(columns = ['Unnamed: 0'], inplace = True)\n",
    "df_fx.head()"
   ]
  },
  {
   "cell_type": "code",
   "execution_count": 15,
   "id": "4b5a2a82",
   "metadata": {},
   "outputs": [
    {
     "name": "stdout",
     "output_type": "stream",
     "text": [
      "2011-03-03 00:00:00\n"
     ]
    },
    {
     "data": {
      "text/plain": [
       "pandas._libs.tslibs.timestamps.Timestamp"
      ]
     },
     "execution_count": 15,
     "metadata": {},
     "output_type": "execute_result"
    }
   ],
   "source": [
    "df_fx.at[1,'date']\n",
    "print(df_fx.at[1,'date'])\n",
    "type(df_fx.at[1,'date'])"
   ]
  },
  {
   "cell_type": "code",
   "execution_count": 16,
   "id": "5610831b",
   "metadata": {},
   "outputs": [
    {
     "data": {
      "text/html": [
       "<div>\n",
       "<style scoped>\n",
       "    .dataframe tbody tr th:only-of-type {\n",
       "        vertical-align: middle;\n",
       "    }\n",
       "\n",
       "    .dataframe tbody tr th {\n",
       "        vertical-align: top;\n",
       "    }\n",
       "\n",
       "    .dataframe thead th {\n",
       "        text-align: right;\n",
       "    }\n",
       "</style>\n",
       "<table border=\"1\" class=\"dataframe\">\n",
       "  <thead>\n",
       "    <tr style=\"text-align: right;\">\n",
       "      <th></th>\n",
       "      <th>date</th>\n",
       "      <th>Pais</th>\n",
       "      <th>FX</th>\n",
       "    </tr>\n",
       "  </thead>\n",
       "  <tbody>\n",
       "    <tr>\n",
       "      <th>0</th>\n",
       "      <td>2011-03-02</td>\n",
       "      <td>Argentina</td>\n",
       "      <td>4.039700</td>\n",
       "    </tr>\n",
       "    <tr>\n",
       "      <th>1</th>\n",
       "      <td>2011-03-03</td>\n",
       "      <td>Argentina</td>\n",
       "      <td>4.026300</td>\n",
       "    </tr>\n",
       "    <tr>\n",
       "      <th>2</th>\n",
       "      <td>2011-03-04</td>\n",
       "      <td>Argentina</td>\n",
       "      <td>4.023000</td>\n",
       "    </tr>\n",
       "    <tr>\n",
       "      <th>3</th>\n",
       "      <td>2011-03-07</td>\n",
       "      <td>Argentina</td>\n",
       "      <td>4.023100</td>\n",
       "    </tr>\n",
       "    <tr>\n",
       "      <th>4</th>\n",
       "      <td>2011-03-08</td>\n",
       "      <td>Argentina</td>\n",
       "      <td>4.027100</td>\n",
       "    </tr>\n",
       "    <tr>\n",
       "      <th>...</th>\n",
       "      <td>...</td>\n",
       "      <td>...</td>\n",
       "      <td>...</td>\n",
       "    </tr>\n",
       "    <tr>\n",
       "      <th>25051</th>\n",
       "      <td>2023-02-24</td>\n",
       "      <td>Costa Rica</td>\n",
       "      <td>544.607727</td>\n",
       "    </tr>\n",
       "    <tr>\n",
       "      <th>25052</th>\n",
       "      <td>2023-02-27</td>\n",
       "      <td>Costa Rica</td>\n",
       "      <td>547.702026</td>\n",
       "    </tr>\n",
       "    <tr>\n",
       "      <th>25053</th>\n",
       "      <td>2023-02-28</td>\n",
       "      <td>Costa Rica</td>\n",
       "      <td>547.144958</td>\n",
       "    </tr>\n",
       "    <tr>\n",
       "      <th>25054</th>\n",
       "      <td>2023-03-01</td>\n",
       "      <td>Costa Rica</td>\n",
       "      <td>546.591431</td>\n",
       "    </tr>\n",
       "    <tr>\n",
       "      <th>25055</th>\n",
       "      <td>2023-03-02</td>\n",
       "      <td>Costa Rica</td>\n",
       "      <td>553.210022</td>\n",
       "    </tr>\n",
       "  </tbody>\n",
       "</table>\n",
       "<p>25056 rows × 3 columns</p>\n",
       "</div>"
      ],
      "text/plain": [
       "            date        Pais          FX\n",
       "0     2011-03-02   Argentina    4.039700\n",
       "1     2011-03-03   Argentina    4.026300\n",
       "2     2011-03-04   Argentina    4.023000\n",
       "3     2011-03-07   Argentina    4.023100\n",
       "4     2011-03-08   Argentina    4.027100\n",
       "...          ...         ...         ...\n",
       "25051 2023-02-24  Costa Rica  544.607727\n",
       "25052 2023-02-27  Costa Rica  547.702026\n",
       "25053 2023-02-28  Costa Rica  547.144958\n",
       "25054 2023-03-01  Costa Rica  546.591431\n",
       "25055 2023-03-02  Costa Rica  553.210022\n",
       "\n",
       "[25056 rows x 3 columns]"
      ]
     },
     "execution_count": 16,
     "metadata": {},
     "output_type": "execute_result"
    }
   ],
   "source": [
    "df_fx_long = pd.melt(df_fx, id_vars=['date'], var_name = 'Pais', value_name ='FX')\n",
    "df_fx_long['Pais'] = df_fx_long['Pais'].apply(lambda x: x.split('_')[1])\n",
    "df_fx_long"
   ]
  },
  {
   "cell_type": "code",
   "execution_count": 17,
   "id": "44631a8e",
   "metadata": {},
   "outputs": [
    {
     "data": {
      "text/plain": [
       "array(['Argentina', 'Brazil', 'Chile', 'Colombia', 'Dominican Republic',\n",
       "       'Mexico', 'Uruguay', 'Costa Rica'], dtype=object)"
      ]
     },
     "execution_count": 17,
     "metadata": {},
     "output_type": "execute_result"
    }
   ],
   "source": [
    "df_fx_long['Pais'].unique()"
   ]
  },
  {
   "cell_type": "code",
   "execution_count": 18,
   "id": "60ed920d",
   "metadata": {},
   "outputs": [],
   "source": [
    "countries_dict = {'Global':'GLOB', 'LATINO':'LA', 'REP DOM':'DO', 'Argentina':'AR', 'Bolivia':'BO', 'Brasil':'BR',\n",
    "       'Chile':'CL', 'Colombia':'CO', 'Costa Rica':'CR', 'Ecuador':'EC', 'El Salvador':'SV',\n",
    "       'Guatemala':'GT', 'Honduras':'HN', 'México':'MX', 'Paraguay':'PY', 'Perú':'PE', 'Panamá':'PA',\n",
    "       'Uruguay':'UY', 'Venezuela':'VE', 'Brazil':'BR', 'Dominican Republic': 'DO', 'Mexico': 'MX'}"
   ]
  },
  {
   "cell_type": "code",
   "execution_count": 19,
   "id": "b822bf64",
   "metadata": {},
   "outputs": [
    {
     "data": {
      "text/html": [
       "<div>\n",
       "<style scoped>\n",
       "    .dataframe tbody tr th:only-of-type {\n",
       "        vertical-align: middle;\n",
       "    }\n",
       "\n",
       "    .dataframe tbody tr th {\n",
       "        vertical-align: top;\n",
       "    }\n",
       "\n",
       "    .dataframe thead th {\n",
       "        text-align: right;\n",
       "    }\n",
       "</style>\n",
       "<table border=\"1\" class=\"dataframe\">\n",
       "  <thead>\n",
       "    <tr style=\"text-align: right;\">\n",
       "      <th></th>\n",
       "      <th>date</th>\n",
       "      <th>Pais</th>\n",
       "      <th>FX</th>\n",
       "      <th>Pais_short</th>\n",
       "    </tr>\n",
       "  </thead>\n",
       "  <tbody>\n",
       "    <tr>\n",
       "      <th>0</th>\n",
       "      <td>2011-03-02</td>\n",
       "      <td>Argentina</td>\n",
       "      <td>4.039700</td>\n",
       "      <td>AR</td>\n",
       "    </tr>\n",
       "    <tr>\n",
       "      <th>1</th>\n",
       "      <td>2011-03-03</td>\n",
       "      <td>Argentina</td>\n",
       "      <td>4.026300</td>\n",
       "      <td>AR</td>\n",
       "    </tr>\n",
       "    <tr>\n",
       "      <th>2</th>\n",
       "      <td>2011-03-04</td>\n",
       "      <td>Argentina</td>\n",
       "      <td>4.023000</td>\n",
       "      <td>AR</td>\n",
       "    </tr>\n",
       "    <tr>\n",
       "      <th>3</th>\n",
       "      <td>2011-03-07</td>\n",
       "      <td>Argentina</td>\n",
       "      <td>4.023100</td>\n",
       "      <td>AR</td>\n",
       "    </tr>\n",
       "    <tr>\n",
       "      <th>4</th>\n",
       "      <td>2011-03-08</td>\n",
       "      <td>Argentina</td>\n",
       "      <td>4.027100</td>\n",
       "      <td>AR</td>\n",
       "    </tr>\n",
       "    <tr>\n",
       "      <th>...</th>\n",
       "      <td>...</td>\n",
       "      <td>...</td>\n",
       "      <td>...</td>\n",
       "      <td>...</td>\n",
       "    </tr>\n",
       "    <tr>\n",
       "      <th>25051</th>\n",
       "      <td>2023-02-24</td>\n",
       "      <td>Costa Rica</td>\n",
       "      <td>544.607727</td>\n",
       "      <td>CR</td>\n",
       "    </tr>\n",
       "    <tr>\n",
       "      <th>25052</th>\n",
       "      <td>2023-02-27</td>\n",
       "      <td>Costa Rica</td>\n",
       "      <td>547.702026</td>\n",
       "      <td>CR</td>\n",
       "    </tr>\n",
       "    <tr>\n",
       "      <th>25053</th>\n",
       "      <td>2023-02-28</td>\n",
       "      <td>Costa Rica</td>\n",
       "      <td>547.144958</td>\n",
       "      <td>CR</td>\n",
       "    </tr>\n",
       "    <tr>\n",
       "      <th>25054</th>\n",
       "      <td>2023-03-01</td>\n",
       "      <td>Costa Rica</td>\n",
       "      <td>546.591431</td>\n",
       "      <td>CR</td>\n",
       "    </tr>\n",
       "    <tr>\n",
       "      <th>25055</th>\n",
       "      <td>2023-03-02</td>\n",
       "      <td>Costa Rica</td>\n",
       "      <td>553.210022</td>\n",
       "      <td>CR</td>\n",
       "    </tr>\n",
       "  </tbody>\n",
       "</table>\n",
       "<p>25056 rows × 4 columns</p>\n",
       "</div>"
      ],
      "text/plain": [
       "            date        Pais          FX Pais_short\n",
       "0     2011-03-02   Argentina    4.039700         AR\n",
       "1     2011-03-03   Argentina    4.026300         AR\n",
       "2     2011-03-04   Argentina    4.023000         AR\n",
       "3     2011-03-07   Argentina    4.023100         AR\n",
       "4     2011-03-08   Argentina    4.027100         AR\n",
       "...          ...         ...         ...        ...\n",
       "25051 2023-02-24  Costa Rica  544.607727         CR\n",
       "25052 2023-02-27  Costa Rica  547.702026         CR\n",
       "25053 2023-02-28  Costa Rica  547.144958         CR\n",
       "25054 2023-03-01  Costa Rica  546.591431         CR\n",
       "25055 2023-03-02  Costa Rica  553.210022         CR\n",
       "\n",
       "[25056 rows x 4 columns]"
      ]
     },
     "execution_count": 19,
     "metadata": {},
     "output_type": "execute_result"
    }
   ],
   "source": [
    "df_fx_long['Pais_short'] = df_fx_long['Pais'].apply(lambda x:countries_dict[x])\n",
    "df_fx_long"
   ]
  },
  {
   "cell_type": "code",
   "execution_count": 20,
   "id": "76ff92e6",
   "metadata": {},
   "outputs": [],
   "source": [
    "df_fx_long['ix'] = df_fx_long['date'].astype(str) + '_'+df_fx_long['Pais_short']"
   ]
  },
  {
   "cell_type": "markdown",
   "id": "70fef0de",
   "metadata": {},
   "source": [
    "# DXY ish"
   ]
  },
  {
   "cell_type": "code",
   "execution_count": 21,
   "id": "ba1c37e5",
   "metadata": {},
   "outputs": [
    {
     "data": {
      "text/html": [
       "<div>\n",
       "<style scoped>\n",
       "    .dataframe tbody tr th:only-of-type {\n",
       "        vertical-align: middle;\n",
       "    }\n",
       "\n",
       "    .dataframe tbody tr th {\n",
       "        vertical-align: top;\n",
       "    }\n",
       "\n",
       "    .dataframe thead th {\n",
       "        text-align: right;\n",
       "    }\n",
       "</style>\n",
       "<table border=\"1\" class=\"dataframe\">\n",
       "  <thead>\n",
       "    <tr style=\"text-align: right;\">\n",
       "      <th></th>\n",
       "      <th>date</th>\n",
       "      <th>DXY</th>\n",
       "      <th>date_str</th>\n",
       "    </tr>\n",
       "  </thead>\n",
       "  <tbody>\n",
       "    <tr>\n",
       "      <th>0</th>\n",
       "      <td>2010-01-01</td>\n",
       "      <td>NaN</td>\n",
       "      <td>2010-01-01</td>\n",
       "    </tr>\n",
       "    <tr>\n",
       "      <th>1</th>\n",
       "      <td>2010-01-04</td>\n",
       "      <td>92.3566</td>\n",
       "      <td>2010-01-04</td>\n",
       "    </tr>\n",
       "    <tr>\n",
       "      <th>2</th>\n",
       "      <td>2010-01-05</td>\n",
       "      <td>92.2236</td>\n",
       "      <td>2010-01-05</td>\n",
       "    </tr>\n",
       "    <tr>\n",
       "      <th>3</th>\n",
       "      <td>2010-01-06</td>\n",
       "      <td>92.0941</td>\n",
       "      <td>2010-01-06</td>\n",
       "    </tr>\n",
       "    <tr>\n",
       "      <th>4</th>\n",
       "      <td>2010-01-07</td>\n",
       "      <td>92.3684</td>\n",
       "      <td>2010-01-07</td>\n",
       "    </tr>\n",
       "    <tr>\n",
       "      <th>...</th>\n",
       "      <td>...</td>\n",
       "      <td>...</td>\n",
       "      <td>...</td>\n",
       "    </tr>\n",
       "    <tr>\n",
       "      <th>3426</th>\n",
       "      <td>2023-02-20</td>\n",
       "      <td>120.5898</td>\n",
       "      <td>2023-02-20</td>\n",
       "    </tr>\n",
       "    <tr>\n",
       "      <th>3427</th>\n",
       "      <td>2023-02-21</td>\n",
       "      <td>120.6705</td>\n",
       "      <td>2023-02-21</td>\n",
       "    </tr>\n",
       "    <tr>\n",
       "      <th>3428</th>\n",
       "      <td>2023-02-22</td>\n",
       "      <td>120.8904</td>\n",
       "      <td>2023-02-22</td>\n",
       "    </tr>\n",
       "    <tr>\n",
       "      <th>3429</th>\n",
       "      <td>2023-02-23</td>\n",
       "      <td>121.1348</td>\n",
       "      <td>2023-02-23</td>\n",
       "    </tr>\n",
       "    <tr>\n",
       "      <th>3430</th>\n",
       "      <td>2023-02-24</td>\n",
       "      <td>121.6304</td>\n",
       "      <td>2023-02-24</td>\n",
       "    </tr>\n",
       "  </tbody>\n",
       "</table>\n",
       "<p>3431 rows × 3 columns</p>\n",
       "</div>"
      ],
      "text/plain": [
       "           date       DXY    date_str\n",
       "0    2010-01-01       NaN  2010-01-01\n",
       "1    2010-01-04   92.3566  2010-01-04\n",
       "2    2010-01-05   92.2236  2010-01-05\n",
       "3    2010-01-06   92.0941  2010-01-06\n",
       "4    2010-01-07   92.3684  2010-01-07\n",
       "...         ...       ...         ...\n",
       "3426 2023-02-20  120.5898  2023-02-20\n",
       "3427 2023-02-21  120.6705  2023-02-21\n",
       "3428 2023-02-22  120.8904  2023-02-22\n",
       "3429 2023-02-23  121.1348  2023-02-23\n",
       "3430 2023-02-24  121.6304  2023-02-24\n",
       "\n",
       "[3431 rows x 3 columns]"
      ]
     },
     "execution_count": 21,
     "metadata": {},
     "output_type": "execute_result"
    }
   ],
   "source": [
    "df_dollar = pd.read_excel('dollar_index.xlsx')\n",
    "df_dollar['date_str'] = df_dollar['date'].astype(str)\n",
    "df_dollar"
   ]
  },
  {
   "cell_type": "markdown",
   "id": "c5158f05",
   "metadata": {},
   "source": [
    "# Inflación"
   ]
  },
  {
   "cell_type": "markdown",
   "id": "9075f133",
   "metadata": {},
   "source": [
    "# Yield corto plazo"
   ]
  },
  {
   "cell_type": "markdown",
   "id": "5dc6a09f",
   "metadata": {},
   "source": [
    "# Yield largo plazo"
   ]
  },
  {
   "cell_type": "markdown",
   "id": "7bf8b5bb",
   "metadata": {},
   "source": [
    "# Merge"
   ]
  },
  {
   "cell_type": "code",
   "execution_count": 22,
   "id": "e051d471",
   "metadata": {},
   "outputs": [
    {
     "data": {
      "text/html": [
       "<div>\n",
       "<style scoped>\n",
       "    .dataframe tbody tr th:only-of-type {\n",
       "        vertical-align: middle;\n",
       "    }\n",
       "\n",
       "    .dataframe tbody tr th {\n",
       "        vertical-align: top;\n",
       "    }\n",
       "\n",
       "    .dataframe thead th {\n",
       "        text-align: right;\n",
       "    }\n",
       "</style>\n",
       "<table border=\"1\" class=\"dataframe\">\n",
       "  <thead>\n",
       "    <tr style=\"text-align: right;\">\n",
       "      <th></th>\n",
       "      <th>Fecha</th>\n",
       "      <th>Region</th>\n",
       "      <th>embi_spread</th>\n",
       "      <th>Pais</th>\n",
       "      <th>date</th>\n",
       "      <th>ix</th>\n",
       "    </tr>\n",
       "  </thead>\n",
       "  <tbody>\n",
       "    <tr>\n",
       "      <th>0</th>\n",
       "      <td>2007-10-29 00:00:00</td>\n",
       "      <td>Global</td>\n",
       "      <td>2.10117</td>\n",
       "      <td>GLOB</td>\n",
       "      <td>2007-10-29</td>\n",
       "      <td>2007-10-29_GLOB</td>\n",
       "    </tr>\n",
       "    <tr>\n",
       "      <th>1</th>\n",
       "      <td>2007-10-30 00:00:00</td>\n",
       "      <td>Global</td>\n",
       "      <td>2.09184</td>\n",
       "      <td>GLOB</td>\n",
       "      <td>2007-10-30</td>\n",
       "      <td>2007-10-30_GLOB</td>\n",
       "    </tr>\n",
       "    <tr>\n",
       "      <th>2</th>\n",
       "      <td>2007-10-31 00:00:00</td>\n",
       "      <td>Global</td>\n",
       "      <td>2.01050</td>\n",
       "      <td>GLOB</td>\n",
       "      <td>2007-10-31</td>\n",
       "      <td>2007-10-31_GLOB</td>\n",
       "    </tr>\n",
       "    <tr>\n",
       "      <th>3</th>\n",
       "      <td>2007-11-01 00:00:00</td>\n",
       "      <td>Global</td>\n",
       "      <td>2.12474</td>\n",
       "      <td>GLOB</td>\n",
       "      <td>2007-11-01</td>\n",
       "      <td>2007-11-01_GLOB</td>\n",
       "    </tr>\n",
       "    <tr>\n",
       "      <th>4</th>\n",
       "      <td>2007-11-02 00:00:00</td>\n",
       "      <td>Global</td>\n",
       "      <td>2.20092</td>\n",
       "      <td>GLOB</td>\n",
       "      <td>2007-11-02</td>\n",
       "      <td>2007-11-02_GLOB</td>\n",
       "    </tr>\n",
       "  </tbody>\n",
       "</table>\n",
       "</div>"
      ],
      "text/plain": [
       "                 Fecha  Region  embi_spread  Pais       date               ix\n",
       "0  2007-10-29 00:00:00  Global      2.10117  GLOB 2007-10-29  2007-10-29_GLOB\n",
       "1  2007-10-30 00:00:00  Global      2.09184  GLOB 2007-10-30  2007-10-30_GLOB\n",
       "2  2007-10-31 00:00:00  Global      2.01050  GLOB 2007-10-31  2007-10-31_GLOB\n",
       "3  2007-11-01 00:00:00  Global      2.12474  GLOB 2007-11-01  2007-11-01_GLOB\n",
       "4  2007-11-02 00:00:00  Global      2.20092  GLOB 2007-11-02  2007-11-02_GLOB"
      ]
     },
     "execution_count": 22,
     "metadata": {},
     "output_type": "execute_result"
    }
   ],
   "source": [
    "df_long_embi.head()"
   ]
  },
  {
   "cell_type": "code",
   "execution_count": 23,
   "id": "0a0f358e",
   "metadata": {},
   "outputs": [
    {
     "data": {
      "text/html": [
       "<div>\n",
       "<style scoped>\n",
       "    .dataframe tbody tr th:only-of-type {\n",
       "        vertical-align: middle;\n",
       "    }\n",
       "\n",
       "    .dataframe tbody tr th {\n",
       "        vertical-align: top;\n",
       "    }\n",
       "\n",
       "    .dataframe thead th {\n",
       "        text-align: right;\n",
       "    }\n",
       "</style>\n",
       "<table border=\"1\" class=\"dataframe\">\n",
       "  <thead>\n",
       "    <tr style=\"text-align: right;\">\n",
       "      <th></th>\n",
       "      <th>date</th>\n",
       "      <th>Pais</th>\n",
       "      <th>log</th>\n",
       "      <th>trend</th>\n",
       "      <th>cycle</th>\n",
       "      <th>ix</th>\n",
       "    </tr>\n",
       "  </thead>\n",
       "  <tbody>\n",
       "    <tr>\n",
       "      <th>0</th>\n",
       "      <td>2010-01-01</td>\n",
       "      <td>DO</td>\n",
       "      <td>-4.605170</td>\n",
       "      <td>-0.015678</td>\n",
       "      <td>-4.589492</td>\n",
       "      <td>2010-01-01_DO</td>\n",
       "    </tr>\n",
       "    <tr>\n",
       "      <th>1</th>\n",
       "      <td>2010-02-01</td>\n",
       "      <td>DO</td>\n",
       "      <td>3.526361</td>\n",
       "      <td>0.608279</td>\n",
       "      <td>2.918081</td>\n",
       "      <td>2010-02-01_DO</td>\n",
       "    </tr>\n",
       "    <tr>\n",
       "      <th>2</th>\n",
       "      <td>2010-03-01</td>\n",
       "      <td>DO</td>\n",
       "      <td>3.663562</td>\n",
       "      <td>1.155745</td>\n",
       "      <td>2.507817</td>\n",
       "      <td>2010-03-01_DO</td>\n",
       "    </tr>\n",
       "    <tr>\n",
       "      <th>3</th>\n",
       "      <td>2010-04-01</td>\n",
       "      <td>DO</td>\n",
       "      <td>2.995732</td>\n",
       "      <td>1.598863</td>\n",
       "      <td>1.396870</td>\n",
       "      <td>2010-04-01_DO</td>\n",
       "    </tr>\n",
       "    <tr>\n",
       "      <th>4</th>\n",
       "      <td>2010-05-01</td>\n",
       "      <td>DO</td>\n",
       "      <td>3.970292</td>\n",
       "      <td>1.951572</td>\n",
       "      <td>2.018720</td>\n",
       "      <td>2010-05-01_DO</td>\n",
       "    </tr>\n",
       "  </tbody>\n",
       "</table>\n",
       "</div>"
      ],
      "text/plain": [
       "        date Pais       log     trend     cycle             ix\n",
       "0 2010-01-01   DO -4.605170 -0.015678 -4.589492  2010-01-01_DO\n",
       "1 2010-02-01   DO  3.526361  0.608279  2.918081  2010-02-01_DO\n",
       "2 2010-03-01   DO  3.663562  1.155745  2.507817  2010-03-01_DO\n",
       "3 2010-04-01   DO  2.995732  1.598863  1.396870  2010-04-01_DO\n",
       "4 2010-05-01   DO  3.970292  1.951572  2.018720  2010-05-01_DO"
      ]
     },
     "execution_count": 23,
     "metadata": {},
     "output_type": "execute_result"
    }
   ],
   "source": [
    "df_rs_clean.head()"
   ]
  },
  {
   "cell_type": "code",
   "execution_count": 24,
   "id": "439b3b74",
   "metadata": {},
   "outputs": [
    {
     "data": {
      "text/html": [
       "<div>\n",
       "<style scoped>\n",
       "    .dataframe tbody tr th:only-of-type {\n",
       "        vertical-align: middle;\n",
       "    }\n",
       "\n",
       "    .dataframe tbody tr th {\n",
       "        vertical-align: top;\n",
       "    }\n",
       "\n",
       "    .dataframe thead th {\n",
       "        text-align: right;\n",
       "    }\n",
       "</style>\n",
       "<table border=\"1\" class=\"dataframe\">\n",
       "  <thead>\n",
       "    <tr style=\"text-align: right;\">\n",
       "      <th></th>\n",
       "      <th>date</th>\n",
       "      <th>Pais</th>\n",
       "      <th>FX</th>\n",
       "      <th>Pais_short</th>\n",
       "      <th>ix</th>\n",
       "    </tr>\n",
       "  </thead>\n",
       "  <tbody>\n",
       "    <tr>\n",
       "      <th>0</th>\n",
       "      <td>2011-03-02</td>\n",
       "      <td>Argentina</td>\n",
       "      <td>4.0397</td>\n",
       "      <td>AR</td>\n",
       "      <td>2011-03-02_AR</td>\n",
       "    </tr>\n",
       "    <tr>\n",
       "      <th>1</th>\n",
       "      <td>2011-03-03</td>\n",
       "      <td>Argentina</td>\n",
       "      <td>4.0263</td>\n",
       "      <td>AR</td>\n",
       "      <td>2011-03-03_AR</td>\n",
       "    </tr>\n",
       "    <tr>\n",
       "      <th>2</th>\n",
       "      <td>2011-03-04</td>\n",
       "      <td>Argentina</td>\n",
       "      <td>4.0230</td>\n",
       "      <td>AR</td>\n",
       "      <td>2011-03-04_AR</td>\n",
       "    </tr>\n",
       "    <tr>\n",
       "      <th>3</th>\n",
       "      <td>2011-03-07</td>\n",
       "      <td>Argentina</td>\n",
       "      <td>4.0231</td>\n",
       "      <td>AR</td>\n",
       "      <td>2011-03-07_AR</td>\n",
       "    </tr>\n",
       "    <tr>\n",
       "      <th>4</th>\n",
       "      <td>2011-03-08</td>\n",
       "      <td>Argentina</td>\n",
       "      <td>4.0271</td>\n",
       "      <td>AR</td>\n",
       "      <td>2011-03-08_AR</td>\n",
       "    </tr>\n",
       "  </tbody>\n",
       "</table>\n",
       "</div>"
      ],
      "text/plain": [
       "        date       Pais      FX Pais_short             ix\n",
       "0 2011-03-02  Argentina  4.0397         AR  2011-03-02_AR\n",
       "1 2011-03-03  Argentina  4.0263         AR  2011-03-03_AR\n",
       "2 2011-03-04  Argentina  4.0230         AR  2011-03-04_AR\n",
       "3 2011-03-07  Argentina  4.0231         AR  2011-03-07_AR\n",
       "4 2011-03-08  Argentina  4.0271         AR  2011-03-08_AR"
      ]
     },
     "execution_count": 24,
     "metadata": {},
     "output_type": "execute_result"
    }
   ],
   "source": [
    "df_fx_long.head()"
   ]
  },
  {
   "cell_type": "code",
   "execution_count": 25,
   "id": "6dc43daa",
   "metadata": {},
   "outputs": [
    {
     "data": {
      "text/plain": [
       "Index(['Fecha', 'Region', 'embi_spread', 'Pais_x', 'date_x', 'ix', 'date_y',\n",
       "       'Pais_y', 'log', 'trend', 'cycle', 'date', 'Pais', 'FX', 'Pais_short'],\n",
       "      dtype='object')"
      ]
     },
     "execution_count": 25,
     "metadata": {},
     "output_type": "execute_result"
    }
   ],
   "source": [
    "df_merge1 = df_long_embi.merge(df_rs_clean, how = 'right', on ='ix')\n",
    "df_merge2 = df_merge1.merge(df_fx_long, how = 'left', on ='ix')\n",
    "df_merge2.columns"
   ]
  },
  {
   "cell_type": "code",
   "execution_count": 26,
   "id": "040cb2cd",
   "metadata": {},
   "outputs": [
    {
     "name": "stdout",
     "output_type": "stream",
     "text": [
      "Before droping NaNs 2686\n",
      "After droping NaNs 632\n"
     ]
    }
   ],
   "source": [
    "df_merge_short = df_merge2[['ix', 'embi_spread',  'log', 'trend', 'cycle', 'FX']].copy()\n",
    "df_merge_short['date'] = df_merge_short['ix'].apply(lambda x: x.split('_')[0])\n",
    "df_merge_short['Pais'] = df_merge_short['ix'].apply(lambda x: x.split('_')[1])\n",
    "print('Before droping NaNs',len(df_merge_short))\n",
    "df_merge_short.dropna(inplace = True)\n",
    "print('After droping NaNs',len(df_merge_short))"
   ]
  },
  {
   "cell_type": "code",
   "execution_count": 27,
   "id": "deb2e4a8",
   "metadata": {},
   "outputs": [
    {
     "data": {
      "text/html": [
       "<div>\n",
       "<style scoped>\n",
       "    .dataframe tbody tr th:only-of-type {\n",
       "        vertical-align: middle;\n",
       "    }\n",
       "\n",
       "    .dataframe tbody tr th {\n",
       "        vertical-align: top;\n",
       "    }\n",
       "\n",
       "    .dataframe thead th {\n",
       "        text-align: right;\n",
       "    }\n",
       "</style>\n",
       "<table border=\"1\" class=\"dataframe\">\n",
       "  <thead>\n",
       "    <tr style=\"text-align: right;\">\n",
       "      <th></th>\n",
       "      <th>ix</th>\n",
       "      <th>embi_spread</th>\n",
       "      <th>log</th>\n",
       "      <th>trend</th>\n",
       "      <th>cycle</th>\n",
       "      <th>FX</th>\n",
       "      <th>date_x</th>\n",
       "      <th>Pais</th>\n",
       "      <th>date_y</th>\n",
       "      <th>DXY</th>\n",
       "      <th>date_str</th>\n",
       "    </tr>\n",
       "  </thead>\n",
       "  <tbody>\n",
       "    <tr>\n",
       "      <th>0</th>\n",
       "      <td>2011-06-01_DO</td>\n",
       "      <td>3.94113</td>\n",
       "      <td>2.995732</td>\n",
       "      <td>3.179865</td>\n",
       "      <td>-0.184133</td>\n",
       "      <td>37.799999</td>\n",
       "      <td>2011-06-01</td>\n",
       "      <td>DO</td>\n",
       "      <td>2011-06-01</td>\n",
       "      <td>86.5964</td>\n",
       "      <td>2011-06-01</td>\n",
       "    </tr>\n",
       "    <tr>\n",
       "      <th>1</th>\n",
       "      <td>2011-08-01_DO</td>\n",
       "      <td>4.21746</td>\n",
       "      <td>2.564949</td>\n",
       "      <td>3.084604</td>\n",
       "      <td>-0.519654</td>\n",
       "      <td>37.180000</td>\n",
       "      <td>2011-08-01</td>\n",
       "      <td>DO</td>\n",
       "      <td>2011-08-01</td>\n",
       "      <td>86.0391</td>\n",
       "      <td>2011-08-01</td>\n",
       "    </tr>\n",
       "    <tr>\n",
       "      <th>2</th>\n",
       "      <td>2011-09-01_DO</td>\n",
       "      <td>5.06642</td>\n",
       "      <td>3.367296</td>\n",
       "      <td>3.060924</td>\n",
       "      <td>0.306372</td>\n",
       "      <td>37.950001</td>\n",
       "      <td>2011-09-01</td>\n",
       "      <td>DO</td>\n",
       "      <td>2011-09-01</td>\n",
       "      <td>86.8512</td>\n",
       "      <td>2011-09-01</td>\n",
       "    </tr>\n",
       "    <tr>\n",
       "      <th>3</th>\n",
       "      <td>2011-11-01_DO</td>\n",
       "      <td>5.13001</td>\n",
       "      <td>3.135494</td>\n",
       "      <td>3.011114</td>\n",
       "      <td>0.124380</td>\n",
       "      <td>37.778999</td>\n",
       "      <td>2011-11-01</td>\n",
       "      <td>DO</td>\n",
       "      <td>2011-11-01</td>\n",
       "      <td>90.7296</td>\n",
       "      <td>2011-11-01</td>\n",
       "    </tr>\n",
       "    <tr>\n",
       "      <th>4</th>\n",
       "      <td>2011-12-01_DO</td>\n",
       "      <td>5.33967</td>\n",
       "      <td>2.995732</td>\n",
       "      <td>2.982343</td>\n",
       "      <td>0.013390</td>\n",
       "      <td>38.450001</td>\n",
       "      <td>2011-12-01</td>\n",
       "      <td>DO</td>\n",
       "      <td>2011-12-01</td>\n",
       "      <td>91.2270</td>\n",
       "      <td>2011-12-01</td>\n",
       "    </tr>\n",
       "    <tr>\n",
       "      <th>...</th>\n",
       "      <td>...</td>\n",
       "      <td>...</td>\n",
       "      <td>...</td>\n",
       "      <td>...</td>\n",
       "      <td>...</td>\n",
       "      <td>...</td>\n",
       "      <td>...</td>\n",
       "      <td>...</td>\n",
       "      <td>...</td>\n",
       "      <td>...</td>\n",
       "      <td>...</td>\n",
       "    </tr>\n",
       "    <tr>\n",
       "      <th>627</th>\n",
       "      <td>2022-08-01_UY</td>\n",
       "      <td>1.45601</td>\n",
       "      <td>3.044522</td>\n",
       "      <td>2.992322</td>\n",
       "      <td>0.052201</td>\n",
       "      <td>40.454327</td>\n",
       "      <td>2022-08-01</td>\n",
       "      <td>UY</td>\n",
       "      <td>2022-08-01</td>\n",
       "      <td>121.3454</td>\n",
       "      <td>2022-08-01</td>\n",
       "    </tr>\n",
       "    <tr>\n",
       "      <th>628</th>\n",
       "      <td>2022-09-01_UY</td>\n",
       "      <td>1.28107</td>\n",
       "      <td>2.890372</td>\n",
       "      <td>2.960642</td>\n",
       "      <td>-0.070270</td>\n",
       "      <td>40.211674</td>\n",
       "      <td>2022-09-01</td>\n",
       "      <td>UY</td>\n",
       "      <td>2022-09-01</td>\n",
       "      <td>124.3064</td>\n",
       "      <td>2022-09-01</td>\n",
       "    </tr>\n",
       "    <tr>\n",
       "      <th>629</th>\n",
       "      <td>2022-11-01_UY</td>\n",
       "      <td>1.34857</td>\n",
       "      <td>3.135494</td>\n",
       "      <td>2.876204</td>\n",
       "      <td>0.259290</td>\n",
       "      <td>40.204006</td>\n",
       "      <td>2022-11-01</td>\n",
       "      <td>UY</td>\n",
       "      <td>2022-11-01</td>\n",
       "      <td>127.3480</td>\n",
       "      <td>2022-11-01</td>\n",
       "    </tr>\n",
       "    <tr>\n",
       "      <th>630</th>\n",
       "      <td>2022-12-01_UY</td>\n",
       "      <td>1.10176</td>\n",
       "      <td>2.484907</td>\n",
       "      <td>2.822203</td>\n",
       "      <td>-0.337297</td>\n",
       "      <td>38.946663</td>\n",
       "      <td>2022-12-01</td>\n",
       "      <td>UY</td>\n",
       "      <td>2022-12-01</td>\n",
       "      <td>121.9697</td>\n",
       "      <td>2022-12-01</td>\n",
       "    </tr>\n",
       "    <tr>\n",
       "      <th>631</th>\n",
       "      <td>2023-02-01_UY</td>\n",
       "      <td>1.11529</td>\n",
       "      <td>2.772589</td>\n",
       "      <td>2.714727</td>\n",
       "      <td>0.057862</td>\n",
       "      <td>38.089966</td>\n",
       "      <td>2023-02-01</td>\n",
       "      <td>UY</td>\n",
       "      <td>2023-02-01</td>\n",
       "      <td>118.6101</td>\n",
       "      <td>2023-02-01</td>\n",
       "    </tr>\n",
       "  </tbody>\n",
       "</table>\n",
       "<p>632 rows × 11 columns</p>\n",
       "</div>"
      ],
      "text/plain": [
       "                ix  embi_spread       log     trend     cycle         FX  \\\n",
       "0    2011-06-01_DO      3.94113  2.995732  3.179865 -0.184133  37.799999   \n",
       "1    2011-08-01_DO      4.21746  2.564949  3.084604 -0.519654  37.180000   \n",
       "2    2011-09-01_DO      5.06642  3.367296  3.060924  0.306372  37.950001   \n",
       "3    2011-11-01_DO      5.13001  3.135494  3.011114  0.124380  37.778999   \n",
       "4    2011-12-01_DO      5.33967  2.995732  2.982343  0.013390  38.450001   \n",
       "..             ...          ...       ...       ...       ...        ...   \n",
       "627  2022-08-01_UY      1.45601  3.044522  2.992322  0.052201  40.454327   \n",
       "628  2022-09-01_UY      1.28107  2.890372  2.960642 -0.070270  40.211674   \n",
       "629  2022-11-01_UY      1.34857  3.135494  2.876204  0.259290  40.204006   \n",
       "630  2022-12-01_UY      1.10176  2.484907  2.822203 -0.337297  38.946663   \n",
       "631  2023-02-01_UY      1.11529  2.772589  2.714727  0.057862  38.089966   \n",
       "\n",
       "         date_x Pais     date_y       DXY    date_str  \n",
       "0    2011-06-01   DO 2011-06-01   86.5964  2011-06-01  \n",
       "1    2011-08-01   DO 2011-08-01   86.0391  2011-08-01  \n",
       "2    2011-09-01   DO 2011-09-01   86.8512  2011-09-01  \n",
       "3    2011-11-01   DO 2011-11-01   90.7296  2011-11-01  \n",
       "4    2011-12-01   DO 2011-12-01   91.2270  2011-12-01  \n",
       "..          ...  ...        ...       ...         ...  \n",
       "627  2022-08-01   UY 2022-08-01  121.3454  2022-08-01  \n",
       "628  2022-09-01   UY 2022-09-01  124.3064  2022-09-01  \n",
       "629  2022-11-01   UY 2022-11-01  127.3480  2022-11-01  \n",
       "630  2022-12-01   UY 2022-12-01  121.9697  2022-12-01  \n",
       "631  2023-02-01   UY 2023-02-01  118.6101  2023-02-01  \n",
       "\n",
       "[632 rows x 11 columns]"
      ]
     },
     "execution_count": 27,
     "metadata": {},
     "output_type": "execute_result"
    }
   ],
   "source": [
    "df_merge_shorter = df_merge_short.merge(df_dollar, how = 'left', left_on ='date', right_on='date_str')\n",
    "df_merge_shorter"
   ]
  },
  {
   "cell_type": "code",
   "execution_count": 28,
   "id": "aaa412be",
   "metadata": {},
   "outputs": [],
   "source": [
    "df_merge_shorter = df_merge_shorter"
   ]
  },
  {
   "cell_type": "code",
   "execution_count": 29,
   "id": "89f7d97f",
   "metadata": {},
   "outputs": [],
   "source": [
    "df_merge_shorter.rename(columns={'date_y':'date'}, inplace = True)"
   ]
  },
  {
   "cell_type": "code",
   "execution_count": 30,
   "id": "f5484296",
   "metadata": {},
   "outputs": [
    {
     "data": {
      "image/png": "[encoded data removed]",
      "text/plain": [
       "<Figure size 1080x504 with 1 Axes>"
      ]
     },
     "metadata": {
      "needs_background": "light"
     },
     "output_type": "display_data"
    }
   ],
   "source": [
    "plt.figure(figsize = (15,7))\n",
    "sns.lineplot(data = df_merge_shorter, x = 'date', y= 'embi_spread', hue = 'Pais')\n",
    "plt.xticks(rotation = 90)\n",
    "plt.show()"
   ]
  },
  {
   "cell_type": "code",
   "execution_count": 31,
   "id": "c2a95ad2",
   "metadata": {},
   "outputs": [],
   "source": [
    "df_merge_shorter['log_FX'] = np.log(df_merge_shorter['FX'])\n",
    "df_merge_shorter['log_DXY'] = np.log(df_merge_shorter['DXY'])"
   ]
  },
  {
   "cell_type": "code",
   "execution_count": 32,
   "id": "57d21d52",
   "metadata": {},
   "outputs": [
    {
     "data": {
      "text/plain": [
       "Index(['ix', 'embi_spread', 'log', 'trend', 'cycle', 'FX', 'date', 'Pais'], dtype='object')"
      ]
     },
     "execution_count": 32,
     "metadata": {},
     "output_type": "execute_result"
    }
   ],
   "source": [
    "df_merge_short.columns"
   ]
  },
  {
   "cell_type": "code",
   "execution_count": 33,
   "id": "21c4470f",
   "metadata": {},
   "outputs": [
    {
     "data": {
      "text/plain": [
       "array(['DO', 'AR', 'BR', 'CL', 'CO', 'CR', 'MX', 'UY'], dtype=object)"
      ]
     },
     "execution_count": 33,
     "metadata": {},
     "output_type": "execute_result"
    }
   ],
   "source": [
    "df_merge_shorter['Pais'].unique()"
   ]
  },
  {
   "cell_type": "code",
   "execution_count": 34,
   "id": "3327f47a",
   "metadata": {},
   "outputs": [],
   "source": [
    "df_merge_shorter.to_excel('bd_riesgo_social.xlsx')"
   ]
  },
  {
   "cell_type": "code",
   "execution_count": 35,
   "id": "b693d046",
   "metadata": {},
   "outputs": [],
   "source": [
    "df_merge_short_col = df_merge_shorter[df_merge_shorter['Pais'] == 'CO']"
   ]
  },
  {
   "cell_type": "code",
   "execution_count": 36,
   "id": "cdbbaea8",
   "metadata": {},
   "outputs": [
    {
     "data": {
      "image/png": "[encoded data removed]",
      "text/plain": [
       "<Figure size 900x900 with 30 Axes>"
      ]
     },
     "metadata": {
      "needs_background": "light"
     },
     "output_type": "display_data"
    }
   ],
   "source": [
    "sns.pairplot(df_merge_short_col[[ 'embi_spread', 'log','trend', 'log_FX', 'log_DXY']])\n",
    "plt.show()"
   ]
  },
  {
   "cell_type": "code",
   "execution_count": 37,
   "id": "d87ef4e7",
   "metadata": {},
   "outputs": [
    {
     "data": {
      "image/png": "[encoded data removed]",
      "text/plain": [
       "<Figure size 432x288 with 1 Axes>"
      ]
     },
     "metadata": {
      "needs_background": "light"
     },
     "output_type": "display_data"
    }
   ],
   "source": [
    "sns.regplot(data = df_merge_short_col, x = 'trend', y ='log_FX')\n",
    "plt.title('Dolar explicado por riesgo social')\n",
    "plt.show()"
   ]
  },
  {
   "cell_type": "code",
   "execution_count": 38,
   "id": "6f9cd363",
   "metadata": {},
   "outputs": [
    {
     "data": {
      "image/png": "[encoded data removed]",
      "text/plain": [
       "<Figure size 432x288 with 1 Axes>"
      ]
     },
     "metadata": {
      "needs_background": "light"
     },
     "output_type": "display_data"
    }
   ],
   "source": [
    "sns.regplot(data = df_merge_short_col, x = 'embi_spread', y ='log_FX')\n",
    "plt.title('Dolar explicado por embi')\n",
    "plt.show()"
   ]
  },
  {
   "cell_type": "code",
   "execution_count": 39,
   "id": "21a57b3d",
   "metadata": {},
   "outputs": [
    {
     "data": {
      "image/png": "[encoded data removed]",
      "text/plain": [
       "<Figure size 432x288 with 1 Axes>"
      ]
     },
     "metadata": {
      "needs_background": "light"
     },
     "output_type": "display_data"
    }
   ],
   "source": [
    "sns.regplot(data = df_merge_short_col, x = 'trend', y ='embi_spread')\n",
    "plt.title('Embi explicado por riesgo social')\n",
    "plt.show()"
   ]
  },
  {
   "cell_type": "code",
   "execution_count": 43,
   "id": "0fdb4875",
   "metadata": {},
   "outputs": [
    {
     "data": {
      "text/html": [
       "<table class=\"simpletable\">\n",
       "<caption>OLS Regression Results</caption>\n",
       "<tr>\n",
       "  <th>Dep. Variable:</th>         <td>log_FX</td>      <th>  R-squared:         </th> <td>   0.941</td>\n",
       "</tr>\n",
       "<tr>\n",
       "  <th>Model:</th>                   <td>OLS</td>       <th>  Adj. R-squared:    </th> <td>   0.940</td>\n",
       "</tr>\n",
       "<tr>\n",
       "  <th>Method:</th>             <td>Least Squares</td>  <th>  F-statistic:       </th> <td>   616.2</td>\n",
       "</tr>\n",
       "<tr>\n",
       "  <th>Date:</th>             <td>Fri, 03 Mar 2023</td> <th>  Prob (F-statistic):</th> <td>4.20e-48</td>\n",
       "</tr>\n",
       "<tr>\n",
       "  <th>Time:</th>                 <td>14:18:49</td>     <th>  Log-Likelihood:    </th> <td>  94.790</td>\n",
       "</tr>\n",
       "<tr>\n",
       "  <th>No. Observations:</th>      <td>    80</td>      <th>  AIC:               </th> <td>  -183.6</td>\n",
       "</tr>\n",
       "<tr>\n",
       "  <th>Df Residuals:</th>          <td>    77</td>      <th>  BIC:               </th> <td>  -176.4</td>\n",
       "</tr>\n",
       "<tr>\n",
       "  <th>Df Model:</th>              <td>     2</td>      <th>                     </th>     <td> </td>   \n",
       "</tr>\n",
       "<tr>\n",
       "  <th>Covariance Type:</th>      <td>nonrobust</td>    <th>                     </th>     <td> </td>   \n",
       "</tr>\n",
       "</table>\n",
       "<table class=\"simpletable\">\n",
       "<tr>\n",
       "     <td></td>        <th>coef</th>     <th>std err</th>      <th>t</th>      <th>P>|t|</th>  <th>[0.025</th>    <th>0.975]</th>  \n",
       "</tr>\n",
       "<tr>\n",
       "  <th>const</th>   <td>   -3.1217</td> <td>    0.446</td> <td>   -6.992</td> <td> 0.000</td> <td>   -4.011</td> <td>   -2.233</td>\n",
       "</tr>\n",
       "<tr>\n",
       "  <th>trend</th>   <td>    0.1989</td> <td>    0.030</td> <td>    6.589</td> <td> 0.000</td> <td>    0.139</td> <td>    0.259</td>\n",
       "</tr>\n",
       "<tr>\n",
       "  <th>log_DXY</th> <td>    2.2669</td> <td>    0.105</td> <td>   21.649</td> <td> 0.000</td> <td>    2.058</td> <td>    2.475</td>\n",
       "</tr>\n",
       "</table>\n",
       "<table class=\"simpletable\">\n",
       "<tr>\n",
       "  <th>Omnibus:</th>       <td> 2.574</td> <th>  Durbin-Watson:     </th> <td>   0.426</td>\n",
       "</tr>\n",
       "<tr>\n",
       "  <th>Prob(Omnibus):</th> <td> 0.276</td> <th>  Jarque-Bera (JB):  </th> <td>   2.297</td>\n",
       "</tr>\n",
       "<tr>\n",
       "  <th>Skew:</th>          <td>-0.315</td> <th>  Prob(JB):          </th> <td>   0.317</td>\n",
       "</tr>\n",
       "<tr>\n",
       "  <th>Kurtosis:</th>      <td> 2.460</td> <th>  Cond. No.          </th> <td>    290.</td>\n",
       "</tr>\n",
       "</table><br/><br/>Notes:<br/>[1] Standard Errors assume that the covariance matrix of the errors is correctly specified."
      ],
      "text/plain": [
       "<class 'statsmodels.iolib.summary.Summary'>\n",
       "\"\"\"\n",
       "                            OLS Regression Results                            \n",
       "==============================================================================\n",
       "Dep. Variable:                 log_FX   R-squared:                       0.941\n",
       "Model:                            OLS   Adj. R-squared:                  0.940\n",
       "Method:                 Least Squares   F-statistic:                     616.2\n",
       "Date:                Fri, 03 Mar 2023   Prob (F-statistic):           4.20e-48\n",
       "Time:                        14:18:49   Log-Likelihood:                 94.790\n",
       "No. Observations:                  80   AIC:                            -183.6\n",
       "Df Residuals:                      77   BIC:                            -176.4\n",
       "Df Model:                           2                                         \n",
       "Covariance Type:            nonrobust                                         \n",
       "==============================================================================\n",
       "                 coef    std err          t      P>|t|      [0.025      0.975]\n",
       "------------------------------------------------------------------------------\n",
       "const         -3.1217      0.446     -6.992      0.000      -4.011      -2.233\n",
       "trend          0.1989      0.030      6.589      0.000       0.139       0.259\n",
       "log_DXY        2.2669      0.105     21.649      0.000       2.058       2.475\n",
       "==============================================================================\n",
       "Omnibus:                        2.574   Durbin-Watson:                   0.426\n",
       "Prob(Omnibus):                  0.276   Jarque-Bera (JB):                2.297\n",
       "Skew:                          -0.315   Prob(JB):                        0.317\n",
       "Kurtosis:                       2.460   Cond. No.                         290.\n",
       "==============================================================================\n",
       "\n",
       "Notes:\n",
       "[1] Standard Errors assume that the covariance matrix of the errors is correctly specified.\n",
       "\"\"\""
      ]
     },
     "execution_count": 43,
     "metadata": {},
     "output_type": "execute_result"
    }
   ],
   "source": [
    "import statsmodels.api as sm\n",
    "y = df_merge_short_col['log_FX']\n",
    "X = df_merge_short_col[['trend', 'log_DXY']]\n",
    "X = sm.add_constant(X)\n",
    "model = sm.OLS(y,X)\n",
    "results = model.fit()\n",
    "results.summary()"
   ]
  },
  {
   "cell_type": "code",
   "execution_count": null,
   "id": "cba61fa6",
   "metadata": {},
   "outputs": [],
   "source": []
  }
 ],
 "metadata": {
  "kernelspec": {
   "display_name": "Python 3",
   "language": "python",
   "name": "python3"
  },
  "language_info": {
   "codemirror_mode": {
    "name": "ipython",
    "version": 3
   },
   "file_extension": ".py",
   "mimetype": "text/x-python",
   "name": "python",
   "nbconvert_exporter": "python",
   "pygments_lexer": "ipython3",
   "version": "3.8.8"
  }
 },
 "nbformat": 4,
 "nbformat_minor": 5
}
