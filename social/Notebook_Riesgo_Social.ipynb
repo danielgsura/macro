{
 "cells": [
  {
   "cell_type": "code",
   "execution_count": null,
   "id": "e3ffaeee",
   "metadata": {},
   "outputs": [],
   "source": [
    "#import os\n",
    "#os.getcwd()\n",
    "#import sys\n",
    "#sys.path.append('C:\\\\Users\\\\daniguvz\\\\OneDrive - Seguros Suramericana, S.A\\\\Documents\\\\GitHub\\\\pytrends\\\\pytrends')"
   ]
  },
  {
   "cell_type": "code",
   "execution_count": 1,
   "id": "80fb2f6e",
   "metadata": {},
   "outputs": [],
   "source": [
    "import warnings\n",
    "warnings.filterwarnings('ignore')"
   ]
  },
  {
   "cell_type": "code",
   "execution_count": 2,
   "id": "0b4be620",
   "metadata": {},
   "outputs": [],
   "source": [
    "from pytrends.request import TrendReq"
   ]
  },
  {
   "cell_type": "code",
   "execution_count": 3,
   "id": "3ac5fe05",
   "metadata": {},
   "outputs": [
    {
     "name": "stderr",
     "output_type": "stream",
     "text": [
      "100%|██████████| 10/10 [05:12<00:00, 31.20s/it]\n"
     ]
    }
   ],
   "source": [
    "from datetime import date\n",
    "\n",
    "#se sefiene el intervalo de busqueda desde el 2004 hasta el momentio en que se ejecute este código\n",
    "today = date.today()\n",
    "Intervalo = (\"2010-01-01 \"+ str(today))\n",
    "\n",
    "#importa los paquetes\n",
    "from pytrends.request import TrendReq\n",
    "import pandas as pd\n",
    "from tqdm import tqdm\n",
    "import time\n",
    "import statsmodels.api as sm\n",
    "import numpy as np\n",
    "\n",
    "\n",
    "Paises = ['AR','BR','CL','MX','DO','SV','PA','UY','CO','PE'] # todos los países\n",
    "#Paises= ['DO', 'AR', 'BO', 'BR', 'CL', 'CO', 'CR', 'EC', 'SV', 'GT', 'HN', 'MX', 'PY', 'PE', 'PA', 'UY', 'VE', 'IL'] #Paises con EMBI\n",
    "#Paises = ['HT','DO'] # solo Haití y Dominicana\n",
    "\n",
    "#buscar por el tema:\n",
    "\"\"\"pytrends = TrendReq(hl='es', tz=360)\n",
    "suggs = pytrends.suggestions(\"manifestación\")\n",
    "print(suggs)\"\"\"\n",
    "#Query por a realizar\n",
    "Query = [\"/g/120ry1nd\"]\n",
    "\n",
    "frames = list()\n",
    "\n",
    "#pytrends = TrendReq(hl='en-US', tz=360)\n",
    "pytrends = TrendReq(hl='en-US', tz=360,   retries=2, backoff_factor=0.1, requests_args={'verify':False})\n",
    "\n",
    "\n",
    "j = 0\n",
    "\n",
    "#Se itera entre los países\n",
    "for i in tqdm(Paises):\n",
    "    \n",
    "    #se hace el query\n",
    "    pytrends.build_payload(Query, timeframe= Intervalo, geo= str(i)) #se construye el query\n",
    "    data = pytrends.interest_over_time() # se extrae la linea de tiempo (interest_over_time) del query\n",
    "\n",
    "    ####data = data.rename(columns={\"/g/120ry1nd\": 'protestas + manifestaciones'})\n",
    "    data = data.reset_index()\n",
    "    #Se normaliza\n",
    "    #data[str(Query[0])] = data[str(Query[0])].div(Normalizacion[int(j)]) # Para paises sura\n",
    "    data[str(Query[0])] = data[str(Query[0])].div(1) # Paises sin normalizacion\n",
    "\n",
    "    # se apilan los resultados en una lista\n",
    "    frames.append(data)  \n",
    "    j = j+1\n",
    "    \n",
    "    time.sleep(30)\n",
    "    \n",
    "#se concatena las lista de resultados en un solo resultado    \n",
    "result = pd.concat(frames, keys= Paises)\n",
    "result = result.reset_index()\n",
    "result.rename(columns={'level_0': 'Pais'}, inplace=True)\n",
    "\n",
    "\n",
    "#Se hace el procesamiento y el filtro HP\n",
    "lamnda = 60 #venta de filtro hp\n",
    "\n",
    "resultados = list()\n",
    "for i in Paises:\n",
    "    data = result[result['Pais'] == str(i)] #el data no es el \n",
    "    Dataref = data.copy()\n",
    "    #se reemplaza los 0 para no generar error con el log\n",
    "    Dataref['log'] = data[str(Query[0])].replace(0, 0.01)\n",
    "    #Se saca el logaritmo natural\n",
    "    Dataref['log'] = np.log(Dataref['log'])\n",
    "    #Se aplica el filtro\n",
    "    Dataref['cycle'], Dataref['trend'] = sm.tsa.filters.hpfilter(Dataref['log'], lamnda)\n",
    "    \n",
    "    # se asigna el nivel de riesgo social\n",
    "    \n",
    "    #se puede comentar desde acá \n",
    "    \n",
    "    \"\"\"estado = []\n",
    "    for i in Dataref['trend']:\n",
    "        if i > 1.4:\n",
    "            if i > 2:\n",
    "                nivelriesgo = \"Muy Alto\"\n",
    "            else:\n",
    "                nivelriesgo = \"Alto\"\n",
    "        else:\n",
    "            nivelriesgo = \"Bajo\" \n",
    "        estado.append(nivelriesgo)\n",
    "    Dataref['Estado del riesgo'] = estado\"\"\"\n",
    "    #se puede comentar hasta acá \n",
    "    \n",
    "    resultados.append(Dataref) \n",
    "    \n",
    "    \n",
    "Final = pd.concat(resultados, keys= Paises)\n",
    "\n",
    "\n",
    "try:\n",
    "    Final = Final.reset_index()\n",
    "except:\n",
    "    pass\n",
    "Final.to_csv('TermometroRsocial.csv')"
   ]
  }
 ],
 "metadata": {
  "kernelspec": {
   "display_name": "Python 3 (ipykernel)",
   "language": "python",
   "name": "python3"
  },
  "language_info": {
   "codemirror_mode": {
    "name": "ipython",
    "version": 3
   },
   "file_extension": ".py",
   "mimetype": "text/x-python",
   "name": "python",
   "nbconvert_exporter": "python",
   "pygments_lexer": "ipython3",
   "version": "3.9.12"
  }
 },
 "nbformat": 4,
 "nbformat_minor": 5
}
