{
 "cells": [
  {
   "cell_type": "code",
   "execution_count": 1,
   "metadata": {
    "colab": {
     "base_uri": "https://localhost:8080/"
    },
    "id": "CruXtDASwRby",
    "outputId": "2ff0ab26-8d61-42d4-b54f-c4f4aa94443c"
   },
   "outputs": [
    {
     "name": "stdout",
     "output_type": "stream",
     "text": [
      "Looking in indexes: https://pypi.org/simple, https://us-python.pkg.dev/colab-wheels/public/simple/\n",
      "Collecting pytrends\n",
      "  Downloading pytrends-4.9.0-py3-none-any.whl (15 kB)\n",
      "Requirement already satisfied: requests>=2.0 in /usr/local/lib/python3.8/dist-packages (from pytrends) (2.25.1)\n",
      "Requirement already satisfied: lxml in /usr/local/lib/python3.8/dist-packages (from pytrends) (4.9.2)\n",
      "Requirement already satisfied: pandas>=0.25 in /usr/local/lib/python3.8/dist-packages (from pytrends) (1.3.5)\n",
      "Requirement already satisfied: python-dateutil>=2.7.3 in /usr/local/lib/python3.8/dist-packages (from pandas>=0.25->pytrends) (2.8.2)\n",
      "Requirement already satisfied: pytz>=2017.3 in /usr/local/lib/python3.8/dist-packages (from pandas>=0.25->pytrends) (2022.7.1)\n",
      "Requirement already satisfied: numpy>=1.17.3 in /usr/local/lib/python3.8/dist-packages (from pandas>=0.25->pytrends) (1.22.4)\n",
      "Requirement already satisfied: chardet<5,>=3.0.2 in /usr/local/lib/python3.8/dist-packages (from requests>=2.0->pytrends) (4.0.0)\n",
      "Requirement already satisfied: idna<3,>=2.5 in /usr/local/lib/python3.8/dist-packages (from requests>=2.0->pytrends) (2.10)\n",
      "Requirement already satisfied: certifi>=2017.4.17 in /usr/local/lib/python3.8/dist-packages (from requests>=2.0->pytrends) (2022.12.7)\n",
      "Requirement already satisfied: urllib3<1.27,>=1.21.1 in /usr/local/lib/python3.8/dist-packages (from requests>=2.0->pytrends) (1.24.3)\n",
      "Requirement already satisfied: six>=1.5 in /usr/local/lib/python3.8/dist-packages (from python-dateutil>=2.7.3->pandas>=0.25->pytrends) (1.15.0)\n",
      "Installing collected packages: pytrends\n",
      "Successfully installed pytrends-4.9.0\n"
     ]
    }
   ],
   "source": [
    "#se intala la libreria para consultar la api de Google Trends\n",
    "!pip install pytrends"
   ]
  },
  {
   "cell_type": "code",
   "execution_count": null,
   "metadata": {
    "id": "378IGRpbwRbz"
   },
   "outputs": [],
   "source": [
    "#!pip install pytrends --upgrade"
   ]
  },
  {
   "cell_type": "code",
   "execution_count": null,
   "metadata": {
    "id": "S-xsCy8uwRb0"
   },
   "outputs": [],
   "source": [
    "#faltantes:\n",
    "#normalizar entre países"
   ]
  },
  {
   "cell_type": "code",
   "execution_count": 2,
   "metadata": {
    "id": "F6x3nxKXwRb0"
   },
   "outputs": [],
   "source": [
    "from datetime import date\n",
    "\n",
    "#se sefiene el intervalo de busqueda desde el 2004 hasta el momentio en que se ejecute este código\n",
    "today = date.today()\n",
    "Intervalo = (\"2010-01-01 \"+ str(today))"
   ]
  },
  {
   "cell_type": "code",
   "execution_count": 3,
   "metadata": {
    "id": "QYKTLNTKwRb1"
   },
   "outputs": [],
   "source": [
    "#importa los paquetes\n",
    "from pytrends.request import TrendReq\n",
    "import pandas as pd\n",
    "from tqdm import tqdm\n",
    "import datetime as dt\n",
    "import time\n",
    "import statsmodels.api as sm\n",
    "import numpy as np"
   ]
  },
  {
   "cell_type": "code",
   "execution_count": 8,
   "metadata": {
    "colab": {
     "base_uri": "https://localhost:8080/"
    },
    "id": "RQtxGrcrho4n",
    "outputId": "375546ce-5fcc-4c7e-f611-3696288cd1b5"
   },
   "outputs": [
    {
     "name": "stdout",
     "output_type": "stream",
     "text": [
      "[{'mid': '/g/120ry1nd', 'title': 'Manifestación', 'type': 'Tema'}, {'mid': '/g/121crs2g', 'title': 'manifestación', 'type': 'Tema'}, {'mid': '/g/11_ybw1h8', 'title': 'La Iniquidad', 'type': 'Libro de Ana Mendez'}, {'mid': '/g/11mp_klg6l', 'title': '📝DIARIO para Manifestar Deseos con el Método 369: ⭐️⭐️⭐️⭐️⭐️Método Tesla 369 (45 días) GARANTIZADO', 'type': 'Libro de Nikola Tesla'}, {'mid': '/g/11f1rp3vlf', 'title': 'La ley de la atracción', 'type': 'Libro de William Walker Atkinson'}]\n"
     ]
    }
   ],
   "source": [
    "pytrends = TrendReq(hl='es', tz=360)\n",
    "suggs = pytrends.suggestions(\"manifestación\")\n",
    "print(suggs)"
   ]
  },
  {
   "cell_type": "code",
   "execution_count": 9,
   "metadata": {
    "id": "1tIOcXQAwRb1"
   },
   "outputs": [],
   "source": [
    "#Norma para el query \"Manifestación\" como tema\n",
    "Normalizacion = [5.4,0.54,1,3.22,4,8.3,5.3,3.9,1.588235294,1.384615385]\n",
    "\n",
    "\n",
    "#la normalización es para equiparar las busquedas entre países, el número sale de:\n",
    "#dividir el max(chile) que es el con el que se calibró el nivel de riesgo / MAx (de cada país)\n",
    "#este paso se hizo manual a partir del ejercicio inicial"
   ]
  },
  {
   "cell_type": "code",
   "execution_count": 10,
   "metadata": {
    "colab": {
     "base_uri": "https://localhost:8080/"
    },
    "id": "Mjsdq5pYwRb2",
    "outputId": "8765bf35-cb22-47d1-9a72-d66fe83ae1cc"
   },
   "outputs": [
    {
     "name": "stderr",
     "output_type": "stream",
     "text": [
      "/usr/local/lib/python3.8/dist-packages/urllib3/connectionpool.py:842: InsecureRequestWarning: Unverified HTTPS request is being made. Adding certificate verification is strongly advised. See: https://urllib3.readthedocs.io/en/latest/advanced-usage.html#ssl-warnings\n",
      "  warnings.warn((\n",
      "/usr/local/lib/python3.8/dist-packages/urllib3/connectionpool.py:842: InsecureRequestWarning: Unverified HTTPS request is being made. Adding certificate verification is strongly advised. See: https://urllib3.readthedocs.io/en/latest/advanced-usage.html#ssl-warnings\n",
      "  warnings.warn((\n",
      "/usr/local/lib/python3.8/dist-packages/urllib3/connectionpool.py:842: InsecureRequestWarning: Unverified HTTPS request is being made. Adding certificate verification is strongly advised. See: https://urllib3.readthedocs.io/en/latest/advanced-usage.html#ssl-warnings\n",
      "  warnings.warn((\n",
      "/usr/local/lib/python3.8/dist-packages/urllib3/connectionpool.py:842: InsecureRequestWarning: Unverified HTTPS request is being made. Adding certificate verification is strongly advised. See: https://urllib3.readthedocs.io/en/latest/advanced-usage.html#ssl-warnings\n",
      "  warnings.warn((\n",
      "/usr/local/lib/python3.8/dist-packages/urllib3/connectionpool.py:842: InsecureRequestWarning: Unverified HTTPS request is being made. Adding certificate verification is strongly advised. See: https://urllib3.readthedocs.io/en/latest/advanced-usage.html#ssl-warnings\n",
      "  warnings.warn((\n",
      "/usr/local/lib/python3.8/dist-packages/urllib3/connectionpool.py:842: InsecureRequestWarning: Unverified HTTPS request is being made. Adding certificate verification is strongly advised. See: https://urllib3.readthedocs.io/en/latest/advanced-usage.html#ssl-warnings\n",
      "  warnings.warn((\n",
      "/usr/local/lib/python3.8/dist-packages/urllib3/connectionpool.py:842: InsecureRequestWarning: Unverified HTTPS request is being made. Adding certificate verification is strongly advised. See: https://urllib3.readthedocs.io/en/latest/advanced-usage.html#ssl-warnings\n",
      "  warnings.warn((\n",
      "/usr/local/lib/python3.8/dist-packages/urllib3/connectionpool.py:842: InsecureRequestWarning: Unverified HTTPS request is being made. Adding certificate verification is strongly advised. See: https://urllib3.readthedocs.io/en/latest/advanced-usage.html#ssl-warnings\n",
      "  warnings.warn((\n",
      "/usr/local/lib/python3.8/dist-packages/urllib3/connectionpool.py:842: InsecureRequestWarning: Unverified HTTPS request is being made. Adding certificate verification is strongly advised. See: https://urllib3.readthedocs.io/en/latest/advanced-usage.html#ssl-warnings\n",
      "  warnings.warn((\n",
      "/usr/local/lib/python3.8/dist-packages/urllib3/connectionpool.py:842: InsecureRequestWarning: Unverified HTTPS request is being made. Adding certificate verification is strongly advised. See: https://urllib3.readthedocs.io/en/latest/advanced-usage.html#ssl-warnings\n",
      "  warnings.warn((\n",
      "/usr/local/lib/python3.8/dist-packages/urllib3/connectionpool.py:842: InsecureRequestWarning: Unverified HTTPS request is being made. Adding certificate verification is strongly advised. See: https://urllib3.readthedocs.io/en/latest/advanced-usage.html#ssl-warnings\n",
      "  warnings.warn((\n",
      "/usr/local/lib/python3.8/dist-packages/urllib3/connectionpool.py:842: InsecureRequestWarning: Unverified HTTPS request is being made. Adding certificate verification is strongly advised. See: https://urllib3.readthedocs.io/en/latest/advanced-usage.html#ssl-warnings\n",
      "  warnings.warn((\n",
      "/usr/local/lib/python3.8/dist-packages/urllib3/connectionpool.py:842: InsecureRequestWarning: Unverified HTTPS request is being made. Adding certificate verification is strongly advised. See: https://urllib3.readthedocs.io/en/latest/advanced-usage.html#ssl-warnings\n",
      "  warnings.warn((\n",
      "/usr/local/lib/python3.8/dist-packages/urllib3/connectionpool.py:842: InsecureRequestWarning: Unverified HTTPS request is being made. Adding certificate verification is strongly advised. See: https://urllib3.readthedocs.io/en/latest/advanced-usage.html#ssl-warnings\n",
      "  warnings.warn((\n",
      "/usr/local/lib/python3.8/dist-packages/urllib3/connectionpool.py:842: InsecureRequestWarning: Unverified HTTPS request is being made. Adding certificate verification is strongly advised. See: https://urllib3.readthedocs.io/en/latest/advanced-usage.html#ssl-warnings\n",
      "  warnings.warn((\n",
      "/usr/local/lib/python3.8/dist-packages/urllib3/connectionpool.py:842: InsecureRequestWarning: Unverified HTTPS request is being made. Adding certificate verification is strongly advised. See: https://urllib3.readthedocs.io/en/latest/advanced-usage.html#ssl-warnings\n",
      "  warnings.warn((\n",
      "/usr/local/lib/python3.8/dist-packages/urllib3/connectionpool.py:842: InsecureRequestWarning: Unverified HTTPS request is being made. Adding certificate verification is strongly advised. See: https://urllib3.readthedocs.io/en/latest/advanced-usage.html#ssl-warnings\n",
      "  warnings.warn((\n",
      "/usr/local/lib/python3.8/dist-packages/urllib3/connectionpool.py:842: InsecureRequestWarning: Unverified HTTPS request is being made. Adding certificate verification is strongly advised. See: https://urllib3.readthedocs.io/en/latest/advanced-usage.html#ssl-warnings\n",
      "  warnings.warn((\n",
      "/usr/local/lib/python3.8/dist-packages/urllib3/connectionpool.py:842: InsecureRequestWarning: Unverified HTTPS request is being made. Adding certificate verification is strongly advised. See: https://urllib3.readthedocs.io/en/latest/advanced-usage.html#ssl-warnings\n",
      "  warnings.warn((\n",
      "/usr/local/lib/python3.8/dist-packages/urllib3/connectionpool.py:842: InsecureRequestWarning: Unverified HTTPS request is being made. Adding certificate verification is strongly advised. See: https://urllib3.readthedocs.io/en/latest/advanced-usage.html#ssl-warnings\n",
      "  warnings.warn((\n",
      "/usr/local/lib/python3.8/dist-packages/urllib3/connectionpool.py:842: InsecureRequestWarning: Unverified HTTPS request is being made. Adding certificate verification is strongly advised. See: https://urllib3.readthedocs.io/en/latest/advanced-usage.html#ssl-warnings\n",
      "  warnings.warn((\n"
     ]
    }
   ],
   "source": [
    "#los países en que se realiza el Query (se ponen el mismo número y mismo orden que los coeficientes de normalizacion)\n",
    "Paises = ['AR','BR','CL','MX','DO','SV','PA','UY','CO','PE'] # todos los países\n",
    "#Paises = ['HT','DO'] # solo Haití y Dominicana\n",
    "\n",
    "#buscar por el tema:\n",
    "\"\"\"pytrends = TrendReq(hl='es', tz=360)\n",
    "suggs = pytrends.suggestions(\"manifestación\")\n",
    "print(suggs)\"\"\"\n",
    "#Query por a realizar\n",
    "Query = [\"/g/120ry1nd\"]\n",
    "\n",
    "frames = list()\n",
    "\n",
    "#pytrends = TrendReq(hl='en-US', tz=360)\n",
    "pytrends = TrendReq(hl='en-US', tz=360,   retries=2, backoff_factor=0.1, requests_args={'verify':False})\n",
    "\n",
    "\n",
    "j = 0\n",
    "\n",
    "#Se itera entre los países\n",
    "for i in Paises:\n",
    "    \n",
    "    #se hace el query\n",
    "    pytrends.build_payload(Query, timeframe= Intervalo, geo= str(i)) #se construye el query\n",
    "    data = pytrends.interest_over_time() # se extrae la linea de tiempo (interest_over_time) del query\n",
    "\n",
    "    ####data = data.rename(columns={\"/g/120ry1nd\": 'protestas + manifestaciones'})\n",
    "    data = data.reset_index()\n",
    "    #Se normaliza\n",
    "    data[str(Query[0])] = data[str(Query[0])].div(Normalizacion[int(j)])\n",
    "\n",
    "    # se apilan los resultados en una lista\n",
    "    frames.append(data)  \n",
    "    j = j+1\n",
    "    \n",
    "    time.sleep(30)\n",
    "    \n",
    "#se concatena las lista de resultados en un solo resultado    \n",
    "result = pd.concat(frames, keys= Paises)\n",
    "result = result.reset_index()\n",
    "result.rename(columns={'level_0': 'Pais'}, inplace=True)"
   ]
  },
  {
   "cell_type": "code",
   "execution_count": 11,
   "metadata": {
    "id": "gC3PltuRwRb3"
   },
   "outputs": [],
   "source": [
    "#Se hace el procesamiento y el filtro HP\n",
    "lamnda = 60 #venta de filtro hp\n",
    "\n",
    "resultados = list()\n",
    "for i in Paises:\n",
    "    data = result[result['Pais'] == str(i)] #el data no es el \n",
    "    Dataref = data.copy()\n",
    "    #se reemplaza los 0 para no generar error con el log\n",
    "    Dataref['log'] = data[str(Query[0])].replace(0, 0.01)\n",
    "    #Se saca el logaritmo natural\n",
    "    Dataref['log'] = np.log(Dataref['log'])\n",
    "    #Se aplica el filtro\n",
    "    Dataref['cycle'], Dataref['trend'] = sm.tsa.filters.hpfilter(Dataref['log'], lamnda)\n",
    "    \n",
    "    # se asigna el nivel de riesgo social\n",
    "    \n",
    "    #se puede comentar desde acá \n",
    "    \n",
    "    \"\"\"estado = []\n",
    "    for i in Dataref['trend']:\n",
    "        if i > 1.4:\n",
    "            if i > 2:\n",
    "                nivelriesgo = \"Muy Alto\"\n",
    "            else:\n",
    "                nivelriesgo = \"Alto\"\n",
    "        else:\n",
    "            nivelriesgo = \"Bajo\" \n",
    "        estado.append(nivelriesgo)\n",
    "    Dataref['Estado del riesgo'] = estado\"\"\"\n",
    "    #se puede comentar hasta acá \n",
    "    \n",
    "    resultados.append(Dataref) \n",
    "    \n",
    "    \n",
    "Final = pd.concat(resultados, keys= Paises)\n",
    "\n",
    "\n",
    "try:\n",
    "    Final = Final.reset_index()\n",
    "except:\n",
    "    pass\n",
    "Final.to_csv('TermometroRsocial.csv')"
   ]
  },
  {
   "cell_type": "code",
   "execution_count": 14,
   "metadata": {
    "colab": {
     "base_uri": "https://localhost:8080/",
     "height": 423
    },
    "id": "YK5aXV9FkXXv",
    "outputId": "7c3dc350-ff2e-4622-80fb-14751d8d6231"
   },
   "outputs": [
    {
     "data": {
      "text/html": [
       "\n",
       "  <div id=\"df-951c9abf-f8b5-4d86-afa0-77e84a5fd1da\">\n",
       "    <div class=\"colab-df-container\">\n",
       "      <div>\n",
       "<style scoped>\n",
       "    .dataframe tbody tr th:only-of-type {\n",
       "        vertical-align: middle;\n",
       "    }\n",
       "\n",
       "    .dataframe tbody tr th {\n",
       "        vertical-align: top;\n",
       "    }\n",
       "\n",
       "    .dataframe thead th {\n",
       "        text-align: right;\n",
       "    }\n",
       "</style>\n",
       "<table border=\"1\" class=\"dataframe\">\n",
       "  <thead>\n",
       "    <tr style=\"text-align: right;\">\n",
       "      <th></th>\n",
       "      <th></th>\n",
       "      <th>date</th>\n",
       "      <th>Pais</th>\n",
       "      <th>trend</th>\n",
       "    </tr>\n",
       "  </thead>\n",
       "  <tbody>\n",
       "    <tr>\n",
       "      <th rowspan=\"5\" valign=\"top\">AR</th>\n",
       "      <th>0</th>\n",
       "      <td>2010-01-01</td>\n",
       "      <td>AR</td>\n",
       "      <td>0.424288</td>\n",
       "    </tr>\n",
       "    <tr>\n",
       "      <th>1</th>\n",
       "      <td>2010-02-01</td>\n",
       "      <td>AR</td>\n",
       "      <td>0.592473</td>\n",
       "    </tr>\n",
       "    <tr>\n",
       "      <th>2</th>\n",
       "      <td>2010-03-01</td>\n",
       "      <td>AR</td>\n",
       "      <td>0.748585</td>\n",
       "    </tr>\n",
       "    <tr>\n",
       "      <th>3</th>\n",
       "      <td>2010-04-01</td>\n",
       "      <td>AR</td>\n",
       "      <td>0.877226</td>\n",
       "    </tr>\n",
       "    <tr>\n",
       "      <th>4</th>\n",
       "      <td>2010-05-01</td>\n",
       "      <td>AR</td>\n",
       "      <td>0.967552</td>\n",
       "    </tr>\n",
       "    <tr>\n",
       "      <th>...</th>\n",
       "      <th>...</th>\n",
       "      <td>...</td>\n",
       "      <td>...</td>\n",
       "      <td>...</td>\n",
       "    </tr>\n",
       "    <tr>\n",
       "      <th rowspan=\"5\" valign=\"top\">PE</th>\n",
       "      <th>1575</th>\n",
       "      <td>2022-10-01</td>\n",
       "      <td>PE</td>\n",
       "      <td>2.942613</td>\n",
       "    </tr>\n",
       "    <tr>\n",
       "      <th>1576</th>\n",
       "      <td>2022-11-01</td>\n",
       "      <td>PE</td>\n",
       "      <td>2.998864</td>\n",
       "    </tr>\n",
       "    <tr>\n",
       "      <th>1577</th>\n",
       "      <td>2022-12-01</td>\n",
       "      <td>PE</td>\n",
       "      <td>3.068067</td>\n",
       "    </tr>\n",
       "    <tr>\n",
       "      <th>1578</th>\n",
       "      <td>2023-01-01</td>\n",
       "      <td>PE</td>\n",
       "      <td>3.141699</td>\n",
       "    </tr>\n",
       "    <tr>\n",
       "      <th>1579</th>\n",
       "      <td>2023-02-01</td>\n",
       "      <td>PE</td>\n",
       "      <td>3.211912</td>\n",
       "    </tr>\n",
       "  </tbody>\n",
       "</table>\n",
       "<p>1580 rows × 3 columns</p>\n",
       "</div>\n",
       "      <button class=\"colab-df-convert\" onclick=\"convertToInteractive('df-951c9abf-f8b5-4d86-afa0-77e84a5fd1da')\"\n",
       "              title=\"Convert this dataframe to an interactive table.\"\n",
       "              style=\"display:none;\">\n",
       "        \n",
       "  <svg xmlns=\"http://www.w3.org/2000/svg\" height=\"24px\"viewBox=\"0 0 24 24\"\n",
       "       width=\"24px\">\n",
       "    <path d=\"M0 0h24v24H0V0z\" fill=\"none\"/>\n",
       "    <path d=\"M18.56 5.44l.94 2.06.94-2.06 2.06-.94-2.06-.94-.94-2.06-.94 2.06-2.06.94zm-11 1L8.5 8.5l.94-2.06 2.06-.94-2.06-.94L8.5 2.5l-.94 2.06-2.06.94zm10 10l.94 2.06.94-2.06 2.06-.94-2.06-.94-.94-2.06-.94 2.06-2.06.94z\"/><path d=\"M17.41 7.96l-1.37-1.37c-.4-.4-.92-.59-1.43-.59-.52 0-1.04.2-1.43.59L10.3 9.45l-7.72 7.72c-.78.78-.78 2.05 0 2.83L4 21.41c.39.39.9.59 1.41.59.51 0 1.02-.2 1.41-.59l7.78-7.78 2.81-2.81c.8-.78.8-2.07 0-2.86zM5.41 20L4 18.59l7.72-7.72 1.47 1.35L5.41 20z\"/>\n",
       "  </svg>\n",
       "      </button>\n",
       "      \n",
       "  <style>\n",
       "    .colab-df-container {\n",
       "      display:flex;\n",
       "      flex-wrap:wrap;\n",
       "      gap: 12px;\n",
       "    }\n",
       "\n",
       "    .colab-df-convert {\n",
       "      background-color: #E8F0FE;\n",
       "      border: none;\n",
       "      border-radius: 50%;\n",
       "      cursor: pointer;\n",
       "      display: none;\n",
       "      fill: #1967D2;\n",
       "      height: 32px;\n",
       "      padding: 0 0 0 0;\n",
       "      width: 32px;\n",
       "    }\n",
       "\n",
       "    .colab-df-convert:hover {\n",
       "      background-color: #E2EBFA;\n",
       "      box-shadow: 0px 1px 2px rgba(60, 64, 67, 0.3), 0px 1px 3px 1px rgba(60, 64, 67, 0.15);\n",
       "      fill: #174EA6;\n",
       "    }\n",
       "\n",
       "    [theme=dark] .colab-df-convert {\n",
       "      background-color: #3B4455;\n",
       "      fill: #D2E3FC;\n",
       "    }\n",
       "\n",
       "    [theme=dark] .colab-df-convert:hover {\n",
       "      background-color: #434B5C;\n",
       "      box-shadow: 0px 1px 3px 1px rgba(0, 0, 0, 0.15);\n",
       "      filter: drop-shadow(0px 1px 2px rgba(0, 0, 0, 0.3));\n",
       "      fill: #FFFFFF;\n",
       "    }\n",
       "  </style>\n",
       "\n",
       "      <script>\n",
       "        const buttonEl =\n",
       "          document.querySelector('#df-951c9abf-f8b5-4d86-afa0-77e84a5fd1da button.colab-df-convert');\n",
       "        buttonEl.style.display =\n",
       "          google.colab.kernel.accessAllowed ? 'block' : 'none';\n",
       "\n",
       "        async function convertToInteractive(key) {\n",
       "          const element = document.querySelector('#df-951c9abf-f8b5-4d86-afa0-77e84a5fd1da');\n",
       "          const dataTable =\n",
       "            await google.colab.kernel.invokeFunction('convertToInteractive',\n",
       "                                                     [key], {});\n",
       "          if (!dataTable) return;\n",
       "\n",
       "          const docLinkHtml = 'Like what you see? Visit the ' +\n",
       "            '<a target=\"_blank\" href=https://colab.research.google.com/notebooks/data_table.ipynb>data table notebook</a>'\n",
       "            + ' to learn more about interactive tables.';\n",
       "          element.innerHTML = '';\n",
       "          dataTable['output_type'] = 'display_data';\n",
       "          await google.colab.output.renderOutput(dataTable, element);\n",
       "          const docLink = document.createElement('div');\n",
       "          docLink.innerHTML = docLinkHtml;\n",
       "          element.appendChild(docLink);\n",
       "        }\n",
       "      </script>\n",
       "    </div>\n",
       "  </div>\n",
       "  "
      ],
      "text/plain": [
       "              date Pais     trend\n",
       "AR 0    2010-01-01   AR  0.424288\n",
       "   1    2010-02-01   AR  0.592473\n",
       "   2    2010-03-01   AR  0.748585\n",
       "   3    2010-04-01   AR  0.877226\n",
       "   4    2010-05-01   AR  0.967552\n",
       "...            ...  ...       ...\n",
       "PE 1575 2022-10-01   PE  2.942613\n",
       "   1576 2022-11-01   PE  2.998864\n",
       "   1577 2022-12-01   PE  3.068067\n",
       "   1578 2023-01-01   PE  3.141699\n",
       "   1579 2023-02-01   PE  3.211912\n",
       "\n",
       "[1580 rows x 3 columns]"
      ]
     },
     "execution_count": 14,
     "metadata": {},
     "output_type": "execute_result"
    }
   ],
   "source": [
    "Final_trend = Final[['date','Pais', 'trend']]\n",
    "Final_trend"
   ]
  },
  {
   "cell_type": "code",
   "execution_count": 17,
   "metadata": {
    "colab": {
     "base_uri": "https://localhost:8080/",
     "height": 514
    },
    "id": "XZnM5Ybckg5K",
    "outputId": "29f96997-799e-4672-ce60-cce8c3e65f62"
   },
   "outputs": [
    {
     "data": {
      "text/plain": [
       "<AxesSubplot:xlabel='date', ylabel='trend'>"
      ]
     },
     "execution_count": 17,
     "metadata": {},
     "output_type": "execute_result"
    },
    {
     "data": {
      "image/png": "[encoded data removed]",
      "text/plain": [
       "<Figure size 720x576 with 1 Axes>"
      ]
     },
     "metadata": {
      "needs_background": "light"
     },
     "output_type": "display_data"
    }
   ],
   "source": [
    "import seaborn as sns\n",
    "import matplotlib.pyplot as plt\n",
    "plt.figure(figsize=(10,8))\n",
    "sns.lineplot(data = Final_trend, x = 'date', y= 'trend', hue='Pais')"
   ]
  },
  {
   "cell_type": "code",
   "execution_count": null,
   "metadata": {
    "colab": {
     "base_uri": "https://localhost:8080/",
     "height": 17
    },
    "id": "VZL1hHPswoeO",
    "outputId": "97712b21-8dc7-4218-e0b4-1433ad60cb38"
   },
   "outputs": [
    {
     "data": {
      "application/javascript": [
       "\n",
       "    async function download(id, filename, size) {\n",
       "      if (!google.colab.kernel.accessAllowed) {\n",
       "        return;\n",
       "      }\n",
       "      const div = document.createElement('div');\n",
       "      const label = document.createElement('label');\n",
       "      label.textContent = `Downloading \"${filename}\": `;\n",
       "      div.appendChild(label);\n",
       "      const progress = document.createElement('progress');\n",
       "      progress.max = size;\n",
       "      div.appendChild(progress);\n",
       "      document.body.appendChild(div);\n",
       "\n",
       "      const buffers = [];\n",
       "      let downloaded = 0;\n",
       "\n",
       "      const channel = await google.colab.kernel.comms.open(id);\n",
       "      // Send a message to notify the kernel that we're ready.\n",
       "      channel.send({})\n",
       "\n",
       "      for await (const message of channel.messages) {\n",
       "        // Send a message to notify the kernel that we're ready.\n",
       "        channel.send({})\n",
       "        if (message.buffers) {\n",
       "          for (const buffer of message.buffers) {\n",
       "            buffers.push(buffer);\n",
       "            downloaded += buffer.byteLength;\n",
       "            progress.value = downloaded;\n",
       "          }\n",
       "        }\n",
       "      }\n",
       "      const blob = new Blob(buffers, {type: 'application/binary'});\n",
       "      const a = document.createElement('a');\n",
       "      a.href = window.URL.createObjectURL(blob);\n",
       "      a.download = filename;\n",
       "      div.appendChild(a);\n",
       "      a.click();\n",
       "      div.remove();\n",
       "    }\n",
       "  "
      ],
      "text/plain": [
       "<IPython.core.display.Javascript object>"
      ]
     },
     "metadata": {},
     "output_type": "display_data"
    },
    {
     "data": {
      "application/javascript": [
       "download(\"download_0e5ad573-cf35-4e33-ac79-e80de2ed481b\", \"TermometroRsocial.csv\", 163378)"
      ],
      "text/plain": [
       "<IPython.core.display.Javascript object>"
      ]
     },
     "metadata": {},
     "output_type": "display_data"
    }
   ],
   "source": [
    "from google.colab import files\n",
    "files.download('TermometroRsocial.csv')"
   ]
  },
  {
   "cell_type": "code",
   "execution_count": null,
   "metadata": {
    "id": "0MSuxlycwRb4",
    "outputId": "aa778dc0-2e8b-4423-ca63-e0d8c81401c3"
   },
   "outputs": [
    {
     "data": {
      "text/html": [
       "<div>\n",
       "<style scoped>\n",
       "    .dataframe tbody tr th:only-of-type {\n",
       "        vertical-align: middle;\n",
       "    }\n",
       "\n",
       "    .dataframe tbody tr th {\n",
       "        vertical-align: top;\n",
       "    }\n",
       "\n",
       "    .dataframe thead th {\n",
       "        text-align: right;\n",
       "    }\n",
       "</style>\n",
       "<table border=\"1\" class=\"dataframe\">\n",
       "  <thead>\n",
       "    <tr style=\"text-align: right;\">\n",
       "      <th></th>\n",
       "      <th>Pais</th>\n",
       "      <th>level_1</th>\n",
       "      <th>date</th>\n",
       "      <th>/g/120ry1nd</th>\n",
       "      <th>isPartial</th>\n",
       "    </tr>\n",
       "  </thead>\n",
       "  <tbody>\n",
       "    <tr>\n",
       "      <th>0</th>\n",
       "      <td>DO</td>\n",
       "      <td>0</td>\n",
       "      <td>2010-01-01</td>\n",
       "      <td>0.000000</td>\n",
       "      <td>False</td>\n",
       "    </tr>\n",
       "    <tr>\n",
       "      <th>1</th>\n",
       "      <td>DO</td>\n",
       "      <td>1</td>\n",
       "      <td>2010-02-01</td>\n",
       "      <td>6.481481</td>\n",
       "      <td>False</td>\n",
       "    </tr>\n",
       "    <tr>\n",
       "      <th>2</th>\n",
       "      <td>DO</td>\n",
       "      <td>2</td>\n",
       "      <td>2010-03-01</td>\n",
       "      <td>7.407407</td>\n",
       "      <td>False</td>\n",
       "    </tr>\n",
       "    <tr>\n",
       "      <th>3</th>\n",
       "      <td>DO</td>\n",
       "      <td>3</td>\n",
       "      <td>2010-04-01</td>\n",
       "      <td>5.000000</td>\n",
       "      <td>False</td>\n",
       "    </tr>\n",
       "    <tr>\n",
       "      <th>4</th>\n",
       "      <td>DO</td>\n",
       "      <td>4</td>\n",
       "      <td>2010-05-01</td>\n",
       "      <td>7.037037</td>\n",
       "      <td>False</td>\n",
       "    </tr>\n",
       "    <tr>\n",
       "      <th>...</th>\n",
       "      <td>...</td>\n",
       "      <td>...</td>\n",
       "      <td>...</td>\n",
       "      <td>...</td>\n",
       "      <td>...</td>\n",
       "    </tr>\n",
       "    <tr>\n",
       "      <th>149</th>\n",
       "      <td>DO</td>\n",
       "      <td>149</td>\n",
       "      <td>2022-06-01</td>\n",
       "      <td>6.481481</td>\n",
       "      <td>False</td>\n",
       "    </tr>\n",
       "    <tr>\n",
       "      <th>150</th>\n",
       "      <td>DO</td>\n",
       "      <td>150</td>\n",
       "      <td>2022-07-01</td>\n",
       "      <td>3.888889</td>\n",
       "      <td>False</td>\n",
       "    </tr>\n",
       "    <tr>\n",
       "      <th>151</th>\n",
       "      <td>DO</td>\n",
       "      <td>151</td>\n",
       "      <td>2022-08-01</td>\n",
       "      <td>2.592593</td>\n",
       "      <td>False</td>\n",
       "    </tr>\n",
       "    <tr>\n",
       "      <th>152</th>\n",
       "      <td>DO</td>\n",
       "      <td>152</td>\n",
       "      <td>2022-09-01</td>\n",
       "      <td>3.888889</td>\n",
       "      <td>False</td>\n",
       "    </tr>\n",
       "    <tr>\n",
       "      <th>153</th>\n",
       "      <td>DO</td>\n",
       "      <td>153</td>\n",
       "      <td>2022-10-01</td>\n",
       "      <td>6.666667</td>\n",
       "      <td>True</td>\n",
       "    </tr>\n",
       "  </tbody>\n",
       "</table>\n",
       "<p>154 rows × 5 columns</p>\n",
       "</div>"
      ],
      "text/plain": [
       "    Pais  level_1       date  /g/120ry1nd  isPartial\n",
       "0     DO        0 2010-01-01     0.000000      False\n",
       "1     DO        1 2010-02-01     6.481481      False\n",
       "2     DO        2 2010-03-01     7.407407      False\n",
       "3     DO        3 2010-04-01     5.000000      False\n",
       "4     DO        4 2010-05-01     7.037037      False\n",
       "..   ...      ...        ...          ...        ...\n",
       "149   DO      149 2022-06-01     6.481481      False\n",
       "150   DO      150 2022-07-01     3.888889      False\n",
       "151   DO      151 2022-08-01     2.592593      False\n",
       "152   DO      152 2022-09-01     3.888889      False\n",
       "153   DO      153 2022-10-01     6.666667       True\n",
       "\n",
       "[154 rows x 5 columns]"
      ]
     },
     "execution_count": 22,
     "metadata": {},
     "output_type": "execute_result"
    }
   ],
   "source": [
    "result[result['Pais'] == 'CO']"
   ]
  },
  {
   "cell_type": "code",
   "execution_count": null,
   "metadata": {
    "id": "ysSHJ5V8wRb4"
   },
   "outputs": [],
   "source": [
    "result.to_csv('TermometroGoogleTrends.csv')\n"
   ]
  },
  {
   "cell_type": "code",
   "execution_count": null,
   "metadata": {
    "id": "56XNUsJtwRb4",
    "outputId": "cc79e43e-c2b9-4ace-dbe7-e36a01b7e56a"
   },
   "outputs": [
    {
     "name": "stdout",
     "output_type": "stream",
     "text": [
      "[{'mid': '/m/06njd', 'title': 'Estanflación', 'type': 'Tema'}]\n"
     ]
    }
   ],
   "source": [
    "#sugerencia de que termino equivale a que tema ya clasificado por Google\n",
    "\n",
    "pytrends = TrendReq(hl='es', tz=360)\n",
    "suggs = pytrends.suggestions(\"estanflación\")\n",
    "print(suggs)"
   ]
  },
  {
   "cell_type": "code",
   "execution_count": null,
   "metadata": {
    "id": "4QLwxEnqwRb5"
   },
   "outputs": [],
   "source": [
    "# Descomentar esto si solo quiero importar el archivo guardado para no volver a correr google trends\n",
    "#import pandas as pd\n",
    "#import numpy as np\n",
    "#import matplotlib.pyplot as plt\n",
    "#Final = pd.read_csv('TermometroRsocial.csv')"
   ]
  },
  {
   "cell_type": "code",
   "execution_count": null,
   "metadata": {
    "id": "OSDTBFWywRb5",
    "outputId": "ae847299-79eb-43a8-c240-c7f55995c8af"
   },
   "outputs": [
    {
     "data": {
      "text/html": [
       "<div>\n",
       "<style scoped>\n",
       "    .dataframe tbody tr th:only-of-type {\n",
       "        vertical-align: middle;\n",
       "    }\n",
       "\n",
       "    .dataframe tbody tr th {\n",
       "        vertical-align: top;\n",
       "    }\n",
       "\n",
       "    .dataframe thead th {\n",
       "        text-align: right;\n",
       "    }\n",
       "</style>\n",
       "<table border=\"1\" class=\"dataframe\">\n",
       "  <thead>\n",
       "    <tr style=\"text-align: right;\">\n",
       "      <th></th>\n",
       "      <th>Unnamed: 0</th>\n",
       "      <th>Unnamed: 1</th>\n",
       "      <th>Pais</th>\n",
       "      <th>level_1</th>\n",
       "      <th>date</th>\n",
       "      <th>/g/120ry1nd</th>\n",
       "      <th>isPartial</th>\n",
       "      <th>log</th>\n",
       "      <th>cycle</th>\n",
       "      <th>trend</th>\n",
       "    </tr>\n",
       "  </thead>\n",
       "  <tbody>\n",
       "    <tr>\n",
       "      <th>108</th>\n",
       "      <td>DO</td>\n",
       "      <td>108</td>\n",
       "      <td>DO</td>\n",
       "      <td>108</td>\n",
       "      <td>2019-01-01</td>\n",
       "      <td>4.629630</td>\n",
       "      <td>False</td>\n",
       "      <td>1.532477</td>\n",
       "      <td>-0.152009</td>\n",
       "      <td>1.684485</td>\n",
       "    </tr>\n",
       "    <tr>\n",
       "      <th>109</th>\n",
       "      <td>DO</td>\n",
       "      <td>109</td>\n",
       "      <td>DO</td>\n",
       "      <td>109</td>\n",
       "      <td>2019-02-01</td>\n",
       "      <td>6.296296</td>\n",
       "      <td>False</td>\n",
       "      <td>1.839962</td>\n",
       "      <td>0.174227</td>\n",
       "      <td>1.665735</td>\n",
       "    </tr>\n",
       "    <tr>\n",
       "      <th>110</th>\n",
       "      <td>DO</td>\n",
       "      <td>110</td>\n",
       "      <td>DO</td>\n",
       "      <td>110</td>\n",
       "      <td>2019-03-01</td>\n",
       "      <td>6.666667</td>\n",
       "      <td>False</td>\n",
       "      <td>1.897120</td>\n",
       "      <td>0.252709</td>\n",
       "      <td>1.644411</td>\n",
       "    </tr>\n",
       "    <tr>\n",
       "      <th>111</th>\n",
       "      <td>DO</td>\n",
       "      <td>111</td>\n",
       "      <td>DO</td>\n",
       "      <td>111</td>\n",
       "      <td>2019-04-01</td>\n",
       "      <td>5.370370</td>\n",
       "      <td>False</td>\n",
       "      <td>1.680897</td>\n",
       "      <td>0.059053</td>\n",
       "      <td>1.621844</td>\n",
       "    </tr>\n",
       "    <tr>\n",
       "      <th>112</th>\n",
       "      <td>DO</td>\n",
       "      <td>112</td>\n",
       "      <td>DO</td>\n",
       "      <td>112</td>\n",
       "      <td>2019-05-01</td>\n",
       "      <td>5.000000</td>\n",
       "      <td>False</td>\n",
       "      <td>1.609438</td>\n",
       "      <td>0.005862</td>\n",
       "      <td>1.603576</td>\n",
       "    </tr>\n",
       "  </tbody>\n",
       "</table>\n",
       "</div>"
      ],
      "text/plain": [
       "    Unnamed: 0  Unnamed: 1 Pais  level_1        date  /g/120ry1nd  isPartial  \\\n",
       "108         DO         108   DO      108  2019-01-01     4.629630      False   \n",
       "109         DO         109   DO      109  2019-02-01     6.296296      False   \n",
       "110         DO         110   DO      110  2019-03-01     6.666667      False   \n",
       "111         DO         111   DO      111  2019-04-01     5.370370      False   \n",
       "112         DO         112   DO      112  2019-05-01     5.000000      False   \n",
       "\n",
       "          log     cycle     trend  \n",
       "108  1.532477 -0.152009  1.684485  \n",
       "109  1.839962  0.174227  1.665735  \n",
       "110  1.897120  0.252709  1.644411  \n",
       "111  1.680897  0.059053  1.621844  \n",
       "112  1.609438  0.005862  1.603576  "
      ]
     },
     "execution_count": 26,
     "metadata": {},
     "output_type": "execute_result"
    }
   ],
   "source": [
    "df_do = Final[Final['Pais'] == 'DO']\n",
    "#df_do = df_do[df_do['isPartial'] == False]\n",
    "df_do_5y = df_do[df_do['date'] >= '2018-12-31']\n",
    "df_do_5y.head()"
   ]
  },
  {
   "cell_type": "code",
   "execution_count": null,
   "metadata": {
    "id": "72A7CCTHwRb5",
    "outputId": "01ff8c45-cdd9-4944-f53d-26404c0a7fca"
   },
   "outputs": [
    {
     "data": {
      "image/png": "[encoded data removed]",
      "text/plain": [
       "<Figure size 720x360 with 1 Axes>"
      ]
     },
     "metadata": {
      "needs_background": "light"
     },
     "output_type": "display_data"
    }
   ],
   "source": [
    "import matplotlib.pyplot as plt\n",
    "plt.figure(figsize=(10,5))\n",
    "plt.plot(df_do_5y['date'], df_do_5y['cycle'])\n",
    "plt.xticks(rotation = 90)\n",
    "plt.title('Frecuencia Indicador Riesgo Social')\n",
    "plt.show()"
   ]
  },
  {
   "cell_type": "code",
   "execution_count": null,
   "metadata": {
    "id": "6eNNglmNwRb6",
    "outputId": "b3fb78fa-1275-4001-ae67-755f9d4fb1b3"
   },
   "outputs": [
    {
     "data": {
      "image/png": "[encoded data removed]",
      "text/plain": [
       "<Figure size 720x360 with 1 Axes>"
      ]
     },
     "metadata": {
      "needs_background": "light"
     },
     "output_type": "display_data"
    }
   ],
   "source": [
    "plt.figure(figsize=(10,5))\n",
    "plt.plot(df_do_5y['date'], df_do_5y['trend'])\n",
    "plt.xticks(rotation = 90)\n",
    "plt.title('Tendencia Indicador Riesgo Social')\n",
    "plt.show()"
   ]
  }
 ],
 "metadata": {
  "colab": {
   "provenance": []
  },
  "kernelspec": {
   "display_name": "Python 3 (ipykernel)",
   "language": "python",
   "name": "python3"
  },
  "language_info": {
   "codemirror_mode": {
    "name": "ipython",
    "version": 3
   },
   "file_extension": ".py",
   "mimetype": "text/x-python",
   "name": "python",
   "nbconvert_exporter": "python",
   "pygments_lexer": "ipython3",
   "version": "3.9.12"
  }
 },
 "nbformat": 4,
 "nbformat_minor": 1
}
